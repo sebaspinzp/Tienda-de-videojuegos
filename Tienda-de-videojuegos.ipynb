{
 "cells": [
  {
   "cell_type": "code",
   "execution_count": 1,
   "metadata": {
    "tags": [
     "e5c1f0c2-db9f-43a0-99b9-4875c52427e8"
    ],
    "trusted": true
   },
   "outputs": [],
   "source": [
    "# Cargamos librerias\n",
    "import pandas as pd\n",
    "import numpy as np\n",
    "from matplotlib import pyplot as plt\n",
    "from scipy import stats as st\n",
    "import seaborn as sns\n",
    "import math as mt\n",
    "from random import randint"
   ]
  },
  {
   "cell_type": "markdown",
   "metadata": {},
   "source": [
    "# Carga de los datos"
   ]
  },
  {
   "cell_type": "code",
   "execution_count": null,
   "metadata": {
    "trusted": true
   },
   "outputs": [
    {
     "name": "stdout",
     "output_type": "stream",
     "text": [
      "<class 'pandas.core.frame.DataFrame'>\n",
      "RangeIndex: 16715 entries, 0 to 16714\n",
      "Data columns (total 11 columns):\n",
      " #   Column           Non-Null Count  Dtype  \n",
      "---  ------           --------------  -----  \n",
      " 0   Name             16713 non-null  object \n",
      " 1   Platform         16715 non-null  object \n",
      " 2   Year_of_Release  16446 non-null  float64\n",
      " 3   Genre            16713 non-null  object \n",
      " 4   NA_sales         16715 non-null  float64\n",
      " 5   EU_sales         16715 non-null  float64\n",
      " 6   JP_sales         16715 non-null  float64\n",
      " 7   Other_sales      16715 non-null  float64\n",
      " 8   Critic_Score     8137 non-null   float64\n",
      " 9   User_Score       10014 non-null  object \n",
      " 10  Rating           9949 non-null   object \n",
      "dtypes: float64(6), object(5)\n",
      "memory usage: 1.4+ MB\n"
     ]
    }
   ],
   "source": [
    "# Cargamos los datos y obtenemos su informacion relevante\n",
    "icegames_2016= pd.read_csv(\"/dataset/games.csv\")\n",
    "icegames_2016.info()"
   ]
  },
  {
   "cell_type": "markdown",
   "metadata": {},
   "source": [
    "Se observan columnas con valores ausentes que deben ser verificados debido al numero con respecto al total de datos (Year_of_Release, Critic_Score, User_Score, Rating) y tambien existe una columna donde el tipo de dato no concuerda (User_Score). "
   ]
  },
  {
   "cell_type": "markdown",
   "metadata": {},
   "source": [
    "# Preparacion de los datos"
   ]
  },
  {
   "cell_type": "markdown",
   "metadata": {},
   "source": [
    "Se verifica que las columnas no tengan espacios y se convierte a minuscula"
   ]
  },
  {
   "cell_type": "code",
   "execution_count": 3,
   "metadata": {
    "trusted": true
   },
   "outputs": [],
   "source": [
    "def column_names_fix(cols):\n",
    "    fix_column=[]\n",
    "    for column_name in cols.columns:\n",
    "        column_name_no_spaces=column_name.strip()\n",
    "        fix_column.append(column_name_no_spaces.lower())\n",
    "    return fix_column\n",
    "# Se llama la funcion y se arreglan los nombres de columna\n",
    "icegames_2016.columns=column_names_fix(icegames_2016)"
   ]
  },
  {
   "cell_type": "markdown",
   "metadata": {},
   "source": [
    "Se verifican filas totalmente duplicadas del DF y lo que se hizo con cada una de ellas:"
   ]
  },
  {
   "cell_type": "code",
   "execution_count": 4,
   "metadata": {
    "trusted": true
   },
   "outputs": [
    {
     "name": "stdout",
     "output_type": "stream",
     "text": [
      "Filas totalmente duplicadas NAME: 0\n"
     ]
    }
   ],
   "source": [
    "print(\"Filas totalmente duplicadas NAME:\",icegames_2016.duplicated().sum())# No hay filas totalmente duplicadas"
   ]
  },
  {
   "cell_type": "markdown",
   "metadata": {},
   "source": [
    "Se verifican de cada columna los valores ausentes y duplicados si aplica, y si los datos deben ser convertidos."
   ]
  },
  {
   "cell_type": "code",
   "execution_count": 5,
   "metadata": {
    "trusted": true
   },
   "outputs": [
    {
     "name": "stdout",
     "output_type": "stream",
     "text": [
      "Valores ausentes NAME: 2\n",
      "Valores ausentes NAME despues del preprocesamiento: 0\n"
     ]
    }
   ],
   "source": [
    "#Name-----------------------------------------------------------------------------------------------------------------------\n",
    "# Valores ausentes\n",
    "print(\"Valores ausentes NAME:\", icegames_2016[\"name\"].isna().sum())\n",
    "#Se reemplazan los dos juegos sin nombre por unknown, ya que no afectaran en el analisis posterior de datos.\n",
    "icegames_2016[\"name\"].fillna(\"unknown\",inplace=True)\n",
    "# Como cada juego puede estar en distintas plataformas, no se analizan duplicados por nombre.\n",
    "print(\"Valores ausentes NAME despues del preprocesamiento:\", icegames_2016[\"name\"].isna().sum())"
   ]
  },
  {
   "cell_type": "code",
   "execution_count": 6,
   "metadata": {
    "trusted": true
   },
   "outputs": [
    {
     "name": "stdout",
     "output_type": "stream",
     "text": [
      "Valores ausentes PLATFORM: 0\n"
     ]
    }
   ],
   "source": [
    "#Platform -------------------------------------------------------------------------------------------------------------------\n",
    "print(\"Valores ausentes PLATFORM:\",icegames_2016[\"platform\"].isna().sum())# No existen valores ausentes"
   ]
  },
  {
   "cell_type": "code",
   "execution_count": 7,
   "metadata": {
    "trusted": true
   },
   "outputs": [
    {
     "name": "stdout",
     "output_type": "stream",
     "text": [
      "Valores ausentes YEAR_OF_RELEASE: 269\n",
      "Valores ausentes YEAR_OF_RELEASE despues del preprocesamiento: 0\n",
      "[2006 1985 2008 2009 1996 1989 1984 2005 1999 2007 2010 2013 2004 1990\n",
      " 1988 2002 2001 2011 1998 2015 2012 2014 1992 1997 1993 1994 1982 2016\n",
      " 2003 1986 2000 1995 1991 1981 1987 1980 1983]\n"
     ]
    }
   ],
   "source": [
    "#Year_of_release------------------------------------------------------------------------------------------------------------\n",
    "print(\"Valores ausentes YEAR_OF_RELEASE:\", icegames_2016[\"year_of_release\"].isna().sum())#269 valores ausentes\n",
    "# -----------------------------------------------------------------------------------------------\n",
    "# Verificacion de datos con año ausente para encontrar un patron.\n",
    "#print(\"Juegos con fecha de lanzamiento desconocida\",icegames_2016[icegames_2016[\"year_of_release\"].isna()].sample(20))\n",
    "# -----------------------------------------------------------------------------------------------\n",
    "# Se reemplazan las fechas faltantes con le fecha mas comun por plataforma.\n",
    "icegames_2016['year_of_release'] = icegames_2016['year_of_release'].fillna(icegames_2016.groupby('platform')['year_of_release'].transform(lambda x: x.mode().iloc[0]))\n",
    "icegames_2016[\"year_of_release\"]= icegames_2016[\"year_of_release\"].astype(\"int\")\n",
    "print(\"Valores ausentes YEAR_OF_RELEASE despues del preprocesamiento:\", icegames_2016[\"year_of_release\"].isna().sum())#0 valores ausentes\n",
    "print(icegames_2016[\"year_of_release\"].unique())\n"
   ]
  },
  {
   "cell_type": "markdown",
   "metadata": {},
   "source": [
    "- Los valores se cambiaron a enteros, ya que no existen años decimales y solo se encuentra el año y no la fecha completa. \n",
    "- los valores ausentes se llenaran con las fechas mas frecuentes segun la plataforma, ya que no existe un patron de consolas o nombre que nos indiquen a que año pertencen."
   ]
  },
  {
   "cell_type": "code",
   "execution_count": 8,
   "metadata": {
    "trusted": true
   },
   "outputs": [
    {
     "name": "stdout",
     "output_type": "stream",
     "text": [
      "Valores ausentes GENRE: 2\n",
      "Valores ausentes GENRE despues del preprocesamiento: 0\n"
     ]
    }
   ],
   "source": [
    "#Genre----------------------------------------------------------------------------------------------------------------------\n",
    "print(\"Valores ausentes GENRE:\", icegames_2016[\"genre\"].isna().sum())\n",
    "#Se reemplazan los dos juegos sin nombre genero por unknown, ya que no afectaran en el analisis posterior.\n",
    "icegames_2016[\"genre\"].fillna(\"unknown\",inplace=True)\n",
    "print(\"Valores ausentes GENRE despues del preprocesamiento:\", icegames_2016[\"genre\"].isna().sum())"
   ]
  },
  {
   "cell_type": "code",
   "execution_count": 9,
   "metadata": {
    "trusted": true
   },
   "outputs": [
    {
     "name": "stdout",
     "output_type": "stream",
     "text": [
      "Valores ausentes NA_sales: 0\n",
      "Valores ausentes EU_sales: 0\n",
      "Valores ausentes JP_sales: 0\n",
      "Valores ausentes Other_sales: 0\n"
     ]
    }
   ],
   "source": [
    "#NA_sales, EU_sales, JP_sales, other_sales-------------------------------------------------------------------------------\n",
    "print(\"Valores ausentes NA_sales:\",icegames_2016[\"na_sales\"].isna().sum())# No existen valores ausentes\n",
    "print(\"Valores ausentes EU_sales:\",icegames_2016[\"eu_sales\"].isna().sum())# No existen valores ausentes\n",
    "print(\"Valores ausentes JP_sales:\",icegames_2016[\"jp_sales\"].isna().sum())# No existen valores ausentes\n",
    "print(\"Valores ausentes Other_sales:\",icegames_2016[\"other_sales\"].isna().sum())# No existen valores ausentes"
   ]
  },
  {
   "cell_type": "code",
   "execution_count": 10,
   "metadata": {
    "trusted": true
   },
   "outputs": [
    {
     "name": "stdout",
     "output_type": "stream",
     "text": [
      "Valores ausentes Critic Score: 8578\n"
     ]
    }
   ],
   "source": [
    "#Critic score---------------------------------------------------------------------------------------------------------------\n",
    "print(\"Valores ausentes Critic Score:\",icegames_2016[\"critic_score\"].isna().sum())"
   ]
  },
  {
   "cell_type": "markdown",
   "metadata": {},
   "source": [
    "8578 Valores ausentes fueron encontrados en critic_score, como los valores ausentes en la columna critic score abarcan mas de la\n",
    "mitad del total de datos de la columna, cuando se analize solo se tomaran los datos que no contengan valores ausentes ya que esos\n",
    "datos sesgaran el analisis posterior."
   ]
  },
  {
   "cell_type": "code",
   "execution_count": 11,
   "metadata": {
    "trusted": true
   },
   "outputs": [
    {
     "name": "stdout",
     "output_type": "stream",
     "text": [
      "Valores ausentes User Score: 6701\n",
      "Total datos tbd:  2424\n",
      "Analisis datos tbd por columna, para encontrar un patron\n",
      "Datos TBD year_of_release\n",
      "1997      1\n",
      "1998      1\n",
      "1999      8\n",
      "2000     43\n",
      "2001     82\n",
      "2002    203\n",
      "2003     99\n",
      "2004    107\n",
      "2005    121\n",
      "2006    129\n",
      "2007    192\n",
      "2008    338\n",
      "2009    417\n",
      "2010    331\n",
      "2011    220\n",
      "2012     24\n",
      "2013     15\n",
      "2014     21\n",
      "2015     38\n",
      "2016     34\n",
      "Name: year_of_release, dtype: int64\n",
      "Datos TBD platform\n",
      "3DS      56\n",
      "DS      756\n",
      "GBA     262\n",
      "GC      103\n",
      "PC       49\n",
      "PS       45\n",
      "PS2     240\n",
      "PS3      87\n",
      "PS4       6\n",
      "PSP     123\n",
      "PSV       7\n",
      "Wii     440\n",
      "WiiU      5\n",
      "X360     84\n",
      "XB      150\n",
      "XOne     11\n",
      "Name: platform, dtype: int64\n",
      "Datos TBD genre\n",
      "Action          376\n",
      "Adventure       159\n",
      "Fighting         39\n",
      "Misc            449\n",
      "Platform        139\n",
      "Puzzle          211\n",
      "Racing          233\n",
      "Role-Playing     30\n",
      "Shooter          99\n",
      "Simulation      237\n",
      "Sports          413\n",
      "Strategy         39\n",
      "Name: genre, dtype: int64\n"
     ]
    }
   ],
   "source": [
    "#user score-----------------------------------------------------------------------------------------------------------------\n",
    "print(\"Valores ausentes User Score:\",icegames_2016[\"user_score\"].isna().sum())# 6701 valores ausentes\n",
    "# Se aplicara el mismo proceso que con critic_score donde no se usaran los datos que tengan este valor ausente debido a que\n",
    "#el analisis estara sesgado si los valores se llenan.\n",
    "\n",
    "# DATOS tbd----------------------------\n",
    "print(\"Total datos tbd: \",(icegames_2016[\"user_score\"]==\"tbd\").sum()) #Total datos tbd:  2424\n",
    "# Analisis datos tbd por columna, para encontrar un patron\n",
    "print(\"Analisis datos tbd por columna, para encontrar un patron\")\n",
    "print(\"Datos TBD year_of_release\")\n",
    "print(icegames_2016[icegames_2016[\"user_score\"]==\"tbd\"][\"year_of_release\"].value_counts().sort_index())\n",
    "print(\"Datos TBD platform\")\n",
    "print(icegames_2016[icegames_2016[\"user_score\"]==\"tbd\"][\"platform\"].value_counts().sort_index())\n",
    "print(\"Datos TBD genre\")\n",
    "print(icegames_2016[icegames_2016[\"user_score\"]==\"tbd\"][\"genre\"].value_counts().sort_index())\n",
    "\n",
    "\n",
    "# Los Datos tbd se reemplazaran por 11 para poder realizar la conversion de los datos de object a float para su posterior\n",
    "#analisis. \n",
    "icegames_2016[\"user_score\"].replace(\"tbd\",11,inplace=True)\n",
    "icegames_2016[\"user_score\"]=pd.to_numeric(icegames_2016[\"user_score\"],errors=\"ignore\")# Los datos invalidos se ignoran."
   ]
  },
  {
   "cell_type": "markdown",
   "metadata": {},
   "source": [
    "Columna user_score:\n",
    "\n",
    "- 6701 valores ausentes en user_score\n",
    "- Se aplicara el mismo proceso que con critic_score donde no se usaran los datos que tengan este valor ausente, debido a que\n",
    "el analisis estara sesgado si los valores se llenan con un valor medio o mediano.\n",
    "\n",
    "Datos tbd:\n",
    "\n",
    "1) Al analizar los datos tbd se encontro:\n",
    "- Total datos tbd:  2424\n",
    "- su año de lanzamiento va desde 1997 hasta 2016, lo que significa que no son juegos recientes.\n",
    "- Se encuentran en al menos 16 plataformas y todos los generos disponibles en los datos.\n",
    "\n",
    "2) Lo que pudo suceder con estos tbd:\n",
    "- En el momento en que los datos fueron tomados la mayoria de los usuarios seguian probando los juegos para dar una puntuacion, es decir el tiempo entre el lanazamiento del juego y la toma de los datos no fue el suficiente para obtener la cifra.\n",
    "- Los datos nunca fueron agregados a la base de datos.\n",
    "- Los usuarios no dieron puntuaciones validas, que pudieran ser analizadas.\n",
    "- Los usuarios no conocian del sistema de puntuaciones que podian dar de los juegos comprados.\n",
    "\n",
    "Ninguna de estas hipotesis pueden ser comprobada, ya que no se cuenta con la informacion de los sucedido con esos juegos, plataforma o la tienda vendedora cuando se tomaron los datos.\n",
    "\n",
    "3) Preprocesamiento datos tbd:\n",
    "- Los Datos tbd se reemplazaran por 11, ya que el rango de votacion general es de 0 a 10. \n",
    "- Los datos se convertiran de object a float para su posterior analisis numerico.\n",
    "- Los datos tbd no se tomaran en cuenta durante al analisis.\n"
   ]
  },
  {
   "cell_type": "code",
   "execution_count": 12,
   "metadata": {
    "trusted": true
   },
   "outputs": [
    {
     "name": "stdout",
     "output_type": "stream",
     "text": [
      "Valores ausentes rating: 6766\n"
     ]
    }
   ],
   "source": [
    "#rating---------------------------------------------------------------------------------------------------------------------\n",
    "print(\"Valores ausentes rating:\",icegames_2016[\"rating\"].isna().sum())#6766 valores ausentes\n",
    "# Se aplicara el mismo proceso que con critic_score donde no se usaran los datos que tengan este valor ausente debido a que\n",
    "#el analisis estara sesgado si los valores se llenan."
   ]
  },
  {
   "cell_type": "code",
   "execution_count": 13,
   "metadata": {
    "trusted": true
   },
   "outputs": [],
   "source": [
    "# Se crea la columa de ventas totales\n",
    "icegames_2016[\"total_sales\"]=icegames_2016[\"na_sales\"]+icegames_2016[\"eu_sales\"]+icegames_2016[\"jp_sales\"]+icegames_2016[\"other_sales\"]"
   ]
  },
  {
   "cell_type": "markdown",
   "metadata": {},
   "source": [
    "Los valores ausentes en user_score y critic_score son un porcentaje muy alto del total de datos, si estos datos se llenan con la mediana, causaran un sesgo en todos los analisis realizados.\n",
    "\n",
    "1) user_score:\n",
    "\n",
    "total ausentes:6701\n",
    "\n",
    "total filas: 16715\n",
    "\n",
    "% de datos ausentes con respecto al total: 40%\n",
    "\n",
    "user_score tambien contiene datos tbd: 2424, los cuales sesgaran el analisis si se llenaran con la mediana.\n",
    "\n",
    "\n",
    "2) critic_score:\n",
    "\n",
    "total ausentes:6766\n",
    "\n",
    "total filas: 16715\n",
    "\n",
    "% de datos ausentes con respecto al total: 40.4%\n",
    "\n",
    "\n",
    "\n",
    "Los analisis posteriores se realizaran sin tener en cuenta esos valores ausentes."
   ]
  },
  {
   "cell_type": "markdown",
   "metadata": {},
   "source": [
    "# Analisis de datos"
   ]
  },
  {
   "cell_type": "code",
   "execution_count": 14,
   "metadata": {
    "trusted": true
   },
   "outputs": [
    {
     "name": "stdout",
     "output_type": "stream",
     "text": [
      "Juegos lanzados por año: \n",
      " 2016     502\n",
      "2015     607\n",
      "2014     581\n",
      "2013     544\n",
      "2012     653\n",
      "2011    1216\n",
      "2010    1255\n",
      "2009    1460\n",
      "2008    1457\n",
      "2007    1197\n",
      "2006    1022\n",
      "2005     939\n",
      "2004     762\n",
      "2003     796\n",
      "2002     888\n",
      "2001     482\n",
      "2000     351\n",
      "1999     341\n",
      "1998     386\n",
      "1997     289\n",
      "1996     263\n",
      "1995     219\n",
      "1994     121\n",
      "1993      62\n",
      "1992      43\n",
      "1991      41\n",
      "1990      16\n",
      "1989      17\n",
      "1988      15\n",
      "1987      16\n",
      "1986      21\n",
      "1985      14\n",
      "1984      14\n",
      "1983      17\n",
      "1982      36\n",
      "1981      63\n",
      "1980       9\n",
      "Name: year_of_release, dtype: int64\n"
     ]
    }
   ],
   "source": [
    "# Juegos lanzados por año\n",
    "print(\"Juegos lanzados por año:\",\"\\n\",icegames_2016[\"year_of_release\"].value_counts().sort_index(ascending=False))\n",
    "icegames_2016=icegames_2016[icegames_2016[\"year_of_release\"]>2000]"
   ]
  },
  {
   "cell_type": "markdown",
   "metadata": {},
   "source": [
    "- Entre los años 1998 y 2000 el numero de juegos lanzados se mantuvo en un rango de 341 y 386 juegos, para despues empezar\n",
    "a crecer año tras año hasta un maximo de 1460 juegos en 2009.\n",
    "- En el año 2001 se lanzaron un total de 482 juegos, cifra la cual se acerca al total obtenido del ultimo año.\n",
    "\n",
    "Para el analisis se utilizaran los juegos lanzados desde el año 2001."
   ]
  },
  {
   "cell_type": "code",
   "execution_count": 15,
   "metadata": {
    "trusted": true
   },
   "outputs": [
    {
     "name": "stdout",
     "output_type": "stream",
     "text": [
      "platform\n",
      "PS2     1216.60\n",
      "X360     971.42\n",
      "PS3      939.65\n",
      "Wii      907.51\n",
      "DS       806.10\n",
      "GBA      317.78\n",
      "PS4      314.14\n",
      "PSP      294.05\n",
      "3DS      259.00\n",
      "XB       256.75\n",
      "PC       204.82\n",
      "GC       198.93\n",
      "XOne     159.32\n",
      "WiiU      82.19\n",
      "PSV       54.07\n",
      "PS        44.33\n",
      "GB         9.24\n",
      "N64        3.33\n",
      "DC         1.42\n",
      "WS         0.28\n",
      "Name: total_sales, dtype: float64\n"
     ]
    }
   ],
   "source": [
    "# Plataformas con mayores ventas\n",
    "print(icegames_2016.groupby(\"platform\")[\"total_sales\"].sum().sort_values(ascending=False))\n",
    "# PS2 - X360 - WII - PS3 - DS\n",
    "# Distribucion de ventas totales por año para cada una de las 5 plataformas lideres en ventas totales"
   ]
  },
  {
   "cell_type": "markdown",
   "metadata": {},
   "source": [
    "Distribucion de ventas totales por año para cada una de las 5 plataformas lideres en ventas totales:\n",
    "PS2 - X360 - WII - PS3 - DS"
   ]
  },
  {
   "cell_type": "code",
   "execution_count": 16,
   "metadata": {
    "trusted": true
   },
   "outputs": [
    {
     "data": {
      "image/png": "[encoded data removed]",
      "text/plain": [
       "<Figure size 1000x500 with 1 Axes>"
      ]
     },
     "metadata": {},
     "output_type": "display_data"
    }
   ],
   "source": [
    "# PS2\n",
    "icegames_ps2= icegames_2016[icegames_2016[\"platform\"].str.lower()==\"ps2\"]\n",
    "total_sales_ps2_per_year=icegames_ps2.groupby(\"year_of_release\")[\"total_sales\"].sum()\n",
    "total_sales_ps2_per_year.plot(kind=\"bar\",figsize=[10,5],color=\"mediumpurple\",grid=True,rot=30,title=\"Total de ventas por año en la plataforma PS2\",xlabel=\"Año de lanzamiento\",ylabel=\"Ventas totales en millones de dolares estadounidenses\")\n",
    "plt.show()"
   ]
  },
  {
   "cell_type": "markdown",
   "metadata": {},
   "source": [
    "Para la plataforma PS2 se puede evidenciar:\n",
    "- Disminucion progresiva en el numero de juegos lanzados en la plataforma desde el año 2005. La plataforma presento un 5 años donde las ventas se mantuvieron.\n",
    "- Se observa que el numero de juegos comenzo a disminuir cuando la nueva version de la consola (PS3) comenzo a obtener popularidad.\n",
    "- El lanzamientos de nuevos juegos fue disminuyendo progresivamente desde el año 2004 hasta llegar a 0 en un total de 8 años.\n",
    "- Desde el año analizado (2001), esta plataforma tuvo un punto de popularidad alto, el cual fue disminuyendo progresivamente hasta desparecer."
   ]
  },
  {
   "cell_type": "code",
   "execution_count": 17,
   "metadata": {
    "trusted": true
   },
   "outputs": [
    {
     "data": {
      "image/png": "[encoded data removed]",
      "text/plain": [
       "<Figure size 1000x500 with 1 Axes>"
      ]
     },
     "metadata": {},
     "output_type": "display_data"
    }
   ],
   "source": [
    "#X360\n",
    "icegames_x360= icegames_2016[icegames_2016[\"platform\"].str.lower()==\"x360\"]\n",
    "total_sales_x360_per_year=icegames_x360.groupby(\"year_of_release\")[\"total_sales\"].sum()\n",
    "total_sales_x360_per_year.plot(kind=\"bar\",figsize=[10,5],color=\"mediumpurple\",grid=True,rot=30,title=\"Total ventas por año en la plataforma X360\",xlabel=\"Año de lanzamiento\",ylabel=\"Ventas totales en millones de dolares estadounidenses\")\n",
    "plt.show()"
   ]
  },
  {
   "cell_type": "markdown",
   "metadata": {},
   "source": [
    "Para la plataforma X360 se puede evidenciar:\n",
    "\n",
    "- Un aumento progresivo en el numero de juegos desde el 2005 que llego a su punto mas alto en el año 2010, punto desde el cual posteriormente comenzo a perder popularidad y disminuir sus lanzamientos hasta un valor cercano a 0 en un total de 7 años.  \n",
    "- A esta plataforma le tomo un total de 6 años llegar a su punto de popularidad mas alto.\n",
    "- En el rango de fechas analizado (2001-2016), se puede analizar el inicio y fin de la popularidad de este plataforma."
   ]
  },
  {
   "cell_type": "code",
   "execution_count": 18,
   "metadata": {
    "trusted": true
   },
   "outputs": [
    {
     "data": {
      "image/png": "[encoded data removed]",
      "text/plain": [
       "<Figure size 1000x500 with 1 Axes>"
      ]
     },
     "metadata": {},
     "output_type": "display_data"
    }
   ],
   "source": [
    "#wii\n",
    "icegames_wii= icegames_2016[icegames_2016[\"platform\"].str.lower()==\"wii\"]\n",
    "total_sales_wii_per_year=icegames_wii.groupby(\"year_of_release\")[\"total_sales\"].sum()\n",
    "total_sales_wii_per_year.plot(kind=\"bar\",figsize=[10,5],color=\"mediumpurple\",grid=True,rot=30,title=\"Total ventas por año en la plataforma Wii\",xlabel=\"Año de lanzamiento\",ylabel=\"Ventas totales en millones de dolares estadounidenses\")\n",
    "plt.show()"
   ]
  },
  {
   "cell_type": "markdown",
   "metadata": {},
   "source": [
    "Para la plataforma Wii se puede evidenciar:\n",
    "\n",
    "- La plataforma se mantuvo en aumento de popularidad por 5 años hasta el 2009, posteriormente sus ventas comenzaron a disminuir\n",
    "progresivamente hasta casi desaparecer en 2016.\n",
    "- A la plataforma le tomo al menos 8 años perder toda su popularidad hasta casi desaparecer.\n",
    "- En las fechas analizadas (2001-2016) esta plataforma empezo en un punto de popularidad alto con respecto a las otras plataformas y fue disminuyendo progresivamente hasta desparecer."
   ]
  },
  {
   "cell_type": "code",
   "execution_count": 19,
   "metadata": {
    "trusted": true
   },
   "outputs": [
    {
     "data": {
      "image/png": "[encoded data removed]",
      "text/plain": [
       "<Figure size 1000x500 with 1 Axes>"
      ]
     },
     "metadata": {},
     "output_type": "display_data"
    }
   ],
   "source": [
    "#PS3\n",
    "icegames_ps3= icegames_2016[icegames_2016[\"platform\"].str.lower()==\"ps3\"]\n",
    "total_sales_ps3_per_year=icegames_ps3.groupby(\"year_of_release\")[\"total_sales\"].sum()\n",
    "total_sales_ps3_per_year.plot(kind=\"bar\",figsize=[10,5],color=\"mediumpurple\",grid=True,rot=30,title=\"Total ventas por año en la plataforma PS3\",xlabel=\"Año de lanzamiento\",ylabel=\"Ventas totales en millones de dolares estadounidenses\")\n",
    "plt.show()"
   ]
  },
  {
   "cell_type": "markdown",
   "metadata": {},
   "source": [
    "Para la plataforma PS3 se puede evidenciar:\n",
    "\n",
    "- Se puede observar baja popularidad al inicio de su lanzamiento, el cual fue aumentando progresivamente por 6 años hasta su punto maximo en 2011.\n",
    "- Se puede observar que el aumento en ventas de la PS3 desde el 2006 es inversamente proporcional con las ventas de la PS2.\n",
    "- La popularidad de esta plataforma fue disminuyendo por al menos 6 años hasta casi desaparecer en 2016.\n",
    "- En el rango de fechas analizado (2001-2016), se puede analizar el inicio y fin de la popularidad de este plataforma."
   ]
  },
  {
   "cell_type": "code",
   "execution_count": 20,
   "metadata": {
    "trusted": true
   },
   "outputs": [
    {
     "data": {
      "image/png": "[encoded data removed]",
      "text/plain": [
       "<Figure size 1000x500 with 1 Axes>"
      ]
     },
     "metadata": {},
     "output_type": "display_data"
    }
   ],
   "source": [
    "#DS\n",
    "icegames_ds= icegames_2016[icegames_2016[\"platform\"].str.lower()==\"ds\"]\n",
    "total_sales_ds_per_year=icegames_ds.groupby(\"year_of_release\")[\"total_sales\"].sum()\n",
    "total_sales_ds_per_year.plot(kind=\"bar\",figsize=[10,5],color=\"mediumpurple\",grid=True,rot=30,title=\"Total ventas por año en la plataforma DS\",xlabel=\"Año de lanzamiento\",ylabel=\"Ventas totales en millones de dolares estadounidenses\")\n",
    "plt.show()"
   ]
  },
  {
   "cell_type": "markdown",
   "metadata": {},
   "source": [
    "Para la plataforma DS se puede evidenciar:\n",
    "\n",
    "- Se observa que la plataforma el primer año tuvo un bajo nivel de popularidad, el cual aumento drasticamente para mantenerse por al menos 5 años en niveles altos de popularidad.\n",
    "- Su popularidad empezo a decaer progresivamente hasta casi desaparecer en 6 años.\n",
    "- En el rango de fechas analizado (2001-2016), se puede analizar el inicio y fin de la popularidad de este plataforma."
   ]
  },
  {
   "cell_type": "markdown",
   "metadata": {},
   "source": [
    "CONCLUSIONES FINALES:\n",
    "1) A las plataformas nuevas les toma aproximadamente 5 - 6 años llegar a su maximo de popularidad para posteriormente empezar a disminuir.\n",
    "2) A las plataformas antiguas les toma aproximadamente 6 - 8 años perder su popularidad hasta finalmente desaparecer del mercado."
   ]
  },
  {
   "cell_type": "code",
   "execution_count": 21,
   "metadata": {
    "trusted": true
   },
   "outputs": [
    {
     "data": {
      "text/plain": [
       "<AxesSubplot:xlabel='total_sales', ylabel='platform'>"
      ]
     },
     "execution_count": 21,
     "metadata": {},
     "output_type": "execute_result"
    },
    {
     "data": {
      "image/png": "[encoded data removed]",
      "text/plain": [
       "<Figure size 640x480 with 1 Axes>"
      ]
     },
     "metadata": {},
     "output_type": "display_data"
    }
   ],
   "source": [
    "# Crea un diagrama de caja para las ventas globales de todos los juegos por plataforma-----------------------------------------\n",
    "\n",
    "#Debido a los numerosos valores atipicos en las distribuciones de todas las plataformas, se filtraron los datos atipicos, para\n",
    "# visualizar los datos..\n",
    "\n",
    "#DIAGRAMA DE CAJA SIN FILTRAR DATOS:\n",
    "sns.boxplot(data=icegames_2016,x=icegames_2016[\"total_sales\"],y=icegames_2016[\"platform\"],palette = \"Set3\",fliersize = 3)"
   ]
  },
  {
   "cell_type": "code",
   "execution_count": 32,
   "metadata": {
    "trusted": true
   },
   "outputs": [
    {
     "data": {
      "text/plain": [
       "<AxesSubplot:xlabel='total_sales', ylabel='platform'>"
      ]
     },
     "execution_count": 32,
     "metadata": {},
     "output_type": "execute_result"
    },
    {
     "data": {
      "image/png": "[encoded data removed]",
      "text/plain": [
       "<Figure size 640x480 with 1 Axes>"
      ]
     },
     "metadata": {},
     "output_type": "display_data"
    }
   ],
   "source": [
    "# DIAGRAMA DE CAJA DATOS FILTRADOS:\n",
    "# Los datos filtrados se utilizaran para las posteriores pruebas de hipotesis.\n",
    "icegames_2016_no_atipicos=icegames_2016[icegames_2016[\"total_sales\"]<2]\n",
    "sns.boxplot(data=icegames_2016_no_atipicos,x=icegames_2016_no_atipicos[\"total_sales\"],y=icegames_2016_no_atipicos[\"platform\"],palette = \"Set3\",fliersize = 3)"
   ]
  },
  {
   "cell_type": "markdown",
   "metadata": {},
   "source": [
    "Como el total de las ventas de las plataformas contienen datos atipicos que varian significativamente con Q1 y Q3, se filtraron los datos para su correcta visualizacion y analisis en el diagrama de caja, y posteriormente en las pruebas de hipotesis.\n",
    "\n",
    "En el digrama de caja por plataforma se evidencia:\n",
    "- Solo 4 plataformas (WS, DC, N64 y GB) no poseen datos atipicos.\n",
    "- Las ventas promedio de varias plataformas presentan datos cercanos. Sin embargo, hay plataformas donde:\n",
    "El promedio de ventas fue significativamente menor (WS, DC, PC, PSV) y el promedio de ventas fue significativamente mayor (GB)\n",
    "- Los valores atipicos demuestran la popularidad que tuvieron algunos juegos en el mercado.\n",
    "- Los datos de la mayoria de las plataformas se encuentran sesgados hacia la derecha debido a que la mayoria de datos se encuentran por debajo de la mediana y el resto de datos mas grandes se encuentran al lado derecho, aumentando el valor de la media. "
   ]
  },
  {
   "cell_type": "code",
   "execution_count": 23,
   "metadata": {
    "trusted": true
   },
   "outputs": [
    {
     "data": {
      "text/plain": [
       "<AxesSubplot:title={'center':'Critic score VS Total sales'}, xlabel='Total sales in millions of US dollars', ylabel='critic_score'>"
      ]
     },
     "execution_count": 23,
     "metadata": {},
     "output_type": "execute_result"
    },
    {
     "data": {
      "image/png": "[encoded data removed]",
      "text/plain": [
       "<Figure size 640x480 with 1 Axes>"
      ]
     },
     "metadata": {},
     "output_type": "display_data"
    },
    {
     "data": {
      "image/png": "[encoded data removed]",
      "text/plain": [
       "<Figure size 640x480 with 1 Axes>"
      ]
     },
     "metadata": {},
     "output_type": "display_data"
    }
   ],
   "source": [
    "# Mira cómo las reseñas de usuarios y profesionales afectan las ventas de una plataforma popular (tu elección). \n",
    "#Crea un gráfico de dispersión y calcula la correlación entre las reseñas y las ventas. Saca conclusiones.\n",
    "\n",
    "# X360 plataforma popular\n",
    "\n",
    "#icegames_2016_user_score\n",
    "# Se quitan los 11 que eran tbd, los ausentes y se filtra por x360\n",
    "icegames_2016_user=icegames_2016[(icegames_2016[\"user_score\"]<11) & ~(icegames_2016[\"user_score\"].isna()) & (icegames_2016[\"platform\"]==\"X360\")]\n",
    "icegames_2016_user.plot(y=\"user_score\",x=\"total_sales\",kind=\"scatter\",title=\"User score VS Total sales\",xlabel=\"Total sales in millions of US dollars\")\n",
    "\n",
    "icegames_2016_critic=icegames_2016[~(icegames_2016[\"critic_score\"].isna()) & (icegames_2016[\"platform\"]==\"X360\")]\n",
    "icegames_2016_user.plot(y=\"critic_score\",x=\"total_sales\",kind=\"scatter\",title=\"Critic score VS Total sales\",xlabel=\"Total sales in millions of US dollars\")"
   ]
  },
  {
   "cell_type": "markdown",
   "metadata": {},
   "source": [
    "User score VS Total sales\n",
    "- En este grafico se puede evidenciar que la puntuacion de los usuarios no afecta significativamente en el total de ventas de juegos, la mayoria de los datos se concentran entre 0 y 2.5 aproximadamente y no aumentan siginificativamente segun la puntuacion. Sin embargo, al analizar los pocos juegos que sobrepasan ese rango, la puntuacion varia desde 2 a 9 aproximadamente, por lo que pueden existir juegos que por su popularidad, marketing, calidad o puntuacion de la critica obtuvieron ese total de ventas superiores al resto.\n",
    "\n",
    "Critic score VS Total sales\n",
    "- En este grafico se puede evidenciar que la puntuacion de la critica no afecta significativamente, pero si un poco mas que la puntuacion de usuario en el total de ventas. Ademas los juegos que superan el rango de ventas de 0 y 2.5, se concentran en puntuaciones altas de la critica a diferencia de la puntuacion de usuario donde los datos se distribuyen en diferentes puntuaciones de usuario tanto altas como bajas.\n"
   ]
  },
  {
   "cell_type": "code",
   "execution_count": 24,
   "metadata": {
    "trusted": true
   },
   "outputs": [
    {
     "name": "stdout",
     "output_type": "stream",
     "text": [
      "Correlacion user_score y total_sales:  0.11445882978454185\n",
      "Correlacion critic_score y total_sales:  0.3937358653072588\n"
     ]
    }
   ],
   "source": [
    "# Correlacion\n",
    "# User_score y total_sales\n",
    "print(\"Correlacion user_score y total_sales: \",icegames_2016_user[\"user_score\"].corr(icegames_2016_user[\"total_sales\"]))\n",
    "#Critic_score y total_sales\n",
    "print(\"Correlacion critic_score y total_sales: \",icegames_2016_critic[\"critic_score\"].corr(icegames_2016_critic[\"total_sales\"]))"
   ]
  },
  {
   "cell_type": "markdown",
   "metadata": {},
   "source": [
    "Se puede evidenciar que existe una correlacion un poco mas alta entre los datos de critic_score y total-sales, lo que significa que las ventas de algunos juegos fueron afectadas mayormente por la puntuacion de la critica y menormente por la puntuacion de los usuarios. Estos se puede visualizar en el grafico de dispersion donde la mayoria de puntos se agrupan en puntuaciones altas dadas por la critica."
   ]
  },
  {
   "cell_type": "code",
   "execution_count": 25,
   "metadata": {
    "trusted": true
   },
   "outputs": [
    {
     "data": {
      "image/png": "[encoded data removed]",
      "text/plain": [
       "<Figure size 1200x600 with 1 Axes>"
      ]
     },
     "metadata": {},
     "output_type": "display_data"
    }
   ],
   "source": [
    "#Teniendo en cuenta tus conclusiones compara las ventas de los mismos juegos en otras plataformas.\n",
    "# Se obtuvieron los 5 juegos multiplataforma con mayores ventas y se mostraron en un grafico de barras.\n",
    "icegames_2016_multiplatform=icegames_2016.groupby(\"name\")[\"platform\"].nunique()# Se obtienen juegos que son multiplataforma\n",
    "icegames_2016_multiplatform=icegames_2016_multiplatform[icegames_2016_multiplatform>1].index # Se obtienen los juegos por indice\n",
    "icegames_2016_multiplatform_filtered=icegames_2016[icegames_2016[\"name\"].isin(icegames_2016_multiplatform)]\n",
    "icegames_2016_multiplatform_high_sales= icegames_2016_multiplatform_filtered.groupby(\"name\")[\"total_sales\"].sum().sort_values(ascending=False).head(5).index\n",
    "icegames_2016_multiplatform=icegames_2016[icegames_2016[\"name\"].isin(icegames_2016_multiplatform_high_sales)]\n",
    "\n",
    "plt.figure(figsize=(12, 6))\n",
    "sns.barplot(\n",
    "    data=icegames_2016_multiplatform, \n",
    "    x='name', \n",
    "    y='total_sales', \n",
    "    hue='platform', \n",
    "    palette='husl'\n",
    ")\n",
    "plt.title(\"Comparativa de Ventas por Plataforma - Top 5 Videojuegos\", fontsize=14)\n",
    "plt.xlabel(\"Videojuego\", fontsize=12)\n",
    "plt.ylabel(\"Ventas Totales\", fontsize=12)\n",
    "plt.legend(title=\"Plataforma\", bbox_to_anchor=(1.05, 1), loc='upper left')\n",
    "plt.grid(axis='y', linestyle='--', alpha=0.7)\n",
    "plt.tight_layout()\n",
    "plt.show()"
   ]
  },
  {
   "cell_type": "markdown",
   "metadata": {},
   "source": [
    "Se obtuvieron los 5 juegos multiplataforma de mayores de ventas.\n",
    "- Las plataformas X360 y PS3 presentan ventas similares, superiores al resto de plataformas.\n",
    "- La plataforma PS4 es un nuevo lanzamiento, que estaria poco a poco obteniendo popularidad, para reemplazar a su antigua version PS3.\n",
    "- Existen plataformas las cuales no alcanzaron los 2.5 millones de dolares en ventas, lo cual pudo deberse a la perdida de popularidad en las mismas, cuando los 5 juegos fueron lanzados."
   ]
  },
  {
   "cell_type": "code",
   "execution_count": 26,
   "metadata": {
    "trusted": true
   },
   "outputs": [
    {
     "name": "stdout",
     "output_type": "stream",
     "text": [
      "genre\n",
      "Action          1515.43\n",
      "Sports          1108.95\n",
      "Shooter          913.45\n",
      "Misc             715.02\n",
      "Role-Playing     705.32\n",
      "Racing           545.35\n",
      "Platform         479.56\n",
      "Simulation       334.05\n",
      "Fighting         296.04\n",
      "Adventure        183.54\n",
      "Puzzle           136.03\n",
      "Strategy         108.19\n",
      "Name: total_sales, dtype: float64\n"
     ]
    }
   ],
   "source": [
    "# Echa un vistazo a la distribución general de los juegos por género. ¿Qué se puede decir de los géneros más rentables? \n",
    "#¿Puedes generalizar acerca de los géneros con ventas altas y bajas?\n",
    "icegames_2016_most_rental_genres=icegames_2016.groupby(\"genre\")[\"total_sales\"].sum().sort_values(ascending=False)\n",
    "print(icegames_2016_most_rental_genres)"
   ]
  },
  {
   "cell_type": "markdown",
   "metadata": {},
   "source": [
    "Analizando las ventas de juegos segun el genero se evidencia:\n",
    "- La diferencia en ventas entre el primer lugar y el ultimo es al menos 14 veces mas.\n",
    "- Solo dos juegos superan los mil millones de dolares en ventas (Action, Sports)\n",
    "\n",
    "Teniendo en cuenta esta informacion se puede generalizar que juegos presentan altas y bajas ventas:\n",
    "\n",
    "Altas ventas, juegos por encima de los 900 millones en ventas= Action, Sport y shooter\n",
    "\n",
    "Bajas ventas, juegos por debajo de los 200 millones en ventas= Strategy, Puzzle y Adventure\n",
    "\n",
    "El resto de juegos se encuentran en un rango promedio de ventas"
   ]
  },
  {
   "cell_type": "markdown",
   "metadata": {},
   "source": [
    "# Crea un perfil de usuario para cada región"
   ]
  },
  {
   "cell_type": "code",
   "execution_count": 27,
   "metadata": {
    "trusted": true
   },
   "outputs": [
    {
     "name": "stdout",
     "output_type": "stream",
     "text": [
      "Region eu_sales \n",
      " platform\n",
      "PS3     330.29\n",
      "PS2     328.65\n",
      "X360    270.76\n",
      "Wii     262.21\n",
      "DS      188.89\n",
      "Name: eu_sales, dtype: float64 \n",
      " total sales:  1380.7999999999884 \n",
      "\n",
      "Region na_sales \n",
      " platform\n",
      "X360    602.47\n",
      "PS2     567.76\n",
      "Wii     496.90\n",
      "PS3     393.49\n",
      "DS      382.40\n",
      "Name: na_sales, dtype: float64 \n",
      " total sales:  2443.019999999991 \n",
      "\n",
      "Region jp_sales \n",
      " platform\n",
      "DS     175.55\n",
      "PS2    130.33\n",
      "3DS    100.67\n",
      "PS3     80.19\n",
      "PSP     76.78\n",
      "Name: jp_sales, dtype: float64 \n",
      " total sales:  563.5200000000011 \n",
      "\n"
     ]
    }
   ],
   "source": [
    "regions=[\"eu_sales\",\"na_sales\",\"jp_sales\"]\n",
    "# Las cinco plataformas principales. Describe las variaciones en sus cuotas de mercado de una región a otra.\n",
    "for region in regions:\n",
    "    icegames_2016_sales_by_region= icegames_2016.groupby(\"platform\")[region].sum().sort_values(ascending=False)\n",
    "    print(f\"Region {region}\",\"\\n\",icegames_2016_sales_by_region.head(5),\"\\n\",\"total sales: \", icegames_2016_sales_by_region.head(5).sum(),\"\\n\" )"
   ]
  },
  {
   "cell_type": "markdown",
   "metadata": {},
   "source": [
    "Las variaciones en cuotas de mercado se pueden evidenciar en:\n",
    "- El total de ventas totales en na, supera el total de ventas entre jp y eu.\n",
    "- Las ventas totales y por plataforma de jp son menores que las ventas de eu y na.\n",
    "- Las ventas por plataforma de na superan las ventas de cualquier plataforma de las otras regiones\n",
    "- La plataforma mas popular varia segun la region.\n",
    "- La region jp contiene 2 plataformas en su top 5 de popularidad (3DS y PSP), las cuales no fueron populares en las otras regiones"
   ]
  },
  {
   "cell_type": "code",
   "execution_count": 28,
   "metadata": {
    "trusted": true
   },
   "outputs": [
    {
     "name": "stdout",
     "output_type": "stream",
     "text": [
      "Genre eu_sales \n",
      " genre\n",
      "Action     463.18\n",
      "Sports     334.68\n",
      "Shooter    294.47\n",
      "Misc       193.94\n",
      "Racing     187.40\n",
      "Name: eu_sales, dtype: float64 \n",
      "\n",
      "Genre na_sales \n",
      " genre\n",
      "Action          746.72\n",
      "Sports          578.44\n",
      "Shooter         495.37\n",
      "Misc            365.83\n",
      "Role-Playing    275.87\n",
      "Name: na_sales, dtype: float64 \n",
      "\n",
      "Genre jp_sales \n",
      " genre\n",
      "Role-Playing    227.64\n",
      "Action          129.78\n",
      "Misc             83.75\n",
      "Sports           69.96\n",
      "Platform         52.83\n",
      "Name: jp_sales, dtype: float64 \n",
      "\n"
     ]
    }
   ],
   "source": [
    "# Los cinco géneros principales. Explica la diferencia.\n",
    "for region in regions:\n",
    "    icegames_2016_sales_by_genre= icegames_2016.groupby(\"genre\")[region].sum().sort_values(ascending=False)\n",
    "    print(f\"Genre {region}\",\"\\n\",icegames_2016_sales_by_genre.head(5),\"\\n\")"
   ]
  },
  {
   "cell_type": "markdown",
   "metadata": {},
   "source": [
    "Al analizar las ventas por region y genero se evidencia que:\n",
    "- Existen generos que prevalecen en el top 5 de todas las regiones como lo son Action, Sports y Misc.\n",
    "- El genero de accion se encuentra en el top 1 de eu y na, a diferencia de jp en el que se encuentra en segundo lugar.\n",
    "- El genero role-playing es el mas popular en la region jp. Si embargo, las ventas no se comparan con el primer puesto de las otras regiones. \n",
    "- El tipo de juego a lanzar tiene que enfocarse en la region de venta, debido al tipo de genero mas consumido."
   ]
  },
  {
   "cell_type": "code",
   "execution_count": 29,
   "metadata": {
    "trusted": true
   },
   "outputs": [
    {
     "name": "stdout",
     "output_type": "stream",
     "text": [
      "Region - Rating eu_sales \n",
      " rating\n",
      "E       681.65\n",
      "M       474.57\n",
      "T       383.89\n",
      "E10+    188.50\n",
      "AO        0.61\n",
      "EC        0.11\n",
      "RP        0.08\n",
      "Name: eu_sales, dtype: float64 \n",
      "\n",
      "Region - Rating na_sales \n",
      " rating\n",
      "E       1243.79\n",
      "M        731.37\n",
      "T        700.50\n",
      "E10+     353.32\n",
      "EC         1.53\n",
      "AO         1.26\n",
      "RP         0.00\n",
      "Name: na_sales, dtype: float64 \n",
      "\n",
      "Region - Rating jp_sales \n",
      " rating\n",
      "E       187.42\n",
      "T       123.33\n",
      "M        57.82\n",
      "E10+     40.20\n",
      "AO        0.00\n",
      "EC        0.00\n",
      "RP        0.00\n",
      "Name: jp_sales, dtype: float64 \n",
      "\n"
     ]
    }
   ],
   "source": [
    "# Si las clasificaciones de ESRB afectan a las ventas en regiones individuales.\n",
    "# Se filtran los juegos con valor ausente en rating\n",
    "icegames_2016_rating_complete=icegames_2016[~icegames_2016[\"rating\"].isna()]\n",
    "\n",
    "for region in regions:\n",
    "    icegames_2016_rating_esrb= icegames_2016_rating_complete.groupby(\"rating\")[region].sum().sort_values(ascending=False)\n",
    "    print(f\"Region - Rating {region}\",\"\\n\",icegames_2016_rating_esrb,\"\\n\")\n"
   ]
  },
  {
   "cell_type": "markdown",
   "metadata": {},
   "source": [
    "Analizando las ventas segun su calificacion se evidencia:\n",
    "\n",
    "jp\n",
    "- No se vendieron juegos sin calificar o que su clasificacion se a para mayores de edad, lo que significa que los juegos estan enfocados en una poblacion menor de edad (-18) y con calificacion dada.\n",
    "- Los juegos para todo publico y adolescentes fueron los mas vendidos, lo que significa que los juegos con contenido para adultos no son cotizados para esta poblacion\n",
    "- Ningun juego sin calificacion fue vendido, lo que significa que esta calificacion puede ser obligatoria para un lanzamiento o los datos fueron tomados cuando el juego fue recien lanzado.\n",
    "- Los juegos para niños pequeños no eran populares en este region.\n",
    "\n",
    "na\n",
    "- Los juegos para todo publico, adolescente y publico maduro son los mas populares en ventas.\n",
    "- Existe un porcentaje de juegos con contenidos para adultos que fueron vendidos. Sin embargo, este porcentaje es pequeño con repecto al resto de calificaciones.\n",
    "- Ningun juego sin calificacion fue vendido, lo que significa que esta calificacion puede ser obligatoria para un lanzamiento o los datos fueron tomados cuando el juego fue recien lanzado.\n",
    "- La mayoria de los juegos estan enfocados en una poblacion menor de edad incluyendo la poblacion de niños pequeños.\n",
    "\n",
    "eu\n",
    "- Los juegos para todo publico, adolescente y publico maduro son los mas populares en ventas.\n",
    "- Existe un porcentaje de juegos con contenidos para adultos que fueron vendidos. Sin embargo, este porcentaje es pequeño con repecto al resto de calificaciones.\n",
    "- Existe un porcentaje de juegos que fueron lanzados con calificacion pendiente, los cuales obtuvieron ventas. Lo que significa que estos juegos fueron promocionados y comprados por los usuarios sin tener encuenta una calificacion existente.\n",
    "- La mayoria de los juegos estan enfocados en una poblacion menor de edad incluyendo la poblacion de niños pequeños.\n",
    "- Los juegos de contenido para adulto tiene mayor popularidad que los juegos para niños pequeños."
   ]
  },
  {
   "cell_type": "markdown",
   "metadata": {},
   "source": [
    "# Prueba las siguientes hipótesis:"
   ]
  },
  {
   "cell_type": "code",
   "execution_count": 30,
   "metadata": {
    "trusted": true
   },
   "outputs": [
    {
     "name": "stdout",
     "output_type": "stream",
     "text": [
      "Prueba de Levene:\n",
      "valor p levene test:  0.23301599125124503\n",
      "Statistic value=  1.4243002998939507\n",
      "No podemos rechazar la hipótesis nula \n",
      " equal_var= True \n",
      "\n",
      "Prueba de igualdad en las distribuciones:\n",
      "valor p:  0.000878451706049193\n",
      "Rechazamos la hipótesis nula\n"
     ]
    }
   ],
   "source": [
    "# Las calificaciones promedio de los usuarios para las plataformas Xbox One y PC son las mismas.\n",
    "\n",
    "# Se quitan los 11 que eran tbd y los ausentes\n",
    "# Se usaran los datos, que no contienen datos atipicos (icegames_2016_no_atipicos)\n",
    "icegames_2016_user_score=icegames_2016_no_atipicos[(icegames_2016_no_atipicos[\"user_score\"]<11) & ~(icegames_2016_no_atipicos[\"user_score\"].isna())]\n",
    "\n",
    "#XBOX ONE calificaciones promedio usuario\n",
    "icegames_2016_user_score_xboxone= icegames_2016_user_score[icegames_2016_user_score[\"platform\"].str.lower()==\"xone\"][\"user_score\"]\n",
    "#PC calificaciones promedio usuario\n",
    "icegames_2016_user_score_pc= icegames_2016_user_score[icegames_2016_user_score[\"platform\"].str.lower()==\"pc\"][\"user_score\"]\n",
    "\n",
    "#---------------------------------------------------------------------------------------------------------------------  \n",
    "# Se realiza una prueba de levene para verificar hipotesis nula de que las varianzas de ambos grupos de datos son iguales y\n",
    "# verificar si el parametro equal_var, se utiliza como True o False.\n",
    "#---------------------------------------------------------------------------------------------------------------------\n",
    "result=st.levene(icegames_2016_user_score_xboxone,icegames_2016_user_score_pc)\n",
    "print(\"Prueba de Levene:\")\n",
    "print('valor p levene test: ', result.pvalue) # extraer el valor p\n",
    "print(\"Statistic value= \",result.statistic)\n",
    "alpha=0.05\n",
    "if result.pvalue < alpha:\n",
    "    print(\"Rechazamos la hipótesis nula\",\"\\n\",\"equal_var= False\",\"\\n\")\n",
    "else:\n",
    "    print(\"No podemos rechazar la hipótesis nula\",\"\\n\",\"equal_var= True\",\"\\n\")\n",
    "# No se rechaza la hipotesis nula: Las varianzas de ambas distribuciones son iguales, debido a que su valor p fue superior a 0.05.\n",
    "# equal_var= True.\n",
    "\n",
    "\n",
    "#---------------------------------------------------------------------------------------------------------------------\n",
    "# Hipotesis nula: Las calificaciones promedio de los usuarios para las plataformas Xbox One y PC son las mismas.\n",
    "# Hipotesis alternativa: Las calificaciones promedio de los usuarios para las plataformas Xbox One y PC son diferentes\n",
    "# y alguna de las plataformas en mas popular.\n",
    "#Alpha= 0.01\n",
    "# Se verifica la hipotesis analizando la igualdad de las medias de ambas poblaciones.\n",
    "# equal_var=True\n",
    "#---------------------------------------------------------------------------------------------------------------------\n",
    "result=st.ttest_ind(icegames_2016_user_score_xboxone,icegames_2016_user_score_pc,equal_var=True)\n",
    "print(\"Prueba de igualdad en las distribuciones:\")\n",
    "print('valor p: ', result.pvalue) # extraer el valor p\n",
    "alpha=0.05\n",
    "if result.pvalue < alpha:\n",
    "    print(\"Rechazamos la hipótesis nula\")\n",
    "else:\n",
    "    print(\"No podemos rechazar la hipótesis nula\")\n",
    "\n"
   ]
  },
  {
   "cell_type": "markdown",
   "metadata": {},
   "source": [
    "Se rechaza la hipotesis nula de: Las calificaciones promedio de los usuarios para las plataformas Xbox One y PC son las mismas, ya que su valor p estuvo por debajo del umbral de significancia dado de 1%. Las calificaciones entre Xbox One y PC son diferentes."
   ]
  },
  {
   "cell_type": "code",
   "execution_count": 31,
   "metadata": {
    "trusted": true
   },
   "outputs": [
    {
     "name": "stdout",
     "output_type": "stream",
     "text": [
      "Prueba de Levene:\n",
      "valor p levene test:  0.0002722309959583158\n",
      "Statistic value=  13.28786390940001\n",
      "Rechazamos la hipótesis nula \n",
      " equal_var= False \n",
      "\n",
      "Prueba de igualdad en las distribuciones:\n",
      "valor p:  0.7384603387551176\n",
      "No podemos rechazar la hipótesis nula\n"
     ]
    }
   ],
   "source": [
    "# Las calificaciones promedio de los usuarios para los géneros de Acción y Deportes son diferentes.\n",
    "\n",
    "# Se usaran los datos, que no contienen datos atipicos (icegames_2016_no_atipicos)\n",
    "#Genero Accion calificaciones promedio usuario\n",
    "icegames_2016_user_score_action= icegames_2016_user_score[icegames_2016_user_score[\"genre\"].str.lower()==\"action\"][\"user_score\"]\n",
    "#Genero Deportes calificaciones promedio usuario\n",
    "icegames_2016_user_score_sport= icegames_2016_user_score[icegames_2016_user_score[\"genre\"].str.lower()==\"sports\"][\"user_score\"]\n",
    "\n",
    "\n",
    "#---------------------------------------------------------------------------------------------------------------------  \n",
    "# Se realiza una prueba de levene para verificar hipotesis nula de que las varianzas de ambos grupos de datos son iguales y\n",
    "# verificar si el parametro equal_var, se utiliza como True - False.\n",
    "#---------------------------------------------------------------------------------------------------------------------\n",
    "result=st.levene(icegames_2016_user_score_action,icegames_2016_user_score_sport)\n",
    "print(\"Prueba de Levene:\")\n",
    "print('valor p levene test: ', result.pvalue) # extraer el valor p\n",
    "print(\"Statistic value= \",result.statistic)\n",
    "alpha=0.05\n",
    "if result.pvalue < alpha:\n",
    "    print(\"Rechazamos la hipótesis nula\",\"\\n\",\"equal_var= False\",\"\\n\")\n",
    "else:\n",
    "    print(\"No podemos rechazar la hipótesis nula\",\"\\n\",\"equal_var= True\",\"\\n\")\n",
    "# Se rechaza la hipotesis nula: Las varianzas de ambas distribuciones son iguales, debido a que su valor p fue menos a 0.05.\n",
    "# equal_var=False\n",
    "    \n",
    "\n",
    "#---------------------------------------------------------------------------------------------------------------------\n",
    "# Hipotesis nula: Las calificaciones promedio de los usuarios para los géneros de Acción y Deportes son iguales.\n",
    "# Hipotesis alternativa: Las calificaciones promedio de los usuarios para los géneros de Acción y Deportes son diferentes.\n",
    "# y alguna de las plataformas en mas popular.\n",
    "#Alpha= 0.01\n",
    "# Se verifica la hipotesis analizando la igualdad de las medias de ambas poblaciones.\n",
    "# equal_var=True, las muestras se tomaron de poblaciones con parametros similares.\n",
    "#---------------------------------------------------------------------------------------------------------------------\n",
    "result=st.ttest_ind(icegames_2016_user_score_action,icegames_2016_user_score_sport,equal_var=False)\n",
    "print(\"Prueba de igualdad en las distribuciones:\")\n",
    "print('valor p: ', result.pvalue) # extraer el valor p\n",
    "alpha=0.05\n",
    "if result.pvalue < alpha:\n",
    "    print(\"Rechazamos la hipótesis nula\")\n",
    "else:\n",
    "    print(\"No podemos rechazar la hipótesis nula\")\n",
    "    \n",
    "    \n"
   ]
  },
  {
   "cell_type": "markdown",
   "metadata": {},
   "source": [
    "- No se rechaza la hipotesis nula de: Las calificaciones promedio de los usuarios para los géneros de Acción y Deportes son iguales, debido a que el valor p supero el umbral de significacion incluso si este hubiera sido del 5%. Lo que significa que existe la probabilidad de que existan calificaciones de usuario cercanas a la media de ambas distribuciones."
   ]
  },
  {
   "cell_type": "markdown",
   "metadata": {},
   "source": [
    "# CONCLUSION GENERALES\n"
   ]
  },
  {
   "cell_type": "markdown",
   "metadata": {},
   "source": [
    "Se analizaron los datos de los juegos vendidos por la compañia Ice desde el 2001 hasta el 2016, se procesaron los datos para obtener una base datos clara y concisa para realizar el analisis correspondiente.\n",
    "\n",
    "En los datos se pudo evidenciar:\n",
    "- Los procesos de recoleccion de datos no se encuentran estandarizados, lo cual causa error en la lectura de datos y posible sesgo en los analisis.\n",
    "- Desde el año 2001 las ventas generales empezaron a crecer a medida que las plataformas lanzaban nuevos juegos, promoviendo a la creacion de nuevas plataformas con propuestas nuevas de juegos que ampliaron la popularidad de los video juegos.\n",
    "- La expectativa de popularidad de las plataformas durante su presencia en el mercado y como estas la perdian por las nuevas plataformas y juegos. Cada plataforma presentaba niveles de popularidad diferentes que se veian reflejados en sus ventas y la region del mundo.\n",
    "- Las diferencias culturales entre regiones que se pudieron observar con el analisis de los generos mas consumidos y asi mismo la calificacion que se le daba a los respectivos juegos. Cada region es unica y gracias a sus caracterizticas se pueden obtener que juegos / generos / plataformas tendran mejor acogida por el publico en los proximos años.\n",
    "- Los juegos multiplataforma permiten evidenciar la popularidad de las distintas plataformas, ya que un mismo juego presento variacion en sus ventas segun la plataforma, esta informacion permite evidenciar popularidad y preferencia de los usuarios mas alla de solo los juegos.\n",
    "- Las calificaciones de los usuarios varian segun el tipo de plataforma, demostrando sus preferencias a la hora de comprar juegos. Cada plataforma demostro mejor o peor acogida dependiendo de la region."
   ]
  }
 ],
 "metadata": {
  "ExecuteTimeLog": [
   {
    "duration": 2552,
    "start_time": "2025-01-08T01:15:30.996Z"
   },
   {
    "duration": 574,
    "start_time": "2025-01-08T01:15:33.551Z"
   },
   {
    "duration": 133,
    "start_time": "2025-01-08T01:16:12.539Z"
   },
   {
    "duration": 59,
    "start_time": "2025-01-08T01:17:04.435Z"
   },
   {
    "duration": 3,
    "start_time": "2025-01-08T01:17:06.852Z"
   },
   {
    "duration": 61,
    "start_time": "2025-01-08T01:17:07.820Z"
   },
   {
    "duration": 37,
    "start_time": "2025-01-08T01:18:41.699Z"
   },
   {
    "duration": 32,
    "start_time": "2025-01-08T01:19:03.133Z"
   },
   {
    "duration": 3,
    "start_time": "2025-01-08T01:20:21.876Z"
   },
   {
    "duration": 3,
    "start_time": "2025-01-08T01:25:58.610Z"
   },
   {
    "duration": 4,
    "start_time": "2025-01-08T01:26:09.668Z"
   },
   {
    "duration": 3,
    "start_time": "2025-01-08T01:26:33.339Z"
   },
   {
    "duration": 4,
    "start_time": "2025-01-08T01:31:06.239Z"
   },
   {
    "duration": 6,
    "start_time": "2025-01-08T01:35:11.832Z"
   },
   {
    "duration": 13,
    "start_time": "2025-01-08T01:35:23.471Z"
   },
   {
    "duration": 3,
    "start_time": "2025-01-08T01:37:27.051Z"
   },
   {
    "duration": 601,
    "start_time": "2025-01-08T01:37:27.611Z"
   },
   {
    "duration": 32,
    "start_time": "2025-01-08T01:37:32.038Z"
   },
   {
    "duration": 3,
    "start_time": "2025-01-08T01:37:32.487Z"
   },
   {
    "duration": 144,
    "start_time": "2025-01-08T01:37:32.956Z"
   },
   {
    "duration": 2,
    "start_time": "2025-01-08T01:37:42.413Z"
   },
   {
    "duration": 31,
    "start_time": "2025-01-08T01:37:42.944Z"
   },
   {
    "duration": 4,
    "start_time": "2025-01-08T01:37:45.737Z"
   },
   {
    "duration": 31,
    "start_time": "2025-01-08T01:38:10.847Z"
   },
   {
    "duration": 3,
    "start_time": "2025-01-08T01:38:15.439Z"
   },
   {
    "duration": 50,
    "start_time": "2025-01-08T01:39:09.659Z"
   },
   {
    "duration": 4,
    "start_time": "2025-01-08T01:39:20.730Z"
   },
   {
    "duration": 50,
    "start_time": "2025-01-08T01:39:59.497Z"
   },
   {
    "duration": 49,
    "start_time": "2025-01-08T01:40:16.799Z"
   },
   {
    "duration": 14,
    "start_time": "2025-01-08T01:43:25.570Z"
   },
   {
    "duration": 6,
    "start_time": "2025-01-08T01:43:38.872Z"
   },
   {
    "duration": 9,
    "start_time": "2025-01-08T01:46:56.664Z"
   },
   {
    "duration": 8,
    "start_time": "2025-01-08T01:47:15.263Z"
   },
   {
    "duration": 8,
    "start_time": "2025-01-08T01:47:52.861Z"
   },
   {
    "duration": 8,
    "start_time": "2025-01-08T01:48:51.160Z"
   },
   {
    "duration": 32,
    "start_time": "2025-01-08T01:50:11.769Z"
   },
   {
    "duration": 6,
    "start_time": "2025-01-08T01:50:12.123Z"
   },
   {
    "duration": 20,
    "start_time": "2025-01-08T01:50:36.559Z"
   },
   {
    "duration": 14,
    "start_time": "2025-01-08T01:55:00.866Z"
   },
   {
    "duration": 19,
    "start_time": "2025-01-08T01:55:55.011Z"
   },
   {
    "duration": 14,
    "start_time": "2025-01-08T01:59:58.772Z"
   },
   {
    "duration": 13,
    "start_time": "2025-01-08T02:05:35.448Z"
   },
   {
    "duration": 19,
    "start_time": "2025-01-08T02:06:49.375Z"
   },
   {
    "duration": 20,
    "start_time": "2025-01-08T02:08:08.121Z"
   },
   {
    "duration": 283,
    "start_time": "2025-01-08T02:09:29.030Z"
   },
   {
    "duration": 19,
    "start_time": "2025-01-08T02:09:40.817Z"
   },
   {
    "duration": 40,
    "start_time": "2025-01-08T02:17:01.101Z"
   },
   {
    "duration": 3,
    "start_time": "2025-01-08T02:17:01.696Z"
   },
   {
    "duration": 21,
    "start_time": "2025-01-08T02:17:02.314Z"
   },
   {
    "duration": 17,
    "start_time": "2025-01-08T02:20:32.112Z"
   },
   {
    "duration": 31,
    "start_time": "2025-01-08T02:20:43.833Z"
   },
   {
    "duration": 4,
    "start_time": "2025-01-08T02:20:44.225Z"
   },
   {
    "duration": 21,
    "start_time": "2025-01-08T02:20:44.596Z"
   },
   {
    "duration": 72,
    "start_time": "2025-01-08T02:23:33.350Z"
   },
   {
    "duration": 16,
    "start_time": "2025-01-08T02:24:18.682Z"
   },
   {
    "duration": 8,
    "start_time": "2025-01-08T02:30:06.781Z"
   },
   {
    "duration": 5,
    "start_time": "2025-01-08T02:30:52.420Z"
   },
   {
    "duration": 5,
    "start_time": "2025-01-08T02:31:01.197Z"
   },
   {
    "duration": 39,
    "start_time": "2025-01-08T02:31:09.963Z"
   },
   {
    "duration": 39,
    "start_time": "2025-01-08T02:31:15.440Z"
   },
   {
    "duration": 41,
    "start_time": "2025-01-08T02:31:47.827Z"
   },
   {
    "duration": 32,
    "start_time": "2025-01-08T02:32:11.935Z"
   },
   {
    "duration": 4,
    "start_time": "2025-01-08T02:32:12.388Z"
   },
   {
    "duration": 21,
    "start_time": "2025-01-08T02:32:12.816Z"
   },
   {
    "duration": 17,
    "start_time": "2025-01-08T02:33:17.471Z"
   },
   {
    "duration": 17,
    "start_time": "2025-01-08T02:34:46.112Z"
   },
   {
    "duration": 18,
    "start_time": "2025-01-08T02:39:07.645Z"
   },
   {
    "duration": 19,
    "start_time": "2025-01-08T02:39:48.135Z"
   },
   {
    "duration": 21,
    "start_time": "2025-01-08T02:40:52.174Z"
   },
   {
    "duration": 20,
    "start_time": "2025-01-08T02:50:40.706Z"
   },
   {
    "duration": 22,
    "start_time": "2025-01-08T02:53:06.286Z"
   },
   {
    "duration": 24,
    "start_time": "2025-01-08T02:53:58.375Z"
   },
   {
    "duration": 347,
    "start_time": "2025-01-08T02:58:02.135Z"
   },
   {
    "duration": 28,
    "start_time": "2025-01-08T02:58:12.869Z"
   },
   {
    "duration": 26,
    "start_time": "2025-01-08T02:58:46.806Z"
   },
   {
    "duration": 38,
    "start_time": "2025-01-08T02:59:17.216Z"
   },
   {
    "duration": 2580,
    "start_time": "2025-01-09T02:34:24.791Z"
   },
   {
    "duration": 43,
    "start_time": "2025-01-09T02:34:27.374Z"
   },
   {
    "duration": 3,
    "start_time": "2025-01-09T02:34:27.418Z"
   },
   {
    "duration": 33,
    "start_time": "2025-01-09T02:34:27.424Z"
   },
   {
    "duration": 31,
    "start_time": "2025-01-09T02:38:34.155Z"
   },
   {
    "duration": 21,
    "start_time": "2025-01-09T02:39:26.329Z"
   },
   {
    "duration": 23,
    "start_time": "2025-01-09T02:41:37.132Z"
   },
   {
    "duration": 25,
    "start_time": "2025-01-09T02:43:27.290Z"
   },
   {
    "duration": 26,
    "start_time": "2025-01-09T02:44:51.601Z"
   },
   {
    "duration": 30,
    "start_time": "2025-01-09T02:45:52.710Z"
   },
   {
    "duration": 271,
    "start_time": "2025-01-09T02:51:50.336Z"
   },
   {
    "duration": 29,
    "start_time": "2025-01-09T02:52:12.061Z"
   },
   {
    "duration": 46,
    "start_time": "2025-01-09T02:59:15.659Z"
   },
   {
    "duration": 44,
    "start_time": "2025-01-09T03:00:16.832Z"
   },
   {
    "duration": 30,
    "start_time": "2025-01-09T03:00:38.842Z"
   },
   {
    "duration": 37,
    "start_time": "2025-01-09T03:00:59.768Z"
   },
   {
    "duration": 36,
    "start_time": "2025-01-09T03:01:14.545Z"
   },
   {
    "duration": 41,
    "start_time": "2025-01-09T03:01:25.935Z"
   },
   {
    "duration": 35,
    "start_time": "2025-01-09T03:01:30.340Z"
   },
   {
    "duration": 40,
    "start_time": "2025-01-09T03:02:04.112Z"
   },
   {
    "duration": 34,
    "start_time": "2025-01-09T03:02:14.901Z"
   },
   {
    "duration": 34,
    "start_time": "2025-01-09T03:02:35.755Z"
   },
   {
    "duration": 30,
    "start_time": "2025-01-09T03:03:01.789Z"
   },
   {
    "duration": 29,
    "start_time": "2025-01-09T03:03:27.731Z"
   },
   {
    "duration": 31,
    "start_time": "2025-01-09T03:05:32.397Z"
   },
   {
    "duration": 33,
    "start_time": "2025-01-09T03:05:46.941Z"
   },
   {
    "duration": 2,
    "start_time": "2025-01-09T03:06:56.040Z"
   },
   {
    "duration": 36,
    "start_time": "2025-01-09T03:06:56.363Z"
   },
   {
    "duration": 4,
    "start_time": "2025-01-09T03:06:56.674Z"
   },
   {
    "duration": 34,
    "start_time": "2025-01-09T03:06:57.054Z"
   },
   {
    "duration": 30,
    "start_time": "2025-01-09T03:07:37.605Z"
   },
   {
    "duration": 3,
    "start_time": "2025-01-09T03:07:37.878Z"
   },
   {
    "duration": 34,
    "start_time": "2025-01-09T03:07:38.175Z"
   },
   {
    "duration": 27,
    "start_time": "2025-01-09T03:08:22.734Z"
   },
   {
    "duration": 26,
    "start_time": "2025-01-09T03:09:04.244Z"
   },
   {
    "duration": 24,
    "start_time": "2025-01-09T03:12:18.152Z"
   },
   {
    "duration": 30,
    "start_time": "2025-01-09T03:12:47.607Z"
   },
   {
    "duration": 3,
    "start_time": "2025-01-09T03:12:47.959Z"
   },
   {
    "duration": 32,
    "start_time": "2025-01-09T03:12:48.376Z"
   },
   {
    "duration": 17,
    "start_time": "2025-01-09T03:14:19.179Z"
   },
   {
    "duration": 4,
    "start_time": "2025-01-09T03:14:28.678Z"
   },
   {
    "duration": 423,
    "start_time": "2025-01-09T03:15:51.905Z"
   },
   {
    "duration": 5,
    "start_time": "2025-01-09T03:15:58.721Z"
   },
   {
    "duration": 40,
    "start_time": "2025-01-09T03:16:04.141Z"
   },
   {
    "duration": 4,
    "start_time": "2025-01-09T03:16:12.999Z"
   },
   {
    "duration": 185,
    "start_time": "2025-01-09T03:19:38.718Z"
   },
   {
    "duration": 4,
    "start_time": "2025-01-09T03:20:00.949Z"
   },
   {
    "duration": 33,
    "start_time": "2025-01-09T03:20:05.536Z"
   },
   {
    "duration": 5,
    "start_time": "2025-01-09T03:21:11.458Z"
   },
   {
    "duration": 6,
    "start_time": "2025-01-09T03:21:25.874Z"
   },
   {
    "duration": 6,
    "start_time": "2025-01-09T03:21:33.854Z"
   },
   {
    "duration": 4,
    "start_time": "2025-01-09T03:21:57.592Z"
   },
   {
    "duration": 5,
    "start_time": "2025-01-09T03:22:22.607Z"
   },
   {
    "duration": 4,
    "start_time": "2025-01-09T03:22:42.440Z"
   },
   {
    "duration": 177,
    "start_time": "2025-01-09T03:29:35.952Z"
   },
   {
    "duration": 58,
    "start_time": "2025-01-09T03:29:54.119Z"
   },
   {
    "duration": 9,
    "start_time": "2025-01-09T03:30:41.061Z"
   },
   {
    "duration": 9,
    "start_time": "2025-01-09T03:30:47.608Z"
   },
   {
    "duration": 9,
    "start_time": "2025-01-09T03:32:17.651Z"
   },
   {
    "duration": 4,
    "start_time": "2025-01-09T03:33:38.041Z"
   },
   {
    "duration": 4,
    "start_time": "2025-01-09T03:33:59.394Z"
   },
   {
    "duration": 6,
    "start_time": "2025-01-09T03:36:13.257Z"
   },
   {
    "duration": 8,
    "start_time": "2025-01-09T03:36:34.264Z"
   },
   {
    "duration": 9,
    "start_time": "2025-01-09T03:37:04.219Z"
   },
   {
    "duration": 9,
    "start_time": "2025-01-09T03:37:29.869Z"
   },
   {
    "duration": 139,
    "start_time": "2025-01-09T03:39:14.425Z"
   },
   {
    "duration": 223,
    "start_time": "2025-01-09T03:41:07.350Z"
   },
   {
    "duration": 124,
    "start_time": "2025-01-09T03:41:52.756Z"
   },
   {
    "duration": 14,
    "start_time": "2025-01-09T03:42:32.414Z"
   },
   {
    "duration": 10,
    "start_time": "2025-01-09T03:42:44.445Z"
   },
   {
    "duration": 12,
    "start_time": "2025-01-09T03:43:58.848Z"
   },
   {
    "duration": 16,
    "start_time": "2025-01-09T03:44:29.283Z"
   },
   {
    "duration": 269,
    "start_time": "2025-01-09T03:44:46.232Z"
   },
   {
    "duration": 19,
    "start_time": "2025-01-09T03:52:31.092Z"
   },
   {
    "duration": 11,
    "start_time": "2025-01-09T03:52:41.396Z"
   },
   {
    "duration": 213,
    "start_time": "2025-01-09T03:55:10.103Z"
   },
   {
    "duration": 120,
    "start_time": "2025-01-09T03:55:34.064Z"
   },
   {
    "duration": 245,
    "start_time": "2025-01-09T03:56:30.585Z"
   },
   {
    "duration": 16,
    "start_time": "2025-01-09T03:58:29.774Z"
   },
   {
    "duration": 245,
    "start_time": "2025-01-09T03:58:38.262Z"
   },
   {
    "duration": 249,
    "start_time": "2025-01-09T03:59:18.598Z"
   },
   {
    "duration": 250,
    "start_time": "2025-01-09T04:00:03.962Z"
   },
   {
    "duration": 366,
    "start_time": "2025-01-09T04:00:53.282Z"
   },
   {
    "duration": 489,
    "start_time": "2025-01-09T04:01:44.088Z"
   },
   {
    "duration": 610,
    "start_time": "2025-01-09T04:02:31.946Z"
   },
   {
    "duration": 588,
    "start_time": "2025-01-09T04:03:29.553Z"
   },
   {
    "duration": 7,
    "start_time": "2025-01-09T04:06:57.324Z"
   },
   {
    "duration": 608,
    "start_time": "2025-01-09T04:07:02.588Z"
   },
   {
    "duration": 7,
    "start_time": "2025-01-09T04:12:55.058Z"
   },
   {
    "duration": 7,
    "start_time": "2025-01-09T04:13:20.253Z"
   },
   {
    "duration": 601,
    "start_time": "2025-01-09T04:13:45.752Z"
   },
   {
    "duration": 746,
    "start_time": "2025-01-09T04:14:35.288Z"
   },
   {
    "duration": 7,
    "start_time": "2025-01-09T04:20:10.433Z"
   },
   {
    "duration": 614,
    "start_time": "2025-01-09T04:20:20.691Z"
   },
   {
    "duration": 605,
    "start_time": "2025-01-09T04:20:27.056Z"
   },
   {
    "duration": 7,
    "start_time": "2025-01-09T04:20:36.119Z"
   },
   {
    "duration": 622,
    "start_time": "2025-01-09T04:20:38.596Z"
   },
   {
    "duration": 2509,
    "start_time": "2025-01-10T00:08:27.943Z"
   },
   {
    "duration": 45,
    "start_time": "2025-01-10T00:08:30.455Z"
   },
   {
    "duration": 3,
    "start_time": "2025-01-10T00:08:30.501Z"
   },
   {
    "duration": 33,
    "start_time": "2025-01-10T00:08:30.506Z"
   },
   {
    "duration": 5,
    "start_time": "2025-01-10T00:08:30.541Z"
   },
   {
    "duration": 8,
    "start_time": "2025-01-10T00:08:30.547Z"
   },
   {
    "duration": 642,
    "start_time": "2025-01-10T00:08:30.557Z"
   },
   {
    "duration": 3,
    "start_time": "2025-01-10T00:13:58.696Z"
   },
   {
    "duration": 4,
    "start_time": "2025-01-10T00:14:07.949Z"
   },
   {
    "duration": 519,
    "start_time": "2025-01-10T00:15:23.697Z"
   },
   {
    "duration": 85,
    "start_time": "2025-01-10T00:15:46.043Z"
   },
   {
    "duration": 7,
    "start_time": "2025-01-10T00:19:27.091Z"
   },
   {
    "duration": 16,
    "start_time": "2025-01-10T00:19:39.617Z"
   },
   {
    "duration": 7,
    "start_time": "2025-01-10T00:19:47.245Z"
   },
   {
    "duration": 9,
    "start_time": "2025-01-10T00:22:47.025Z"
   },
   {
    "duration": 343,
    "start_time": "2025-01-10T00:22:56.194Z"
   },
   {
    "duration": 234,
    "start_time": "2025-01-10T00:23:39.854Z"
   },
   {
    "duration": 252,
    "start_time": "2025-01-10T00:24:07.103Z"
   },
   {
    "duration": 334,
    "start_time": "2025-01-10T00:24:27.947Z"
   },
   {
    "duration": 15,
    "start_time": "2025-01-10T00:26:00.930Z"
   },
   {
    "duration": 14,
    "start_time": "2025-01-10T00:26:05.781Z"
   },
   {
    "duration": 16,
    "start_time": "2025-01-10T00:26:26.269Z"
   },
   {
    "duration": 235,
    "start_time": "2025-01-10T00:26:31.879Z"
   },
   {
    "duration": 240,
    "start_time": "2025-01-10T00:26:46.204Z"
   },
   {
    "duration": 93,
    "start_time": "2025-01-10T00:28:57.865Z"
   },
   {
    "duration": 77,
    "start_time": "2025-01-10T00:29:14.940Z"
   },
   {
    "duration": 84,
    "start_time": "2025-01-10T00:29:30.189Z"
   },
   {
    "duration": 82,
    "start_time": "2025-01-10T00:29:50.276Z"
   },
   {
    "duration": 4,
    "start_time": "2025-01-10T00:30:46.732Z"
   },
   {
    "duration": 6,
    "start_time": "2025-01-10T00:30:48.926Z"
   },
   {
    "duration": 141,
    "start_time": "2025-01-10T00:30:51.157Z"
   },
   {
    "duration": 73,
    "start_time": "2025-01-10T00:30:51.672Z"
   },
   {
    "duration": 140,
    "start_time": "2025-01-10T00:31:08.545Z"
   },
   {
    "duration": 4,
    "start_time": "2025-01-10T00:31:37.570Z"
   },
   {
    "duration": 6,
    "start_time": "2025-01-10T00:31:39.169Z"
   },
   {
    "duration": 169,
    "start_time": "2025-01-10T00:32:04.535Z"
   },
   {
    "duration": 877,
    "start_time": "2025-01-10T00:33:06.819Z"
   },
   {
    "duration": 43,
    "start_time": "2025-01-10T00:33:07.698Z"
   },
   {
    "duration": 3,
    "start_time": "2025-01-10T00:33:07.743Z"
   },
   {
    "duration": 33,
    "start_time": "2025-01-10T00:33:07.747Z"
   },
   {
    "duration": 4,
    "start_time": "2025-01-10T00:33:07.783Z"
   },
   {
    "duration": 7,
    "start_time": "2025-01-10T00:33:07.809Z"
   },
   {
    "duration": 679,
    "start_time": "2025-01-10T00:33:07.817Z"
   },
   {
    "duration": 79,
    "start_time": "2025-01-10T00:33:08.498Z"
   },
   {
    "duration": 71,
    "start_time": "2025-01-10T00:33:54.875Z"
   },
   {
    "duration": 30,
    "start_time": "2025-01-10T00:36:27.654Z"
   },
   {
    "duration": 829,
    "start_time": "2025-01-10T00:40:06.873Z"
   },
   {
    "duration": 35,
    "start_time": "2025-01-10T00:40:07.704Z"
   },
   {
    "duration": 3,
    "start_time": "2025-01-10T00:40:07.741Z"
   },
   {
    "duration": 11,
    "start_time": "2025-01-10T00:40:07.747Z"
   },
   {
    "duration": 4,
    "start_time": "2025-01-10T00:40:07.761Z"
   },
   {
    "duration": 7,
    "start_time": "2025-01-10T00:40:07.767Z"
   },
   {
    "duration": 34,
    "start_time": "2025-01-10T00:40:07.775Z"
   },
   {
    "duration": 6,
    "start_time": "2025-01-10T00:40:07.811Z"
   },
   {
    "duration": 4,
    "start_time": "2025-01-10T00:40:07.820Z"
   },
   {
    "duration": 16,
    "start_time": "2025-01-10T00:40:07.826Z"
   },
   {
    "duration": 3,
    "start_time": "2025-01-10T00:40:07.844Z"
   },
   {
    "duration": 6,
    "start_time": "2025-01-10T00:40:07.849Z"
   },
   {
    "duration": 7,
    "start_time": "2025-01-10T00:40:07.856Z"
   },
   {
    "duration": 711,
    "start_time": "2025-01-10T00:40:07.867Z"
   },
   {
    "duration": 73,
    "start_time": "2025-01-10T00:40:08.580Z"
   },
   {
    "duration": 868,
    "start_time": "2025-01-10T00:40:42.221Z"
   },
   {
    "duration": 35,
    "start_time": "2025-01-10T00:40:43.091Z"
   },
   {
    "duration": 3,
    "start_time": "2025-01-10T00:40:43.128Z"
   },
   {
    "duration": 12,
    "start_time": "2025-01-10T00:40:43.133Z"
   },
   {
    "duration": 5,
    "start_time": "2025-01-10T00:40:43.148Z"
   },
   {
    "duration": 5,
    "start_time": "2025-01-10T00:40:43.154Z"
   },
   {
    "duration": 5,
    "start_time": "2025-01-10T00:40:43.160Z"
   },
   {
    "duration": 5,
    "start_time": "2025-01-10T00:40:43.167Z"
   },
   {
    "duration": 38,
    "start_time": "2025-01-10T00:40:43.174Z"
   },
   {
    "duration": 4,
    "start_time": "2025-01-10T00:40:43.213Z"
   },
   {
    "duration": 18,
    "start_time": "2025-01-10T00:40:43.219Z"
   },
   {
    "duration": 4,
    "start_time": "2025-01-10T00:40:43.238Z"
   },
   {
    "duration": 5,
    "start_time": "2025-01-10T00:40:43.244Z"
   },
   {
    "duration": 7,
    "start_time": "2025-01-10T00:40:43.253Z"
   },
   {
    "duration": 702,
    "start_time": "2025-01-10T00:40:43.262Z"
   },
   {
    "duration": 79,
    "start_time": "2025-01-10T00:40:43.966Z"
   },
   {
    "duration": 10,
    "start_time": "2025-01-10T00:41:51.148Z"
   },
   {
    "duration": 790,
    "start_time": "2025-01-10T00:42:12.057Z"
   },
   {
    "duration": 33,
    "start_time": "2025-01-10T00:42:12.849Z"
   },
   {
    "duration": 3,
    "start_time": "2025-01-10T00:42:12.884Z"
   },
   {
    "duration": 27,
    "start_time": "2025-01-10T00:42:12.889Z"
   },
   {
    "duration": 4,
    "start_time": "2025-01-10T00:42:12.918Z"
   },
   {
    "duration": 4,
    "start_time": "2025-01-10T00:42:12.924Z"
   },
   {
    "duration": 4,
    "start_time": "2025-01-10T00:42:12.930Z"
   },
   {
    "duration": 4,
    "start_time": "2025-01-10T00:42:12.936Z"
   },
   {
    "duration": 5,
    "start_time": "2025-01-10T00:42:12.942Z"
   },
   {
    "duration": 3,
    "start_time": "2025-01-10T00:42:12.948Z"
   },
   {
    "duration": 57,
    "start_time": "2025-01-10T00:42:12.953Z"
   },
   {
    "duration": 4,
    "start_time": "2025-01-10T00:42:13.012Z"
   },
   {
    "duration": 5,
    "start_time": "2025-01-10T00:42:13.018Z"
   },
   {
    "duration": 6,
    "start_time": "2025-01-10T00:42:13.026Z"
   },
   {
    "duration": 690,
    "start_time": "2025-01-10T00:42:13.034Z"
   },
   {
    "duration": 72,
    "start_time": "2025-01-10T00:42:13.726Z"
   },
   {
    "duration": 6,
    "start_time": "2025-01-10T00:48:47.948Z"
   },
   {
    "duration": 225,
    "start_time": "2025-01-10T00:51:58.888Z"
   },
   {
    "duration": 345,
    "start_time": "2025-01-10T00:58:24.081Z"
   },
   {
    "duration": 875,
    "start_time": "2025-01-10T00:58:41.216Z"
   },
   {
    "duration": 34,
    "start_time": "2025-01-10T00:58:42.094Z"
   },
   {
    "duration": 4,
    "start_time": "2025-01-10T00:58:42.130Z"
   },
   {
    "duration": 13,
    "start_time": "2025-01-10T00:58:42.136Z"
   },
   {
    "duration": 5,
    "start_time": "2025-01-10T00:58:42.152Z"
   },
   {
    "duration": 5,
    "start_time": "2025-01-10T00:58:42.160Z"
   },
   {
    "duration": 5,
    "start_time": "2025-01-10T00:58:42.167Z"
   },
   {
    "duration": 5,
    "start_time": "2025-01-10T00:58:42.208Z"
   },
   {
    "duration": 5,
    "start_time": "2025-01-10T00:58:42.215Z"
   },
   {
    "duration": 4,
    "start_time": "2025-01-10T00:58:42.221Z"
   },
   {
    "duration": 16,
    "start_time": "2025-01-10T00:58:42.227Z"
   },
   {
    "duration": 3,
    "start_time": "2025-01-10T00:58:42.245Z"
   },
   {
    "duration": 5,
    "start_time": "2025-01-10T00:58:42.249Z"
   },
   {
    "duration": 5,
    "start_time": "2025-01-10T00:58:42.258Z"
   },
   {
    "duration": 46,
    "start_time": "2025-01-10T00:58:42.265Z"
   },
   {
    "duration": 141,
    "start_time": "2025-01-10T00:58:42.313Z"
   },
   {
    "duration": 134,
    "start_time": "2025-01-10T00:58:42.456Z"
   },
   {
    "duration": 175,
    "start_time": "2025-01-10T00:58:42.592Z"
   },
   {
    "duration": 128,
    "start_time": "2025-01-10T00:58:42.769Z"
   },
   {
    "duration": 128,
    "start_time": "2025-01-10T00:58:42.899Z"
   },
   {
    "duration": 233,
    "start_time": "2025-01-10T00:58:43.029Z"
   },
   {
    "duration": 285,
    "start_time": "2025-01-10T01:01:01.072Z"
   },
   {
    "duration": 82,
    "start_time": "2025-01-10T01:01:10.040Z"
   },
   {
    "duration": 154,
    "start_time": "2025-01-10T01:06:21.211Z"
   },
   {
    "duration": 182,
    "start_time": "2025-01-10T01:08:04.527Z"
   },
   {
    "duration": 4,
    "start_time": "2025-01-10T01:08:31.135Z"
   },
   {
    "duration": 77,
    "start_time": "2025-01-10T01:08:38.894Z"
   },
   {
    "duration": 516,
    "start_time": "2025-01-10T01:09:05.260Z"
   },
   {
    "duration": 433,
    "start_time": "2025-01-10T01:10:08.738Z"
   },
   {
    "duration": 272,
    "start_time": "2025-01-10T01:10:17.651Z"
   },
   {
    "duration": 259,
    "start_time": "2025-01-10T01:12:54.085Z"
   },
   {
    "duration": 272,
    "start_time": "2025-01-10T01:13:04.211Z"
   },
   {
    "duration": 261,
    "start_time": "2025-01-10T01:13:12.343Z"
   },
   {
    "duration": 325,
    "start_time": "2025-01-10T01:15:00.351Z"
   },
   {
    "duration": 130,
    "start_time": "2025-01-10T01:15:06.062Z"
   },
   {
    "duration": 258,
    "start_time": "2025-01-10T01:15:12.121Z"
   },
   {
    "duration": 256,
    "start_time": "2025-01-10T01:15:44.243Z"
   },
   {
    "duration": 792,
    "start_time": "2025-01-10T01:16:54.202Z"
   },
   {
    "duration": 33,
    "start_time": "2025-01-10T01:16:54.996Z"
   },
   {
    "duration": 3,
    "start_time": "2025-01-10T01:16:55.031Z"
   },
   {
    "duration": 11,
    "start_time": "2025-01-10T01:16:55.036Z"
   },
   {
    "duration": 3,
    "start_time": "2025-01-10T01:16:55.050Z"
   },
   {
    "duration": 4,
    "start_time": "2025-01-10T01:16:55.055Z"
   },
   {
    "duration": 5,
    "start_time": "2025-01-10T01:16:55.060Z"
   },
   {
    "duration": 5,
    "start_time": "2025-01-10T01:16:55.066Z"
   },
   {
    "duration": 39,
    "start_time": "2025-01-10T01:16:55.073Z"
   },
   {
    "duration": 4,
    "start_time": "2025-01-10T01:16:55.113Z"
   },
   {
    "duration": 17,
    "start_time": "2025-01-10T01:16:55.119Z"
   },
   {
    "duration": 3,
    "start_time": "2025-01-10T01:16:55.138Z"
   },
   {
    "duration": 6,
    "start_time": "2025-01-10T01:16:55.142Z"
   },
   {
    "duration": 6,
    "start_time": "2025-01-10T01:16:55.152Z"
   },
   {
    "duration": 5,
    "start_time": "2025-01-10T01:16:55.160Z"
   },
   {
    "duration": 155,
    "start_time": "2025-01-10T01:16:55.166Z"
   },
   {
    "duration": 124,
    "start_time": "2025-01-10T01:16:55.324Z"
   },
   {
    "duration": 177,
    "start_time": "2025-01-10T01:16:55.450Z"
   },
   {
    "duration": 122,
    "start_time": "2025-01-10T01:16:55.628Z"
   },
   {
    "duration": 126,
    "start_time": "2025-01-10T01:16:55.752Z"
   },
   {
    "duration": 244,
    "start_time": "2025-01-10T01:16:55.880Z"
   },
   {
    "duration": 585,
    "start_time": "2025-01-10T01:17:19.377Z"
   },
   {
    "duration": 240,
    "start_time": "2025-01-10T01:17:28.409Z"
   },
   {
    "duration": 7,
    "start_time": "2025-01-10T01:18:59.210Z"
   },
   {
    "duration": 242,
    "start_time": "2025-01-10T01:19:07.580Z"
   },
   {
    "duration": 812,
    "start_time": "2025-01-10T01:19:19.590Z"
   },
   {
    "duration": 35,
    "start_time": "2025-01-10T01:19:20.404Z"
   },
   {
    "duration": 3,
    "start_time": "2025-01-10T01:19:20.440Z"
   },
   {
    "duration": 12,
    "start_time": "2025-01-10T01:19:20.444Z"
   },
   {
    "duration": 5,
    "start_time": "2025-01-10T01:19:20.459Z"
   },
   {
    "duration": 5,
    "start_time": "2025-01-10T01:19:20.466Z"
   },
   {
    "duration": 4,
    "start_time": "2025-01-10T01:19:20.473Z"
   },
   {
    "duration": 4,
    "start_time": "2025-01-10T01:19:20.509Z"
   },
   {
    "duration": 4,
    "start_time": "2025-01-10T01:19:20.515Z"
   },
   {
    "duration": 4,
    "start_time": "2025-01-10T01:19:20.521Z"
   },
   {
    "duration": 17,
    "start_time": "2025-01-10T01:19:20.526Z"
   },
   {
    "duration": 4,
    "start_time": "2025-01-10T01:19:20.544Z"
   },
   {
    "duration": 4,
    "start_time": "2025-01-10T01:19:20.550Z"
   },
   {
    "duration": 5,
    "start_time": "2025-01-10T01:19:20.557Z"
   },
   {
    "duration": 45,
    "start_time": "2025-01-10T01:19:20.564Z"
   },
   {
    "duration": 140,
    "start_time": "2025-01-10T01:19:20.611Z"
   },
   {
    "duration": 134,
    "start_time": "2025-01-10T01:19:20.753Z"
   },
   {
    "duration": 177,
    "start_time": "2025-01-10T01:19:20.888Z"
   },
   {
    "duration": 128,
    "start_time": "2025-01-10T01:19:21.067Z"
   },
   {
    "duration": 121,
    "start_time": "2025-01-10T01:19:21.197Z"
   },
   {
    "duration": 273,
    "start_time": "2025-01-10T01:19:21.320Z"
   },
   {
    "duration": 261,
    "start_time": "2025-01-10T01:20:14.910Z"
   },
   {
    "duration": 270,
    "start_time": "2025-01-10T01:20:47.492Z"
   },
   {
    "duration": 402,
    "start_time": "2025-01-10T01:22:36.031Z"
   },
   {
    "duration": 35,
    "start_time": "2025-01-10T01:23:00.315Z"
   },
   {
    "duration": 84,
    "start_time": "2025-01-10T01:23:47.968Z"
   },
   {
    "duration": 96,
    "start_time": "2025-01-10T01:24:08.236Z"
   },
   {
    "duration": 30,
    "start_time": "2025-01-10T01:24:18.711Z"
   },
   {
    "duration": 80,
    "start_time": "2025-01-10T01:25:24.384Z"
   },
   {
    "duration": 28,
    "start_time": "2025-01-10T01:25:51.718Z"
   },
   {
    "duration": 168,
    "start_time": "2025-01-10T01:26:13.438Z"
   },
   {
    "duration": 243,
    "start_time": "2025-01-10T01:27:16.672Z"
   },
   {
    "duration": 91,
    "start_time": "2025-01-10T01:27:22.839Z"
   },
   {
    "duration": 91,
    "start_time": "2025-01-10T01:27:29.178Z"
   },
   {
    "duration": 95,
    "start_time": "2025-01-10T01:27:37.677Z"
   },
   {
    "duration": 120,
    "start_time": "2025-01-10T01:28:02.149Z"
   },
   {
    "duration": 92,
    "start_time": "2025-01-10T01:28:06.661Z"
   },
   {
    "duration": 92,
    "start_time": "2025-01-10T01:29:37.945Z"
   },
   {
    "duration": 95,
    "start_time": "2025-01-10T01:30:20.656Z"
   },
   {
    "duration": 93,
    "start_time": "2025-01-10T01:30:30.741Z"
   },
   {
    "duration": 93,
    "start_time": "2025-01-10T01:30:37.787Z"
   },
   {
    "duration": 93,
    "start_time": "2025-01-10T01:30:44.521Z"
   },
   {
    "duration": 4,
    "start_time": "2025-01-10T01:32:01.339Z"
   },
   {
    "duration": 183,
    "start_time": "2025-01-10T01:32:06.856Z"
   },
   {
    "duration": 4,
    "start_time": "2025-01-10T01:38:46.839Z"
   },
   {
    "duration": 4,
    "start_time": "2025-01-10T01:38:59.121Z"
   },
   {
    "duration": 104,
    "start_time": "2025-01-10T01:39:46.477Z"
   },
   {
    "duration": 103,
    "start_time": "2025-01-10T01:40:03.569Z"
   },
   {
    "duration": 17,
    "start_time": "2025-01-10T01:40:29.879Z"
   },
   {
    "duration": 4,
    "start_time": "2025-01-10T01:40:34.617Z"
   },
   {
    "duration": 104,
    "start_time": "2025-01-10T01:40:41.271Z"
   },
   {
    "duration": 108,
    "start_time": "2025-01-10T01:40:52.240Z"
   },
   {
    "duration": 822,
    "start_time": "2025-01-10T01:41:49.153Z"
   },
   {
    "duration": 38,
    "start_time": "2025-01-10T01:41:49.978Z"
   },
   {
    "duration": 3,
    "start_time": "2025-01-10T01:41:50.017Z"
   },
   {
    "duration": 11,
    "start_time": "2025-01-10T01:41:50.022Z"
   },
   {
    "duration": 4,
    "start_time": "2025-01-10T01:41:50.035Z"
   },
   {
    "duration": 4,
    "start_time": "2025-01-10T01:41:50.040Z"
   },
   {
    "duration": 5,
    "start_time": "2025-01-10T01:41:50.045Z"
   },
   {
    "duration": 5,
    "start_time": "2025-01-10T01:41:50.051Z"
   },
   {
    "duration": 5,
    "start_time": "2025-01-10T01:41:50.057Z"
   },
   {
    "duration": 3,
    "start_time": "2025-01-10T01:41:50.108Z"
   },
   {
    "duration": 16,
    "start_time": "2025-01-10T01:41:50.113Z"
   },
   {
    "duration": 4,
    "start_time": "2025-01-10T01:41:50.130Z"
   },
   {
    "duration": 4,
    "start_time": "2025-01-10T01:41:50.136Z"
   },
   {
    "duration": 6,
    "start_time": "2025-01-10T01:41:50.143Z"
   },
   {
    "duration": 5,
    "start_time": "2025-01-10T01:41:50.150Z"
   },
   {
    "duration": 172,
    "start_time": "2025-01-10T01:41:50.157Z"
   },
   {
    "duration": 132,
    "start_time": "2025-01-10T01:41:50.330Z"
   },
   {
    "duration": 179,
    "start_time": "2025-01-10T01:41:50.464Z"
   },
   {
    "duration": 138,
    "start_time": "2025-01-10T01:41:50.645Z"
   },
   {
    "duration": 123,
    "start_time": "2025-01-10T01:41:50.785Z"
   },
   {
    "duration": 100,
    "start_time": "2025-01-10T01:41:50.910Z"
   },
   {
    "duration": 118,
    "start_time": "2025-01-10T01:41:51.011Z"
   },
   {
    "duration": 10,
    "start_time": "2025-01-10T01:44:00.479Z"
   },
   {
    "duration": 783,
    "start_time": "2025-01-10T01:44:18.270Z"
   },
   {
    "duration": 32,
    "start_time": "2025-01-10T01:44:19.055Z"
   },
   {
    "duration": 3,
    "start_time": "2025-01-10T01:44:19.088Z"
   },
   {
    "duration": 24,
    "start_time": "2025-01-10T01:44:19.094Z"
   },
   {
    "duration": 5,
    "start_time": "2025-01-10T01:44:19.120Z"
   },
   {
    "duration": 4,
    "start_time": "2025-01-10T01:44:19.126Z"
   },
   {
    "duration": 5,
    "start_time": "2025-01-10T01:44:19.131Z"
   },
   {
    "duration": 4,
    "start_time": "2025-01-10T01:44:19.138Z"
   },
   {
    "duration": 4,
    "start_time": "2025-01-10T01:44:19.144Z"
   },
   {
    "duration": 3,
    "start_time": "2025-01-10T01:44:19.152Z"
   },
   {
    "duration": 58,
    "start_time": "2025-01-10T01:44:19.157Z"
   },
   {
    "duration": 4,
    "start_time": "2025-01-10T01:44:19.217Z"
   },
   {
    "duration": 4,
    "start_time": "2025-01-10T01:44:19.223Z"
   },
   {
    "duration": 6,
    "start_time": "2025-01-10T01:44:19.229Z"
   },
   {
    "duration": 6,
    "start_time": "2025-01-10T01:44:19.237Z"
   },
   {
    "duration": 166,
    "start_time": "2025-01-10T01:44:19.244Z"
   },
   {
    "duration": 134,
    "start_time": "2025-01-10T01:44:19.411Z"
   },
   {
    "duration": 175,
    "start_time": "2025-01-10T01:44:19.547Z"
   },
   {
    "duration": 148,
    "start_time": "2025-01-10T01:44:19.723Z"
   },
   {
    "duration": 124,
    "start_time": "2025-01-10T01:44:19.873Z"
   },
   {
    "duration": 103,
    "start_time": "2025-01-10T01:44:19.998Z"
   },
   {
    "duration": 659,
    "start_time": "2025-01-10T01:44:20.103Z"
   },
   {
    "duration": 31,
    "start_time": "2025-01-10T01:46:28.969Z"
   },
   {
    "duration": 826,
    "start_time": "2025-01-10T01:46:54.639Z"
   },
   {
    "duration": 32,
    "start_time": "2025-01-10T01:46:55.467Z"
   },
   {
    "duration": 9,
    "start_time": "2025-01-10T01:46:55.501Z"
   },
   {
    "duration": 11,
    "start_time": "2025-01-10T01:46:55.511Z"
   },
   {
    "duration": 4,
    "start_time": "2025-01-10T01:46:55.524Z"
   },
   {
    "duration": 4,
    "start_time": "2025-01-10T01:46:55.530Z"
   },
   {
    "duration": 4,
    "start_time": "2025-01-10T01:46:55.536Z"
   },
   {
    "duration": 6,
    "start_time": "2025-01-10T01:46:55.541Z"
   },
   {
    "duration": 4,
    "start_time": "2025-01-10T01:46:55.548Z"
   },
   {
    "duration": 3,
    "start_time": "2025-01-10T01:46:55.555Z"
   },
   {
    "duration": 62,
    "start_time": "2025-01-10T01:46:55.559Z"
   },
   {
    "duration": 4,
    "start_time": "2025-01-10T01:46:55.622Z"
   },
   {
    "duration": 4,
    "start_time": "2025-01-10T01:46:55.628Z"
   },
   {
    "duration": 6,
    "start_time": "2025-01-10T01:46:55.635Z"
   },
   {
    "duration": 5,
    "start_time": "2025-01-10T01:46:55.642Z"
   },
   {
    "duration": 163,
    "start_time": "2025-01-10T01:46:55.649Z"
   },
   {
    "duration": 133,
    "start_time": "2025-01-10T01:46:55.814Z"
   },
   {
    "duration": 176,
    "start_time": "2025-01-10T01:46:55.949Z"
   },
   {
    "duration": 130,
    "start_time": "2025-01-10T01:46:56.128Z"
   },
   {
    "duration": 129,
    "start_time": "2025-01-10T01:46:56.260Z"
   },
   {
    "duration": 103,
    "start_time": "2025-01-10T01:46:56.390Z"
   },
   {
    "duration": 673,
    "start_time": "2025-01-10T01:46:56.495Z"
   },
   {
    "duration": 31,
    "start_time": "2025-01-10T01:48:26.074Z"
   },
   {
    "duration": 24,
    "start_time": "2025-01-10T01:49:11.024Z"
   },
   {
    "duration": 16,
    "start_time": "2025-01-10T01:49:16.619Z"
   },
   {
    "duration": 846,
    "start_time": "2025-01-10T01:50:02.038Z"
   },
   {
    "duration": 36,
    "start_time": "2025-01-10T01:50:02.886Z"
   },
   {
    "duration": 3,
    "start_time": "2025-01-10T01:50:02.923Z"
   },
   {
    "duration": 11,
    "start_time": "2025-01-10T01:50:02.928Z"
   },
   {
    "duration": 4,
    "start_time": "2025-01-10T01:50:02.942Z"
   },
   {
    "duration": 4,
    "start_time": "2025-01-10T01:50:02.948Z"
   },
   {
    "duration": 4,
    "start_time": "2025-01-10T01:50:02.954Z"
   },
   {
    "duration": 5,
    "start_time": "2025-01-10T01:50:02.960Z"
   },
   {
    "duration": 43,
    "start_time": "2025-01-10T01:50:02.967Z"
   },
   {
    "duration": 4,
    "start_time": "2025-01-10T01:50:03.011Z"
   },
   {
    "duration": 23,
    "start_time": "2025-01-10T01:50:03.016Z"
   },
   {
    "duration": 3,
    "start_time": "2025-01-10T01:50:03.041Z"
   },
   {
    "duration": 4,
    "start_time": "2025-01-10T01:50:03.045Z"
   },
   {
    "duration": 6,
    "start_time": "2025-01-10T01:50:03.052Z"
   },
   {
    "duration": 5,
    "start_time": "2025-01-10T01:50:03.059Z"
   },
   {
    "duration": 170,
    "start_time": "2025-01-10T01:50:03.066Z"
   },
   {
    "duration": 136,
    "start_time": "2025-01-10T01:50:03.238Z"
   },
   {
    "duration": 181,
    "start_time": "2025-01-10T01:50:03.376Z"
   },
   {
    "duration": 133,
    "start_time": "2025-01-10T01:50:03.559Z"
   },
   {
    "duration": 122,
    "start_time": "2025-01-10T01:50:03.694Z"
   },
   {
    "duration": 102,
    "start_time": "2025-01-10T01:50:03.818Z"
   },
   {
    "duration": 658,
    "start_time": "2025-01-10T01:50:03.922Z"
   },
   {
    "duration": 19,
    "start_time": "2025-01-10T01:51:04.130Z"
   },
   {
    "duration": 803,
    "start_time": "2025-01-10T01:51:40.486Z"
   },
   {
    "duration": 43,
    "start_time": "2025-01-10T01:51:41.292Z"
   },
   {
    "duration": 4,
    "start_time": "2025-01-10T01:51:41.337Z"
   },
   {
    "duration": 10,
    "start_time": "2025-01-10T01:51:41.343Z"
   },
   {
    "duration": 4,
    "start_time": "2025-01-10T01:51:41.356Z"
   },
   {
    "duration": 4,
    "start_time": "2025-01-10T01:51:41.362Z"
   },
   {
    "duration": 5,
    "start_time": "2025-01-10T01:51:41.368Z"
   },
   {
    "duration": 37,
    "start_time": "2025-01-10T01:51:41.375Z"
   },
   {
    "duration": 6,
    "start_time": "2025-01-10T01:51:41.414Z"
   },
   {
    "duration": 4,
    "start_time": "2025-01-10T01:51:41.421Z"
   },
   {
    "duration": 27,
    "start_time": "2025-01-10T01:51:41.426Z"
   },
   {
    "duration": 3,
    "start_time": "2025-01-10T01:51:41.455Z"
   },
   {
    "duration": 3,
    "start_time": "2025-01-10T01:51:41.460Z"
   },
   {
    "duration": 43,
    "start_time": "2025-01-10T01:51:41.467Z"
   },
   {
    "duration": 6,
    "start_time": "2025-01-10T01:51:41.511Z"
   },
   {
    "duration": 146,
    "start_time": "2025-01-10T01:51:41.518Z"
   },
   {
    "duration": 137,
    "start_time": "2025-01-10T01:51:41.666Z"
   },
   {
    "duration": 173,
    "start_time": "2025-01-10T01:51:41.805Z"
   },
   {
    "duration": 129,
    "start_time": "2025-01-10T01:51:41.980Z"
   },
   {
    "duration": 122,
    "start_time": "2025-01-10T01:51:42.110Z"
   },
   {
    "duration": 93,
    "start_time": "2025-01-10T01:51:42.235Z"
   },
   {
    "duration": 654,
    "start_time": "2025-01-10T01:51:42.330Z"
   },
   {
    "duration": 26,
    "start_time": "2025-01-10T01:53:06.838Z"
   },
   {
    "duration": 832,
    "start_time": "2025-01-10T01:53:14.149Z"
   },
   {
    "duration": 40,
    "start_time": "2025-01-10T01:53:14.984Z"
   },
   {
    "duration": 3,
    "start_time": "2025-01-10T01:53:15.025Z"
   },
   {
    "duration": 12,
    "start_time": "2025-01-10T01:53:15.030Z"
   },
   {
    "duration": 5,
    "start_time": "2025-01-10T01:53:15.044Z"
   },
   {
    "duration": 4,
    "start_time": "2025-01-10T01:53:15.050Z"
   },
   {
    "duration": 4,
    "start_time": "2025-01-10T01:53:15.056Z"
   },
   {
    "duration": 5,
    "start_time": "2025-01-10T01:53:15.063Z"
   },
   {
    "duration": 5,
    "start_time": "2025-01-10T01:53:15.069Z"
   },
   {
    "duration": 36,
    "start_time": "2025-01-10T01:53:15.075Z"
   },
   {
    "duration": 29,
    "start_time": "2025-01-10T01:53:15.113Z"
   },
   {
    "duration": 3,
    "start_time": "2025-01-10T01:53:15.144Z"
   },
   {
    "duration": 4,
    "start_time": "2025-01-10T01:53:15.150Z"
   },
   {
    "duration": 5,
    "start_time": "2025-01-10T01:53:15.158Z"
   },
   {
    "duration": 6,
    "start_time": "2025-01-10T01:53:15.166Z"
   },
   {
    "duration": 170,
    "start_time": "2025-01-10T01:53:15.173Z"
   },
   {
    "duration": 133,
    "start_time": "2025-01-10T01:53:15.345Z"
   },
   {
    "duration": 183,
    "start_time": "2025-01-10T01:53:15.480Z"
   },
   {
    "duration": 132,
    "start_time": "2025-01-10T01:53:15.667Z"
   },
   {
    "duration": 122,
    "start_time": "2025-01-10T01:53:15.801Z"
   },
   {
    "duration": 98,
    "start_time": "2025-01-10T01:53:15.925Z"
   },
   {
    "duration": 666,
    "start_time": "2025-01-10T01:53:16.025Z"
   },
   {
    "duration": 814,
    "start_time": "2025-01-10T01:54:01.771Z"
   },
   {
    "duration": 37,
    "start_time": "2025-01-10T01:54:02.588Z"
   },
   {
    "duration": 3,
    "start_time": "2025-01-10T01:54:02.626Z"
   },
   {
    "duration": 11,
    "start_time": "2025-01-10T01:54:02.631Z"
   },
   {
    "duration": 5,
    "start_time": "2025-01-10T01:54:02.644Z"
   },
   {
    "duration": 4,
    "start_time": "2025-01-10T01:54:02.650Z"
   },
   {
    "duration": 4,
    "start_time": "2025-01-10T01:54:02.656Z"
   },
   {
    "duration": 5,
    "start_time": "2025-01-10T01:54:02.661Z"
   },
   {
    "duration": 4,
    "start_time": "2025-01-10T01:54:02.667Z"
   },
   {
    "duration": 4,
    "start_time": "2025-01-10T01:54:02.709Z"
   },
   {
    "duration": 6,
    "start_time": "2025-01-10T01:54:02.714Z"
   },
   {
    "duration": 0,
    "start_time": "2025-01-10T01:54:02.722Z"
   },
   {
    "duration": 0,
    "start_time": "2025-01-10T01:54:02.723Z"
   },
   {
    "duration": 0,
    "start_time": "2025-01-10T01:54:02.725Z"
   },
   {
    "duration": 0,
    "start_time": "2025-01-10T01:54:02.726Z"
   },
   {
    "duration": 0,
    "start_time": "2025-01-10T01:54:02.727Z"
   },
   {
    "duration": 0,
    "start_time": "2025-01-10T01:54:02.728Z"
   },
   {
    "duration": 0,
    "start_time": "2025-01-10T01:54:02.729Z"
   },
   {
    "duration": 0,
    "start_time": "2025-01-10T01:54:02.731Z"
   },
   {
    "duration": 0,
    "start_time": "2025-01-10T01:54:02.732Z"
   },
   {
    "duration": 0,
    "start_time": "2025-01-10T01:54:02.733Z"
   },
   {
    "duration": 0,
    "start_time": "2025-01-10T01:54:02.735Z"
   },
   {
    "duration": 28,
    "start_time": "2025-01-10T01:56:12.828Z"
   },
   {
    "duration": 791,
    "start_time": "2025-01-10T01:56:24.400Z"
   },
   {
    "duration": 36,
    "start_time": "2025-01-10T01:56:25.194Z"
   },
   {
    "duration": 3,
    "start_time": "2025-01-10T01:56:25.231Z"
   },
   {
    "duration": 11,
    "start_time": "2025-01-10T01:56:25.237Z"
   },
   {
    "duration": 5,
    "start_time": "2025-01-10T01:56:25.250Z"
   },
   {
    "duration": 4,
    "start_time": "2025-01-10T01:56:25.256Z"
   },
   {
    "duration": 4,
    "start_time": "2025-01-10T01:56:25.262Z"
   },
   {
    "duration": 5,
    "start_time": "2025-01-10T01:56:25.268Z"
   },
   {
    "duration": 37,
    "start_time": "2025-01-10T01:56:25.274Z"
   },
   {
    "duration": 4,
    "start_time": "2025-01-10T01:56:25.313Z"
   },
   {
    "duration": 28,
    "start_time": "2025-01-10T01:56:25.318Z"
   },
   {
    "duration": 4,
    "start_time": "2025-01-10T01:56:25.347Z"
   },
   {
    "duration": 5,
    "start_time": "2025-01-10T01:56:25.352Z"
   },
   {
    "duration": 6,
    "start_time": "2025-01-10T01:56:25.359Z"
   },
   {
    "duration": 6,
    "start_time": "2025-01-10T01:56:25.367Z"
   },
   {
    "duration": 139,
    "start_time": "2025-01-10T01:56:25.408Z"
   },
   {
    "duration": 134,
    "start_time": "2025-01-10T01:56:25.548Z"
   },
   {
    "duration": 180,
    "start_time": "2025-01-10T01:56:25.684Z"
   },
   {
    "duration": 124,
    "start_time": "2025-01-10T01:56:25.866Z"
   },
   {
    "duration": 129,
    "start_time": "2025-01-10T01:56:25.992Z"
   },
   {
    "duration": 109,
    "start_time": "2025-01-10T01:56:26.123Z"
   },
   {
    "duration": 647,
    "start_time": "2025-01-10T01:56:26.234Z"
   },
   {
    "duration": 839,
    "start_time": "2025-01-10T01:58:00.042Z"
   },
   {
    "duration": 37,
    "start_time": "2025-01-10T01:58:00.883Z"
   },
   {
    "duration": 3,
    "start_time": "2025-01-10T01:58:00.921Z"
   },
   {
    "duration": 11,
    "start_time": "2025-01-10T01:58:00.927Z"
   },
   {
    "duration": 5,
    "start_time": "2025-01-10T01:58:00.939Z"
   },
   {
    "duration": 4,
    "start_time": "2025-01-10T01:58:00.946Z"
   },
   {
    "duration": 5,
    "start_time": "2025-01-10T01:58:00.951Z"
   },
   {
    "duration": 4,
    "start_time": "2025-01-10T01:58:00.958Z"
   },
   {
    "duration": 5,
    "start_time": "2025-01-10T01:58:00.964Z"
   },
   {
    "duration": 41,
    "start_time": "2025-01-10T01:58:00.971Z"
   },
   {
    "duration": 28,
    "start_time": "2025-01-10T01:58:01.013Z"
   },
   {
    "duration": 4,
    "start_time": "2025-01-10T01:58:01.042Z"
   },
   {
    "duration": 4,
    "start_time": "2025-01-10T01:58:01.047Z"
   },
   {
    "duration": 7,
    "start_time": "2025-01-10T01:58:01.053Z"
   },
   {
    "duration": 5,
    "start_time": "2025-01-10T01:58:01.063Z"
   },
   {
    "duration": 176,
    "start_time": "2025-01-10T01:58:01.070Z"
   },
   {
    "duration": 134,
    "start_time": "2025-01-10T01:58:01.248Z"
   },
   {
    "duration": 200,
    "start_time": "2025-01-10T01:58:01.384Z"
   },
   {
    "duration": 129,
    "start_time": "2025-01-10T01:58:01.586Z"
   },
   {
    "duration": 123,
    "start_time": "2025-01-10T01:58:01.717Z"
   },
   {
    "duration": 102,
    "start_time": "2025-01-10T01:58:01.842Z"
   },
   {
    "duration": 674,
    "start_time": "2025-01-10T01:58:01.946Z"
   },
   {
    "duration": 13,
    "start_time": "2025-01-10T01:58:42.299Z"
   },
   {
    "duration": 273,
    "start_time": "2025-01-10T01:59:57.189Z"
   },
   {
    "duration": 791,
    "start_time": "2025-01-10T02:01:02.379Z"
   },
   {
    "duration": 37,
    "start_time": "2025-01-10T02:01:03.172Z"
   },
   {
    "duration": 3,
    "start_time": "2025-01-10T02:01:03.211Z"
   },
   {
    "duration": 10,
    "start_time": "2025-01-10T02:01:03.217Z"
   },
   {
    "duration": 4,
    "start_time": "2025-01-10T02:01:03.229Z"
   },
   {
    "duration": 4,
    "start_time": "2025-01-10T02:01:03.235Z"
   },
   {
    "duration": 6,
    "start_time": "2025-01-10T02:01:03.240Z"
   },
   {
    "duration": 5,
    "start_time": "2025-01-10T02:01:03.247Z"
   },
   {
    "duration": 5,
    "start_time": "2025-01-10T02:01:03.253Z"
   },
   {
    "duration": 3,
    "start_time": "2025-01-10T02:01:03.260Z"
   },
   {
    "duration": 28,
    "start_time": "2025-01-10T02:01:03.309Z"
   },
   {
    "duration": 4,
    "start_time": "2025-01-10T02:01:03.338Z"
   },
   {
    "duration": 4,
    "start_time": "2025-01-10T02:01:03.343Z"
   },
   {
    "duration": 6,
    "start_time": "2025-01-10T02:01:03.349Z"
   },
   {
    "duration": 6,
    "start_time": "2025-01-10T02:01:03.356Z"
   },
   {
    "duration": 169,
    "start_time": "2025-01-10T02:01:03.363Z"
   },
   {
    "duration": 132,
    "start_time": "2025-01-10T02:01:03.534Z"
   },
   {
    "duration": 175,
    "start_time": "2025-01-10T02:01:03.668Z"
   },
   {
    "duration": 128,
    "start_time": "2025-01-10T02:01:03.845Z"
   },
   {
    "duration": 120,
    "start_time": "2025-01-10T02:01:03.975Z"
   },
   {
    "duration": 99,
    "start_time": "2025-01-10T02:01:04.097Z"
   },
   {
    "duration": 18,
    "start_time": "2025-01-10T02:01:04.198Z"
   },
   {
    "duration": 826,
    "start_time": "2025-01-10T02:03:41.870Z"
   },
   {
    "duration": 36,
    "start_time": "2025-01-10T02:03:42.698Z"
   },
   {
    "duration": 3,
    "start_time": "2025-01-10T02:03:42.736Z"
   },
   {
    "duration": 10,
    "start_time": "2025-01-10T02:03:42.742Z"
   },
   {
    "duration": 5,
    "start_time": "2025-01-10T02:03:42.754Z"
   },
   {
    "duration": 4,
    "start_time": "2025-01-10T02:03:42.761Z"
   },
   {
    "duration": 6,
    "start_time": "2025-01-10T02:03:42.766Z"
   },
   {
    "duration": 35,
    "start_time": "2025-01-10T02:03:42.774Z"
   },
   {
    "duration": 5,
    "start_time": "2025-01-10T02:03:42.812Z"
   },
   {
    "duration": 3,
    "start_time": "2025-01-10T02:03:42.821Z"
   },
   {
    "duration": 29,
    "start_time": "2025-01-10T02:03:42.826Z"
   },
   {
    "duration": 4,
    "start_time": "2025-01-10T02:03:42.856Z"
   },
   {
    "duration": 3,
    "start_time": "2025-01-10T02:03:42.862Z"
   },
   {
    "duration": 41,
    "start_time": "2025-01-10T02:03:42.867Z"
   },
   {
    "duration": 6,
    "start_time": "2025-01-10T02:03:42.910Z"
   },
   {
    "duration": 145,
    "start_time": "2025-01-10T02:03:42.918Z"
   },
   {
    "duration": 129,
    "start_time": "2025-01-10T02:03:43.065Z"
   },
   {
    "duration": 182,
    "start_time": "2025-01-10T02:03:43.197Z"
   },
   {
    "duration": 129,
    "start_time": "2025-01-10T02:03:43.380Z"
   },
   {
    "duration": 119,
    "start_time": "2025-01-10T02:03:43.512Z"
   },
   {
    "duration": 101,
    "start_time": "2025-01-10T02:03:43.633Z"
   },
   {
    "duration": 11,
    "start_time": "2025-01-10T02:03:43.735Z"
   },
   {
    "duration": 812,
    "start_time": "2025-01-10T02:05:52.558Z"
   },
   {
    "duration": 37,
    "start_time": "2025-01-10T02:05:53.372Z"
   },
   {
    "duration": 3,
    "start_time": "2025-01-10T02:05:53.410Z"
   },
   {
    "duration": 11,
    "start_time": "2025-01-10T02:05:53.416Z"
   },
   {
    "duration": 5,
    "start_time": "2025-01-10T02:05:53.428Z"
   },
   {
    "duration": 4,
    "start_time": "2025-01-10T02:05:53.435Z"
   },
   {
    "duration": 5,
    "start_time": "2025-01-10T02:05:53.441Z"
   },
   {
    "duration": 4,
    "start_time": "2025-01-10T02:05:53.448Z"
   },
   {
    "duration": 4,
    "start_time": "2025-01-10T02:05:53.454Z"
   },
   {
    "duration": 3,
    "start_time": "2025-01-10T02:05:53.461Z"
   },
   {
    "duration": 16,
    "start_time": "2025-01-10T02:05:53.510Z"
   },
   {
    "duration": 3,
    "start_time": "2025-01-10T02:05:53.528Z"
   },
   {
    "duration": 5,
    "start_time": "2025-01-10T02:05:53.533Z"
   },
   {
    "duration": 6,
    "start_time": "2025-01-10T02:05:53.540Z"
   },
   {
    "duration": 6,
    "start_time": "2025-01-10T02:05:53.548Z"
   },
   {
    "duration": 176,
    "start_time": "2025-01-10T02:05:53.555Z"
   },
   {
    "duration": 153,
    "start_time": "2025-01-10T02:05:53.732Z"
   },
   {
    "duration": 176,
    "start_time": "2025-01-10T02:05:53.887Z"
   },
   {
    "duration": 126,
    "start_time": "2025-01-10T02:05:54.065Z"
   },
   {
    "duration": 124,
    "start_time": "2025-01-10T02:05:54.193Z"
   },
   {
    "duration": 101,
    "start_time": "2025-01-10T02:05:54.319Z"
   },
   {
    "duration": 10,
    "start_time": "2025-01-10T02:05:54.422Z"
   },
   {
    "duration": 848,
    "start_time": "2025-01-10T02:07:56.858Z"
   },
   {
    "duration": 39,
    "start_time": "2025-01-10T02:07:57.707Z"
   },
   {
    "duration": 3,
    "start_time": "2025-01-10T02:07:57.748Z"
   },
   {
    "duration": 10,
    "start_time": "2025-01-10T02:07:57.753Z"
   },
   {
    "duration": 5,
    "start_time": "2025-01-10T02:07:57.766Z"
   },
   {
    "duration": 3,
    "start_time": "2025-01-10T02:07:57.773Z"
   },
   {
    "duration": 11,
    "start_time": "2025-01-10T02:07:57.808Z"
   },
   {
    "duration": 5,
    "start_time": "2025-01-10T02:07:57.821Z"
   },
   {
    "duration": 5,
    "start_time": "2025-01-10T02:07:57.827Z"
   },
   {
    "duration": 3,
    "start_time": "2025-01-10T02:07:57.833Z"
   },
   {
    "duration": 17,
    "start_time": "2025-01-10T02:07:57.838Z"
   },
   {
    "duration": 4,
    "start_time": "2025-01-10T02:07:57.857Z"
   },
   {
    "duration": 5,
    "start_time": "2025-01-10T02:07:57.862Z"
   },
   {
    "duration": 39,
    "start_time": "2025-01-10T02:07:57.870Z"
   },
   {
    "duration": 6,
    "start_time": "2025-01-10T02:07:57.910Z"
   },
   {
    "duration": 166,
    "start_time": "2025-01-10T02:07:57.918Z"
   },
   {
    "duration": 140,
    "start_time": "2025-01-10T02:07:58.086Z"
   },
   {
    "duration": 186,
    "start_time": "2025-01-10T02:07:58.227Z"
   },
   {
    "duration": 137,
    "start_time": "2025-01-10T02:07:58.415Z"
   },
   {
    "duration": 137,
    "start_time": "2025-01-10T02:07:58.553Z"
   },
   {
    "duration": 98,
    "start_time": "2025-01-10T02:07:58.691Z"
   },
   {
    "duration": 19,
    "start_time": "2025-01-10T02:07:58.791Z"
   },
   {
    "duration": 819,
    "start_time": "2025-01-10T02:08:29.771Z"
   },
   {
    "duration": 36,
    "start_time": "2025-01-10T02:08:30.593Z"
   },
   {
    "duration": 2,
    "start_time": "2025-01-10T02:08:30.631Z"
   },
   {
    "duration": 12,
    "start_time": "2025-01-10T02:08:30.635Z"
   },
   {
    "duration": 5,
    "start_time": "2025-01-10T02:08:30.649Z"
   },
   {
    "duration": 4,
    "start_time": "2025-01-10T02:08:30.655Z"
   },
   {
    "duration": 4,
    "start_time": "2025-01-10T02:08:30.661Z"
   },
   {
    "duration": 5,
    "start_time": "2025-01-10T02:08:30.667Z"
   },
   {
    "duration": 38,
    "start_time": "2025-01-10T02:08:30.673Z"
   },
   {
    "duration": 3,
    "start_time": "2025-01-10T02:08:30.713Z"
   },
   {
    "duration": 17,
    "start_time": "2025-01-10T02:08:30.718Z"
   },
   {
    "duration": 3,
    "start_time": "2025-01-10T02:08:30.736Z"
   },
   {
    "duration": 4,
    "start_time": "2025-01-10T02:08:30.741Z"
   },
   {
    "duration": 5,
    "start_time": "2025-01-10T02:08:30.749Z"
   },
   {
    "duration": 5,
    "start_time": "2025-01-10T02:08:30.756Z"
   },
   {
    "duration": 175,
    "start_time": "2025-01-10T02:08:30.762Z"
   },
   {
    "duration": 141,
    "start_time": "2025-01-10T02:08:30.939Z"
   },
   {
    "duration": 178,
    "start_time": "2025-01-10T02:08:31.083Z"
   },
   {
    "duration": 134,
    "start_time": "2025-01-10T02:08:31.262Z"
   },
   {
    "duration": 126,
    "start_time": "2025-01-10T02:08:31.397Z"
   },
   {
    "duration": 102,
    "start_time": "2025-01-10T02:08:31.524Z"
   },
   {
    "duration": 129,
    "start_time": "2025-01-10T02:08:31.628Z"
   },
   {
    "duration": 217,
    "start_time": "2025-01-10T02:09:35.128Z"
   },
   {
    "duration": 116,
    "start_time": "2025-01-10T02:09:43.515Z"
   },
   {
    "duration": 106,
    "start_time": "2025-01-10T02:09:59.776Z"
   },
   {
    "duration": 102,
    "start_time": "2025-01-10T02:10:38.229Z"
   },
   {
    "duration": 279,
    "start_time": "2025-01-10T02:12:11.122Z"
   },
   {
    "duration": 6,
    "start_time": "2025-01-10T02:18:15.997Z"
   },
   {
    "duration": 100,
    "start_time": "2025-01-10T02:18:24.911Z"
   },
   {
    "duration": 100,
    "start_time": "2025-01-10T02:19:08.202Z"
   },
   {
    "duration": 274,
    "start_time": "2025-01-10T02:21:18.180Z"
   },
   {
    "duration": 278,
    "start_time": "2025-01-10T02:21:49.103Z"
   },
   {
    "duration": 280,
    "start_time": "2025-01-10T02:22:05.461Z"
   },
   {
    "duration": 393,
    "start_time": "2025-01-10T02:22:32.591Z"
   },
   {
    "duration": 275,
    "start_time": "2025-01-10T02:23:30.051Z"
   },
   {
    "duration": 422,
    "start_time": "2025-01-10T02:26:20.234Z"
   },
   {
    "duration": 42,
    "start_time": "2025-01-10T02:26:28.347Z"
   },
   {
    "duration": 3,
    "start_time": "2025-01-10T02:26:34.619Z"
   },
   {
    "duration": 19,
    "start_time": "2025-01-10T02:27:37.407Z"
   },
   {
    "duration": 15,
    "start_time": "2025-01-10T02:27:44.517Z"
   },
   {
    "duration": 16,
    "start_time": "2025-01-10T02:27:53.110Z"
   },
   {
    "duration": 5,
    "start_time": "2025-01-10T02:28:03.170Z"
   },
   {
    "duration": 4,
    "start_time": "2025-01-10T02:28:51.524Z"
   },
   {
    "duration": 4,
    "start_time": "2025-01-10T02:29:11.409Z"
   },
   {
    "duration": 399,
    "start_time": "2025-01-10T02:30:10.021Z"
   },
   {
    "duration": 368,
    "start_time": "2025-01-10T02:32:53.963Z"
   },
   {
    "duration": 269,
    "start_time": "2025-01-10T02:33:40.383Z"
   },
   {
    "duration": 7,
    "start_time": "2025-01-10T02:36:00.453Z"
   },
   {
    "duration": 6,
    "start_time": "2025-01-10T02:36:00.813Z"
   },
   {
    "duration": 106,
    "start_time": "2025-01-10T02:36:01.298Z"
   },
   {
    "duration": 118,
    "start_time": "2025-01-10T02:36:01.479Z"
   },
   {
    "duration": 127,
    "start_time": "2025-01-10T02:36:01.600Z"
   },
   {
    "duration": 115,
    "start_time": "2025-01-10T02:36:01.769Z"
   },
   {
    "duration": 103,
    "start_time": "2025-01-10T02:36:01.909Z"
   },
   {
    "duration": 236,
    "start_time": "2025-01-10T02:36:02.210Z"
   },
   {
    "duration": 226,
    "start_time": "2025-01-10T02:36:03.798Z"
   },
   {
    "duration": 5,
    "start_time": "2025-01-10T02:36:05.112Z"
   },
   {
    "duration": 2579,
    "start_time": "2025-01-13T22:36:09.060Z"
   },
   {
    "duration": 41,
    "start_time": "2025-01-13T22:36:11.641Z"
   },
   {
    "duration": 3,
    "start_time": "2025-01-13T22:36:11.683Z"
   },
   {
    "duration": 11,
    "start_time": "2025-01-13T22:36:11.688Z"
   },
   {
    "duration": 12,
    "start_time": "2025-01-13T22:36:11.701Z"
   },
   {
    "duration": 4,
    "start_time": "2025-01-13T22:36:11.715Z"
   },
   {
    "duration": 5,
    "start_time": "2025-01-13T22:36:11.720Z"
   },
   {
    "duration": 5,
    "start_time": "2025-01-13T22:36:11.726Z"
   },
   {
    "duration": 4,
    "start_time": "2025-01-13T22:36:11.733Z"
   },
   {
    "duration": 3,
    "start_time": "2025-01-13T22:36:11.739Z"
   },
   {
    "duration": 15,
    "start_time": "2025-01-13T22:36:11.744Z"
   },
   {
    "duration": 3,
    "start_time": "2025-01-13T22:36:11.761Z"
   },
   {
    "duration": 47,
    "start_time": "2025-01-13T22:36:11.766Z"
   },
   {
    "duration": 7,
    "start_time": "2025-01-13T22:36:11.816Z"
   },
   {
    "duration": 5,
    "start_time": "2025-01-13T22:36:11.824Z"
   },
   {
    "duration": 125,
    "start_time": "2025-01-13T22:36:11.832Z"
   },
   {
    "duration": 128,
    "start_time": "2025-01-13T22:36:11.958Z"
   },
   {
    "duration": 120,
    "start_time": "2025-01-13T22:36:12.087Z"
   },
   {
    "duration": 123,
    "start_time": "2025-01-13T22:36:12.211Z"
   },
   {
    "duration": 177,
    "start_time": "2025-01-13T22:36:12.336Z"
   },
   {
    "duration": 244,
    "start_time": "2025-01-13T22:36:12.515Z"
   },
   {
    "duration": 223,
    "start_time": "2025-01-13T22:36:12.761Z"
   },
   {
    "duration": 4,
    "start_time": "2025-01-13T22:36:12.986Z"
   },
   {
    "duration": 2,
    "start_time": "2025-01-13T22:36:12.993Z"
   },
   {
    "duration": 228,
    "start_time": "2025-01-13T22:37:13.768Z"
   },
   {
    "duration": 6,
    "start_time": "2025-01-13T22:39:18.343Z"
   },
   {
    "duration": 6,
    "start_time": "2025-01-13T22:39:37.229Z"
   },
   {
    "duration": 5,
    "start_time": "2025-01-13T22:39:44.401Z"
   },
   {
    "duration": 6,
    "start_time": "2025-01-13T22:40:52.551Z"
   },
   {
    "duration": 6,
    "start_time": "2025-01-13T22:46:19.015Z"
   },
   {
    "duration": 6,
    "start_time": "2025-01-13T22:46:35.423Z"
   },
   {
    "duration": 6,
    "start_time": "2025-01-13T22:46:43.227Z"
   },
   {
    "duration": 5,
    "start_time": "2025-01-13T22:50:39.310Z"
   },
   {
    "duration": 8,
    "start_time": "2025-01-13T22:51:12.213Z"
   },
   {
    "duration": 10,
    "start_time": "2025-01-13T22:51:39.628Z"
   },
   {
    "duration": 10,
    "start_time": "2025-01-13T22:51:48.110Z"
   },
   {
    "duration": 10,
    "start_time": "2025-01-13T22:52:58.960Z"
   },
   {
    "duration": 14,
    "start_time": "2025-01-13T22:55:18.077Z"
   },
   {
    "duration": 14,
    "start_time": "2025-01-13T22:55:34.432Z"
   },
   {
    "duration": 9,
    "start_time": "2025-01-13T22:55:52.698Z"
   },
   {
    "duration": 5,
    "start_time": "2025-01-13T22:57:36.945Z"
   },
   {
    "duration": 528,
    "start_time": "2025-01-13T22:57:50.873Z"
   },
   {
    "duration": 5,
    "start_time": "2025-01-13T22:58:22.078Z"
   },
   {
    "duration": 17,
    "start_time": "2025-01-13T22:59:58.076Z"
   },
   {
    "duration": 5,
    "start_time": "2025-01-13T23:00:15.652Z"
   },
   {
    "duration": 19,
    "start_time": "2025-01-13T23:02:24.204Z"
   },
   {
    "duration": 14,
    "start_time": "2025-01-13T23:02:52.385Z"
   },
   {
    "duration": 16,
    "start_time": "2025-01-13T23:03:20.491Z"
   },
   {
    "duration": 5,
    "start_time": "2025-01-13T23:03:38.531Z"
   },
   {
    "duration": 10,
    "start_time": "2025-01-13T23:03:43.666Z"
   },
   {
    "duration": 6,
    "start_time": "2025-01-13T23:04:07.706Z"
   },
   {
    "duration": 11,
    "start_time": "2025-01-13T23:04:23.783Z"
   },
   {
    "duration": 18,
    "start_time": "2025-01-13T23:04:53.249Z"
   },
   {
    "duration": 159,
    "start_time": "2025-01-13T23:10:16.120Z"
   },
   {
    "duration": 11,
    "start_time": "2025-01-13T23:10:33.503Z"
   },
   {
    "duration": 13,
    "start_time": "2025-01-13T23:10:56.835Z"
   },
   {
    "duration": 12,
    "start_time": "2025-01-13T23:13:07.481Z"
   },
   {
    "duration": 13,
    "start_time": "2025-01-13T23:13:31.543Z"
   },
   {
    "duration": 13,
    "start_time": "2025-01-13T23:14:17.093Z"
   },
   {
    "duration": 10,
    "start_time": "2025-01-13T23:14:45.705Z"
   },
   {
    "duration": 9,
    "start_time": "2025-01-13T23:15:25.752Z"
   },
   {
    "duration": 12,
    "start_time": "2025-01-13T23:15:28.834Z"
   },
   {
    "duration": 10,
    "start_time": "2025-01-13T23:15:50.566Z"
   },
   {
    "duration": 10,
    "start_time": "2025-01-13T23:17:06.498Z"
   },
   {
    "duration": 6,
    "start_time": "2025-01-13T23:23:19.737Z"
   },
   {
    "duration": 7,
    "start_time": "2025-01-13T23:24:15.426Z"
   },
   {
    "duration": 9,
    "start_time": "2025-01-13T23:24:26.625Z"
   },
   {
    "duration": 8,
    "start_time": "2025-01-13T23:25:15.417Z"
   },
   {
    "duration": 20,
    "start_time": "2025-01-14T00:25:04.584Z"
   },
   {
    "duration": 11,
    "start_time": "2025-01-14T00:25:36.693Z"
   },
   {
    "duration": 9,
    "start_time": "2025-01-14T00:26:14.194Z"
   },
   {
    "duration": 8,
    "start_time": "2025-01-14T00:28:23.367Z"
   },
   {
    "duration": 8,
    "start_time": "2025-01-14T00:28:36.747Z"
   },
   {
    "duration": 9,
    "start_time": "2025-01-14T00:28:44.869Z"
   },
   {
    "duration": 3,
    "start_time": "2025-01-14T00:31:37.390Z"
   },
   {
    "duration": 31,
    "start_time": "2025-01-14T00:31:55.775Z"
   },
   {
    "duration": 292,
    "start_time": "2025-01-14T00:39:20.519Z"
   },
   {
    "duration": 763,
    "start_time": "2025-01-14T00:39:33.778Z"
   },
   {
    "duration": 36,
    "start_time": "2025-01-14T00:39:34.543Z"
   },
   {
    "duration": 3,
    "start_time": "2025-01-14T00:39:34.581Z"
   },
   {
    "duration": 28,
    "start_time": "2025-01-14T00:39:34.586Z"
   },
   {
    "duration": 4,
    "start_time": "2025-01-14T00:39:34.617Z"
   },
   {
    "duration": 5,
    "start_time": "2025-01-14T00:39:34.623Z"
   },
   {
    "duration": 6,
    "start_time": "2025-01-14T00:39:34.629Z"
   },
   {
    "duration": 4,
    "start_time": "2025-01-14T00:39:34.637Z"
   },
   {
    "duration": 5,
    "start_time": "2025-01-14T00:39:34.642Z"
   },
   {
    "duration": 4,
    "start_time": "2025-01-14T00:39:34.649Z"
   },
   {
    "duration": 16,
    "start_time": "2025-01-14T00:39:34.654Z"
   },
   {
    "duration": 42,
    "start_time": "2025-01-14T00:39:34.672Z"
   },
   {
    "duration": 7,
    "start_time": "2025-01-14T00:39:34.716Z"
   },
   {
    "duration": 6,
    "start_time": "2025-01-14T00:39:34.727Z"
   },
   {
    "duration": 6,
    "start_time": "2025-01-14T00:39:34.735Z"
   },
   {
    "duration": 134,
    "start_time": "2025-01-14T00:39:34.742Z"
   },
   {
    "duration": 127,
    "start_time": "2025-01-14T00:39:34.879Z"
   },
   {
    "duration": 174,
    "start_time": "2025-01-14T00:39:35.008Z"
   },
   {
    "duration": 144,
    "start_time": "2025-01-14T00:39:35.185Z"
   },
   {
    "duration": 118,
    "start_time": "2025-01-14T00:39:35.331Z"
   },
   {
    "duration": 239,
    "start_time": "2025-01-14T00:39:35.451Z"
   },
   {
    "duration": 225,
    "start_time": "2025-01-14T00:39:35.692Z"
   },
   {
    "duration": 5,
    "start_time": "2025-01-14T00:39:35.919Z"
   },
   {
    "duration": 6,
    "start_time": "2025-01-14T00:39:35.926Z"
   },
   {
    "duration": 7,
    "start_time": "2025-01-14T00:39:35.934Z"
   },
   {
    "duration": 7,
    "start_time": "2025-01-14T00:39:35.943Z"
   },
   {
    "duration": 9,
    "start_time": "2025-01-14T00:39:35.952Z"
   },
   {
    "duration": 9,
    "start_time": "2025-01-14T00:39:35.963Z"
   },
   {
    "duration": 8,
    "start_time": "2025-01-14T00:39:36.011Z"
   },
   {
    "duration": 483,
    "start_time": "2025-01-14T00:40:59.410Z"
   },
   {
    "duration": 786,
    "start_time": "2025-01-14T00:41:06.712Z"
   },
   {
    "duration": 35,
    "start_time": "2025-01-14T00:41:07.501Z"
   },
   {
    "duration": 3,
    "start_time": "2025-01-14T00:41:07.538Z"
   },
   {
    "duration": 12,
    "start_time": "2025-01-14T00:41:07.542Z"
   },
   {
    "duration": 5,
    "start_time": "2025-01-14T00:41:07.556Z"
   },
   {
    "duration": 6,
    "start_time": "2025-01-14T00:41:07.562Z"
   },
   {
    "duration": 13,
    "start_time": "2025-01-14T00:41:07.569Z"
   },
   {
    "duration": 29,
    "start_time": "2025-01-14T00:41:07.584Z"
   },
   {
    "duration": 6,
    "start_time": "2025-01-14T00:41:07.615Z"
   },
   {
    "duration": 4,
    "start_time": "2025-01-14T00:41:07.623Z"
   },
   {
    "duration": 20,
    "start_time": "2025-01-14T00:41:07.629Z"
   },
   {
    "duration": 3,
    "start_time": "2025-01-14T00:41:07.651Z"
   },
   {
    "duration": 5,
    "start_time": "2025-01-14T00:41:07.656Z"
   },
   {
    "duration": 6,
    "start_time": "2025-01-14T00:41:07.664Z"
   },
   {
    "duration": 41,
    "start_time": "2025-01-14T00:41:07.672Z"
   },
   {
    "duration": 115,
    "start_time": "2025-01-14T00:41:07.715Z"
   },
   {
    "duration": 125,
    "start_time": "2025-01-14T00:41:07.832Z"
   },
   {
    "duration": 171,
    "start_time": "2025-01-14T00:41:07.959Z"
   },
   {
    "duration": 119,
    "start_time": "2025-01-14T00:41:08.132Z"
   },
   {
    "duration": 115,
    "start_time": "2025-01-14T00:41:08.253Z"
   },
   {
    "duration": 237,
    "start_time": "2025-01-14T00:41:08.370Z"
   },
   {
    "duration": 234,
    "start_time": "2025-01-14T00:41:08.612Z"
   },
   {
    "duration": 5,
    "start_time": "2025-01-14T00:41:08.848Z"
   },
   {
    "duration": 6,
    "start_time": "2025-01-14T00:41:08.854Z"
   },
   {
    "duration": 9,
    "start_time": "2025-01-14T00:41:08.861Z"
   },
   {
    "duration": 8,
    "start_time": "2025-01-14T00:41:08.871Z"
   },
   {
    "duration": 35,
    "start_time": "2025-01-14T00:41:08.881Z"
   },
   {
    "duration": 9,
    "start_time": "2025-01-14T00:41:08.917Z"
   },
   {
    "duration": 8,
    "start_time": "2025-01-14T00:41:08.928Z"
   },
   {
    "duration": 6,
    "start_time": "2025-01-14T00:49:37.960Z"
   },
   {
    "duration": 851,
    "start_time": "2025-01-14T01:07:59.536Z"
   },
   {
    "duration": 32,
    "start_time": "2025-01-14T01:08:00.389Z"
   },
   {
    "duration": 2,
    "start_time": "2025-01-14T01:08:00.423Z"
   },
   {
    "duration": 12,
    "start_time": "2025-01-14T01:08:00.427Z"
   },
   {
    "duration": 5,
    "start_time": "2025-01-14T01:08:00.442Z"
   },
   {
    "duration": 6,
    "start_time": "2025-01-14T01:08:00.448Z"
   },
   {
    "duration": 5,
    "start_time": "2025-01-14T01:08:00.455Z"
   },
   {
    "duration": 5,
    "start_time": "2025-01-14T01:08:00.462Z"
   },
   {
    "duration": 6,
    "start_time": "2025-01-14T01:08:00.468Z"
   },
   {
    "duration": 39,
    "start_time": "2025-01-14T01:08:00.475Z"
   },
   {
    "duration": 16,
    "start_time": "2025-01-14T01:08:00.516Z"
   },
   {
    "duration": 4,
    "start_time": "2025-01-14T01:08:00.533Z"
   },
   {
    "duration": 5,
    "start_time": "2025-01-14T01:08:00.538Z"
   },
   {
    "duration": 5,
    "start_time": "2025-01-14T01:08:00.546Z"
   },
   {
    "duration": 5,
    "start_time": "2025-01-14T01:08:00.552Z"
   },
   {
    "duration": 139,
    "start_time": "2025-01-14T01:08:00.559Z"
   },
   {
    "duration": 136,
    "start_time": "2025-01-14T01:08:00.700Z"
   },
   {
    "duration": 175,
    "start_time": "2025-01-14T01:08:00.838Z"
   },
   {
    "duration": 125,
    "start_time": "2025-01-14T01:08:01.015Z"
   },
   {
    "duration": 124,
    "start_time": "2025-01-14T01:08:01.142Z"
   },
   {
    "duration": 234,
    "start_time": "2025-01-14T01:08:01.268Z"
   },
   {
    "duration": 222,
    "start_time": "2025-01-14T01:08:01.505Z"
   },
   {
    "duration": 5,
    "start_time": "2025-01-14T01:08:01.729Z"
   },
   {
    "duration": 5,
    "start_time": "2025-01-14T01:08:01.735Z"
   },
   {
    "duration": 8,
    "start_time": "2025-01-14T01:08:01.742Z"
   },
   {
    "duration": 8,
    "start_time": "2025-01-14T01:08:01.752Z"
   },
   {
    "duration": 11,
    "start_time": "2025-01-14T01:08:01.762Z"
   },
   {
    "duration": 47,
    "start_time": "2025-01-14T01:08:01.774Z"
   },
   {
    "duration": 8,
    "start_time": "2025-01-14T01:08:01.823Z"
   },
   {
    "duration": 796,
    "start_time": "2025-01-14T01:16:49.506Z"
   },
   {
    "duration": 32,
    "start_time": "2025-01-14T01:16:50.304Z"
   },
   {
    "duration": 3,
    "start_time": "2025-01-14T01:16:50.338Z"
   },
   {
    "duration": 11,
    "start_time": "2025-01-14T01:16:50.343Z"
   },
   {
    "duration": 5,
    "start_time": "2025-01-14T01:16:50.356Z"
   },
   {
    "duration": 4,
    "start_time": "2025-01-14T01:16:50.362Z"
   },
   {
    "duration": 5,
    "start_time": "2025-01-14T01:16:50.368Z"
   },
   {
    "duration": 39,
    "start_time": "2025-01-14T01:16:50.374Z"
   },
   {
    "duration": 5,
    "start_time": "2025-01-14T01:16:50.414Z"
   },
   {
    "duration": 3,
    "start_time": "2025-01-14T01:16:50.422Z"
   },
   {
    "duration": 17,
    "start_time": "2025-01-14T01:16:50.426Z"
   },
   {
    "duration": 4,
    "start_time": "2025-01-14T01:16:50.444Z"
   },
   {
    "duration": 4,
    "start_time": "2025-01-14T01:16:50.449Z"
   },
   {
    "duration": 6,
    "start_time": "2025-01-14T01:16:50.454Z"
   },
   {
    "duration": 5,
    "start_time": "2025-01-14T01:16:50.462Z"
   },
   {
    "duration": 179,
    "start_time": "2025-01-14T01:16:50.468Z"
   },
   {
    "duration": 134,
    "start_time": "2025-01-14T01:16:50.649Z"
   },
   {
    "duration": 180,
    "start_time": "2025-01-14T01:16:50.785Z"
   },
   {
    "duration": 128,
    "start_time": "2025-01-14T01:16:50.969Z"
   },
   {
    "duration": 120,
    "start_time": "2025-01-14T01:16:51.099Z"
   },
   {
    "duration": 279,
    "start_time": "2025-01-14T01:16:51.221Z"
   },
   {
    "duration": 230,
    "start_time": "2025-01-14T01:16:51.504Z"
   },
   {
    "duration": 5,
    "start_time": "2025-01-14T01:16:51.736Z"
   },
   {
    "duration": 6,
    "start_time": "2025-01-14T01:16:51.743Z"
   },
   {
    "duration": 9,
    "start_time": "2025-01-14T01:16:51.750Z"
   },
   {
    "duration": 9,
    "start_time": "2025-01-14T01:16:51.760Z"
   },
   {
    "duration": 42,
    "start_time": "2025-01-14T01:16:51.771Z"
   },
   {
    "duration": 9,
    "start_time": "2025-01-14T01:16:51.816Z"
   },
   {
    "duration": 8,
    "start_time": "2025-01-14T01:16:51.827Z"
   },
   {
    "duration": 182,
    "start_time": "2025-01-14T01:18:47.205Z"
   },
   {
    "duration": 153,
    "start_time": "2025-01-14T01:18:57.061Z"
   },
   {
    "duration": 165,
    "start_time": "2025-01-14T01:20:14.413Z"
   },
   {
    "duration": 152,
    "start_time": "2025-01-14T01:28:25.939Z"
   },
   {
    "duration": 212,
    "start_time": "2025-01-14T01:40:10.171Z"
   },
   {
    "duration": 4,
    "start_time": "2025-01-14T01:54:48.543Z"
   },
   {
    "duration": 153,
    "start_time": "2025-01-14T01:54:54.412Z"
   },
   {
    "duration": 138,
    "start_time": "2025-01-14T02:01:54.054Z"
   },
   {
    "duration": 258,
    "start_time": "2025-01-14T02:11:18.373Z"
   },
   {
    "duration": 282,
    "start_time": "2025-01-14T02:11:26.860Z"
   },
   {
    "duration": 581,
    "start_time": "2025-01-14T02:13:35.819Z"
   },
   {
    "duration": 296,
    "start_time": "2025-01-14T02:14:27.107Z"
   },
   {
    "duration": 5,
    "start_time": "2025-01-14T02:15:23.948Z"
   },
   {
    "duration": 349,
    "start_time": "2025-01-14T02:15:32.850Z"
   },
   {
    "duration": 269,
    "start_time": "2025-01-14T02:15:44.370Z"
   },
   {
    "duration": 807,
    "start_time": "2025-01-14T02:20:02.281Z"
   },
   {
    "duration": 36,
    "start_time": "2025-01-14T02:20:03.090Z"
   },
   {
    "duration": 3,
    "start_time": "2025-01-14T02:20:03.128Z"
   },
   {
    "duration": 12,
    "start_time": "2025-01-14T02:20:03.132Z"
   },
   {
    "duration": 5,
    "start_time": "2025-01-14T02:20:03.146Z"
   },
   {
    "duration": 5,
    "start_time": "2025-01-14T02:20:03.153Z"
   },
   {
    "duration": 6,
    "start_time": "2025-01-14T02:20:03.159Z"
   },
   {
    "duration": 6,
    "start_time": "2025-01-14T02:20:03.166Z"
   },
   {
    "duration": 5,
    "start_time": "2025-01-14T02:20:03.173Z"
   },
   {
    "duration": 4,
    "start_time": "2025-01-14T02:20:03.212Z"
   },
   {
    "duration": 15,
    "start_time": "2025-01-14T02:20:03.218Z"
   },
   {
    "duration": 3,
    "start_time": "2025-01-14T02:20:03.235Z"
   },
   {
    "duration": 4,
    "start_time": "2025-01-14T02:20:03.240Z"
   },
   {
    "duration": 5,
    "start_time": "2025-01-14T02:20:03.248Z"
   },
   {
    "duration": 5,
    "start_time": "2025-01-14T02:20:03.255Z"
   },
   {
    "duration": 208,
    "start_time": "2025-01-14T02:20:03.262Z"
   },
   {
    "duration": 178,
    "start_time": "2025-01-14T02:20:03.472Z"
   },
   {
    "duration": 207,
    "start_time": "2025-01-14T02:20:03.652Z"
   },
   {
    "duration": 158,
    "start_time": "2025-01-14T02:20:03.861Z"
   },
   {
    "duration": 153,
    "start_time": "2025-01-14T02:20:04.021Z"
   },
   {
    "duration": 271,
    "start_time": "2025-01-14T02:20:04.175Z"
   },
   {
    "duration": 303,
    "start_time": "2025-01-14T02:20:04.447Z"
   },
   {
    "duration": 234,
    "start_time": "2025-01-14T02:20:04.751Z"
   },
   {
    "duration": 5,
    "start_time": "2025-01-14T02:20:04.987Z"
   },
   {
    "duration": 22,
    "start_time": "2025-01-14T02:20:04.994Z"
   },
   {
    "duration": 10,
    "start_time": "2025-01-14T02:20:05.018Z"
   },
   {
    "duration": 8,
    "start_time": "2025-01-14T02:20:05.030Z"
   },
   {
    "duration": 10,
    "start_time": "2025-01-14T02:20:05.040Z"
   },
   {
    "duration": 10,
    "start_time": "2025-01-14T02:20:05.052Z"
   },
   {
    "duration": 9,
    "start_time": "2025-01-14T02:20:05.064Z"
   },
   {
    "duration": 205,
    "start_time": "2025-01-14T02:40:42.095Z"
   },
   {
    "duration": 4,
    "start_time": "2025-01-14T03:00:26.863Z"
   },
   {
    "duration": 930,
    "start_time": "2025-01-14T03:00:47.176Z"
   },
   {
    "duration": 152,
    "start_time": "2025-01-14T03:01:00.632Z"
   },
   {
    "duration": 6,
    "start_time": "2025-01-14T03:02:07.891Z"
   },
   {
    "duration": 228,
    "start_time": "2025-01-14T03:02:32.767Z"
   },
   {
    "duration": 213,
    "start_time": "2025-01-14T03:03:37.564Z"
   },
   {
    "duration": 211,
    "start_time": "2025-01-14T03:03:49.379Z"
   },
   {
    "duration": 14,
    "start_time": "2025-01-14T03:46:31.526Z"
   },
   {
    "duration": 15,
    "start_time": "2025-01-14T03:47:28.321Z"
   },
   {
    "duration": 16,
    "start_time": "2025-01-14T03:48:05.002Z"
   },
   {
    "duration": 14,
    "start_time": "2025-01-14T03:48:33.190Z"
   },
   {
    "duration": 31,
    "start_time": "2025-01-14T03:48:54.407Z"
   },
   {
    "duration": 32,
    "start_time": "2025-01-14T03:49:11.792Z"
   },
   {
    "duration": 31,
    "start_time": "2025-01-14T03:50:16.031Z"
   },
   {
    "duration": 29,
    "start_time": "2025-01-14T03:54:14.279Z"
   },
   {
    "duration": 18,
    "start_time": "2025-01-14T03:54:22.155Z"
   },
   {
    "duration": 19,
    "start_time": "2025-01-14T03:54:35.750Z"
   },
   {
    "duration": 25,
    "start_time": "2025-01-14T03:55:36.516Z"
   },
   {
    "duration": 421,
    "start_time": "2025-01-14T03:56:33.403Z"
   },
   {
    "duration": 166,
    "start_time": "2025-01-14T16:59:01.988Z"
   },
   {
    "duration": 2535,
    "start_time": "2025-01-14T16:59:05.977Z"
   },
   {
    "duration": 44,
    "start_time": "2025-01-14T16:59:08.514Z"
   },
   {
    "duration": 3,
    "start_time": "2025-01-14T16:59:08.560Z"
   },
   {
    "duration": 21,
    "start_time": "2025-01-14T16:59:08.566Z"
   },
   {
    "duration": 6,
    "start_time": "2025-01-14T16:59:08.588Z"
   },
   {
    "duration": 4,
    "start_time": "2025-01-14T16:59:08.595Z"
   },
   {
    "duration": 5,
    "start_time": "2025-01-14T16:59:08.601Z"
   },
   {
    "duration": 5,
    "start_time": "2025-01-14T16:59:08.608Z"
   },
   {
    "duration": 6,
    "start_time": "2025-01-14T16:59:08.615Z"
   },
   {
    "duration": 3,
    "start_time": "2025-01-14T16:59:08.625Z"
   },
   {
    "duration": 71,
    "start_time": "2025-01-14T16:59:08.630Z"
   },
   {
    "duration": 4,
    "start_time": "2025-01-14T16:59:08.703Z"
   },
   {
    "duration": 5,
    "start_time": "2025-01-14T16:59:08.709Z"
   },
   {
    "duration": 7,
    "start_time": "2025-01-14T16:59:08.715Z"
   },
   {
    "duration": 6,
    "start_time": "2025-01-14T16:59:08.724Z"
   },
   {
    "duration": 215,
    "start_time": "2025-01-14T16:59:08.732Z"
   },
   {
    "duration": 181,
    "start_time": "2025-01-14T16:59:08.949Z"
   },
   {
    "duration": 161,
    "start_time": "2025-01-14T16:59:09.131Z"
   },
   {
    "duration": 170,
    "start_time": "2025-01-14T16:59:09.294Z"
   },
   {
    "duration": 153,
    "start_time": "2025-01-14T16:59:09.466Z"
   },
   {
    "duration": 322,
    "start_time": "2025-01-14T16:59:09.621Z"
   },
   {
    "duration": 293,
    "start_time": "2025-01-14T16:59:09.945Z"
   },
   {
    "duration": 240,
    "start_time": "2025-01-14T16:59:10.240Z"
   },
   {
    "duration": 5,
    "start_time": "2025-01-14T16:59:10.483Z"
   },
   {
    "duration": 444,
    "start_time": "2025-01-14T16:59:10.490Z"
   },
   {
    "duration": 6,
    "start_time": "2025-01-14T16:59:10.936Z"
   },
   {
    "duration": 9,
    "start_time": "2025-01-14T16:59:10.944Z"
   },
   {
    "duration": 33,
    "start_time": "2025-01-14T16:59:10.958Z"
   },
   {
    "duration": 10,
    "start_time": "2025-01-14T16:59:10.992Z"
   },
   {
    "duration": 10,
    "start_time": "2025-01-14T16:59:11.003Z"
   },
   {
    "duration": 11,
    "start_time": "2025-01-14T16:59:11.015Z"
   },
   {
    "duration": 2728,
    "start_time": "2025-01-14T22:20:23.158Z"
   },
   {
    "duration": 44,
    "start_time": "2025-01-14T22:20:25.888Z"
   },
   {
    "duration": 3,
    "start_time": "2025-01-14T22:20:25.935Z"
   },
   {
    "duration": 13,
    "start_time": "2025-01-14T22:20:25.941Z"
   },
   {
    "duration": 6,
    "start_time": "2025-01-14T22:20:25.956Z"
   },
   {
    "duration": 4,
    "start_time": "2025-01-14T22:20:25.964Z"
   },
   {
    "duration": 5,
    "start_time": "2025-01-14T22:20:25.970Z"
   },
   {
    "duration": 33,
    "start_time": "2025-01-14T22:20:25.976Z"
   },
   {
    "duration": 5,
    "start_time": "2025-01-14T22:20:26.011Z"
   },
   {
    "duration": 5,
    "start_time": "2025-01-14T22:20:26.020Z"
   },
   {
    "duration": 22,
    "start_time": "2025-01-14T22:20:26.027Z"
   },
   {
    "duration": 4,
    "start_time": "2025-01-14T22:20:26.051Z"
   },
   {
    "duration": 5,
    "start_time": "2025-01-14T22:20:26.057Z"
   },
   {
    "duration": 41,
    "start_time": "2025-01-14T22:20:26.064Z"
   },
   {
    "duration": 7,
    "start_time": "2025-01-14T22:20:26.107Z"
   },
   {
    "duration": 189,
    "start_time": "2025-01-14T22:20:26.116Z"
   },
   {
    "duration": 216,
    "start_time": "2025-01-14T22:20:26.306Z"
   },
   {
    "duration": 199,
    "start_time": "2025-01-14T22:20:26.524Z"
   },
   {
    "duration": 168,
    "start_time": "2025-01-14T22:20:26.725Z"
   },
   {
    "duration": 172,
    "start_time": "2025-01-14T22:20:26.895Z"
   },
   {
    "duration": 341,
    "start_time": "2025-01-14T22:20:27.070Z"
   },
   {
    "duration": 315,
    "start_time": "2025-01-14T22:20:27.413Z"
   },
   {
    "duration": 253,
    "start_time": "2025-01-14T22:20:27.730Z"
   },
   {
    "duration": 6,
    "start_time": "2025-01-14T22:20:27.985Z"
   },
   {
    "duration": 459,
    "start_time": "2025-01-14T22:20:27.993Z"
   },
   {
    "duration": 7,
    "start_time": "2025-01-14T22:20:28.455Z"
   },
   {
    "duration": 12,
    "start_time": "2025-01-14T22:20:28.464Z"
   },
   {
    "duration": 26,
    "start_time": "2025-01-14T22:20:28.479Z"
   },
   {
    "duration": 11,
    "start_time": "2025-01-14T22:20:28.507Z"
   },
   {
    "duration": 12,
    "start_time": "2025-01-14T22:20:28.519Z"
   },
   {
    "duration": 11,
    "start_time": "2025-01-14T22:20:28.532Z"
   },
   {
    "duration": 366,
    "start_time": "2025-01-14T22:21:39.475Z"
   },
   {
    "duration": 1060,
    "start_time": "2025-01-14T22:22:03.272Z"
   },
   {
    "duration": 418,
    "start_time": "2025-01-14T22:22:12.812Z"
   },
   {
    "duration": 12,
    "start_time": "2025-01-14T22:44:19.200Z"
   },
   {
    "duration": 16,
    "start_time": "2025-01-14T23:01:43.197Z"
   },
   {
    "duration": 12,
    "start_time": "2025-01-14T23:02:11.850Z"
   },
   {
    "duration": 18,
    "start_time": "2025-01-14T23:02:25.846Z"
   },
   {
    "duration": 18,
    "start_time": "2025-01-14T23:02:39.270Z"
   },
   {
    "duration": 515,
    "start_time": "2025-01-14T23:38:31.626Z"
   },
   {
    "duration": 12,
    "start_time": "2025-01-14T23:38:40.196Z"
   },
   {
    "duration": 12,
    "start_time": "2025-01-14T23:39:24.191Z"
   },
   {
    "duration": 12,
    "start_time": "2025-01-14T23:43:50.426Z"
   },
   {
    "duration": 13,
    "start_time": "2025-01-14T23:47:00.405Z"
   },
   {
    "duration": 861,
    "start_time": "2025-01-14T23:53:20.048Z"
   },
   {
    "duration": 34,
    "start_time": "2025-01-14T23:53:20.912Z"
   },
   {
    "duration": 3,
    "start_time": "2025-01-14T23:53:20.948Z"
   },
   {
    "duration": 16,
    "start_time": "2025-01-14T23:53:20.953Z"
   },
   {
    "duration": 7,
    "start_time": "2025-01-14T23:53:20.972Z"
   },
   {
    "duration": 29,
    "start_time": "2025-01-14T23:53:20.981Z"
   },
   {
    "duration": 6,
    "start_time": "2025-01-14T23:53:21.012Z"
   },
   {
    "duration": 8,
    "start_time": "2025-01-14T23:53:21.020Z"
   },
   {
    "duration": 5,
    "start_time": "2025-01-14T23:53:21.030Z"
   },
   {
    "duration": 4,
    "start_time": "2025-01-14T23:53:21.037Z"
   },
   {
    "duration": 23,
    "start_time": "2025-01-14T23:53:21.042Z"
   },
   {
    "duration": 38,
    "start_time": "2025-01-14T23:53:21.067Z"
   },
   {
    "duration": 4,
    "start_time": "2025-01-14T23:53:21.109Z"
   },
   {
    "duration": 7,
    "start_time": "2025-01-14T23:53:21.117Z"
   },
   {
    "duration": 7,
    "start_time": "2025-01-14T23:53:21.126Z"
   },
   {
    "duration": 202,
    "start_time": "2025-01-14T23:53:21.135Z"
   },
   {
    "duration": 203,
    "start_time": "2025-01-14T23:53:21.339Z"
   },
   {
    "duration": 235,
    "start_time": "2025-01-14T23:53:21.544Z"
   },
   {
    "duration": 180,
    "start_time": "2025-01-14T23:53:21.781Z"
   },
   {
    "duration": 159,
    "start_time": "2025-01-14T23:53:21.963Z"
   },
   {
    "duration": 312,
    "start_time": "2025-01-14T23:53:22.124Z"
   },
   {
    "duration": 313,
    "start_time": "2025-01-14T23:53:22.441Z"
   },
   {
    "duration": 255,
    "start_time": "2025-01-14T23:53:22.756Z"
   },
   {
    "duration": 11,
    "start_time": "2025-01-14T23:53:23.018Z"
   },
   {
    "duration": 529,
    "start_time": "2025-01-14T23:53:23.032Z"
   },
   {
    "duration": 7,
    "start_time": "2025-01-14T23:53:23.563Z"
   },
   {
    "duration": 14,
    "start_time": "2025-01-14T23:53:23.572Z"
   },
   {
    "duration": 26,
    "start_time": "2025-01-14T23:53:23.587Z"
   },
   {
    "duration": 16,
    "start_time": "2025-01-14T23:53:23.616Z"
   },
   {
    "duration": 12,
    "start_time": "2025-01-14T23:53:23.633Z"
   },
   {
    "duration": 16,
    "start_time": "2025-01-14T23:53:23.646Z"
   },
   {
    "duration": 823,
    "start_time": "2025-01-15T00:55:26.459Z"
   },
   {
    "duration": 58,
    "start_time": "2025-01-15T00:55:27.284Z"
   },
   {
    "duration": 5,
    "start_time": "2025-01-15T00:55:27.344Z"
   },
   {
    "duration": 11,
    "start_time": "2025-01-15T00:55:27.351Z"
   },
   {
    "duration": 6,
    "start_time": "2025-01-15T00:55:27.365Z"
   },
   {
    "duration": 4,
    "start_time": "2025-01-15T00:55:27.373Z"
   },
   {
    "duration": 5,
    "start_time": "2025-01-15T00:55:27.378Z"
   },
   {
    "duration": 5,
    "start_time": "2025-01-15T00:55:27.385Z"
   },
   {
    "duration": 37,
    "start_time": "2025-01-15T00:55:27.392Z"
   },
   {
    "duration": 3,
    "start_time": "2025-01-15T00:55:27.431Z"
   },
   {
    "duration": 17,
    "start_time": "2025-01-15T00:55:27.436Z"
   },
   {
    "duration": 3,
    "start_time": "2025-01-15T00:55:27.455Z"
   },
   {
    "duration": 5,
    "start_time": "2025-01-15T00:55:27.460Z"
   },
   {
    "duration": 7,
    "start_time": "2025-01-15T00:55:27.469Z"
   },
   {
    "duration": 6,
    "start_time": "2025-01-15T00:55:27.477Z"
   },
   {
    "duration": 248,
    "start_time": "2025-01-15T00:55:27.485Z"
   },
   {
    "duration": 198,
    "start_time": "2025-01-15T00:55:27.734Z"
   },
   {
    "duration": 211,
    "start_time": "2025-01-15T00:55:27.934Z"
   },
   {
    "duration": 169,
    "start_time": "2025-01-15T00:55:28.147Z"
   },
   {
    "duration": 152,
    "start_time": "2025-01-15T00:55:28.318Z"
   },
   {
    "duration": 278,
    "start_time": "2025-01-15T00:55:28.472Z"
   },
   {
    "duration": 336,
    "start_time": "2025-01-15T00:55:28.752Z"
   },
   {
    "duration": 237,
    "start_time": "2025-01-15T00:55:29.090Z"
   },
   {
    "duration": 4,
    "start_time": "2025-01-15T00:55:29.329Z"
   },
   {
    "duration": 504,
    "start_time": "2025-01-15T00:55:29.335Z"
   },
   {
    "duration": 5,
    "start_time": "2025-01-15T00:55:29.841Z"
   },
   {
    "duration": 10,
    "start_time": "2025-01-15T00:55:29.848Z"
   },
   {
    "duration": 9,
    "start_time": "2025-01-15T00:55:29.859Z"
   },
   {
    "duration": 10,
    "start_time": "2025-01-15T00:55:29.870Z"
   },
   {
    "duration": 42,
    "start_time": "2025-01-15T00:55:29.882Z"
   },
   {
    "duration": 12,
    "start_time": "2025-01-15T00:55:29.933Z"
   },
   {
    "duration": 2606,
    "start_time": "2025-01-15T17:27:52.457Z"
   },
   {
    "duration": 44,
    "start_time": "2025-01-15T17:27:55.065Z"
   },
   {
    "duration": 4,
    "start_time": "2025-01-15T17:27:55.111Z"
   },
   {
    "duration": 15,
    "start_time": "2025-01-15T17:27:55.118Z"
   },
   {
    "duration": 5,
    "start_time": "2025-01-15T17:27:55.136Z"
   },
   {
    "duration": 4,
    "start_time": "2025-01-15T17:27:55.143Z"
   },
   {
    "duration": 5,
    "start_time": "2025-01-15T17:27:55.148Z"
   },
   {
    "duration": 5,
    "start_time": "2025-01-15T17:27:55.155Z"
   },
   {
    "duration": 6,
    "start_time": "2025-01-15T17:27:55.162Z"
   },
   {
    "duration": 3,
    "start_time": "2025-01-15T17:27:55.171Z"
   },
   {
    "duration": 58,
    "start_time": "2025-01-15T17:27:55.176Z"
   },
   {
    "duration": 4,
    "start_time": "2025-01-15T17:27:55.236Z"
   },
   {
    "duration": 5,
    "start_time": "2025-01-15T17:27:55.242Z"
   },
   {
    "duration": 7,
    "start_time": "2025-01-15T17:27:55.249Z"
   },
   {
    "duration": 7,
    "start_time": "2025-01-15T17:27:55.258Z"
   },
   {
    "duration": 205,
    "start_time": "2025-01-15T17:27:55.266Z"
   },
   {
    "duration": 174,
    "start_time": "2025-01-15T17:27:55.473Z"
   },
   {
    "duration": 168,
    "start_time": "2025-01-15T17:27:55.649Z"
   },
   {
    "duration": 166,
    "start_time": "2025-01-15T17:27:55.819Z"
   },
   {
    "duration": 221,
    "start_time": "2025-01-15T17:27:55.986Z"
   },
   {
    "duration": 273,
    "start_time": "2025-01-15T17:27:56.209Z"
   },
   {
    "duration": 291,
    "start_time": "2025-01-15T17:27:56.484Z"
   },
   {
    "duration": 234,
    "start_time": "2025-01-15T17:27:56.778Z"
   },
   {
    "duration": 16,
    "start_time": "2025-01-15T17:27:57.015Z"
   },
   {
    "duration": 442,
    "start_time": "2025-01-15T17:27:57.033Z"
   },
   {
    "duration": 7,
    "start_time": "2025-01-15T17:27:57.478Z"
   },
   {
    "duration": 10,
    "start_time": "2025-01-15T17:27:57.487Z"
   },
   {
    "duration": 9,
    "start_time": "2025-01-15T17:27:57.500Z"
   },
   {
    "duration": 12,
    "start_time": "2025-01-15T17:27:57.530Z"
   },
   {
    "duration": 10,
    "start_time": "2025-01-15T17:27:57.544Z"
   },
   {
    "duration": 11,
    "start_time": "2025-01-15T17:27:57.555Z"
   },
   {
    "duration": 820,
    "start_time": "2025-01-15T17:28:17.208Z"
   },
   {
    "duration": 35,
    "start_time": "2025-01-15T17:28:18.031Z"
   },
   {
    "duration": 3,
    "start_time": "2025-01-15T17:28:18.068Z"
   },
   {
    "duration": 11,
    "start_time": "2025-01-15T17:28:18.073Z"
   },
   {
    "duration": 5,
    "start_time": "2025-01-15T17:28:18.087Z"
   },
   {
    "duration": 4,
    "start_time": "2025-01-15T17:28:18.094Z"
   },
   {
    "duration": 33,
    "start_time": "2025-01-15T17:28:18.099Z"
   },
   {
    "duration": 6,
    "start_time": "2025-01-15T17:28:18.137Z"
   },
   {
    "duration": 5,
    "start_time": "2025-01-15T17:28:18.148Z"
   },
   {
    "duration": 3,
    "start_time": "2025-01-15T17:28:18.155Z"
   },
   {
    "duration": 16,
    "start_time": "2025-01-15T17:28:18.160Z"
   },
   {
    "duration": 4,
    "start_time": "2025-01-15T17:28:18.179Z"
   },
   {
    "duration": 5,
    "start_time": "2025-01-15T17:28:18.184Z"
   },
   {
    "duration": 40,
    "start_time": "2025-01-15T17:28:18.192Z"
   },
   {
    "duration": 7,
    "start_time": "2025-01-15T17:28:18.234Z"
   },
   {
    "duration": 190,
    "start_time": "2025-01-15T17:28:18.243Z"
   },
   {
    "duration": 163,
    "start_time": "2025-01-15T17:28:18.435Z"
   },
   {
    "duration": 232,
    "start_time": "2025-01-15T17:28:18.600Z"
   },
   {
    "duration": 175,
    "start_time": "2025-01-15T17:28:18.833Z"
   },
   {
    "duration": 161,
    "start_time": "2025-01-15T17:28:19.010Z"
   },
   {
    "duration": 282,
    "start_time": "2025-01-15T17:28:19.173Z"
   },
   {
    "duration": 286,
    "start_time": "2025-01-15T17:28:19.457Z"
   },
   {
    "duration": 245,
    "start_time": "2025-01-15T17:28:19.745Z"
   },
   {
    "duration": 4,
    "start_time": "2025-01-15T17:28:19.992Z"
   },
   {
    "duration": 491,
    "start_time": "2025-01-15T17:28:19.998Z"
   },
   {
    "duration": 6,
    "start_time": "2025-01-15T17:28:20.490Z"
   },
   {
    "duration": 9,
    "start_time": "2025-01-15T17:28:20.498Z"
   },
   {
    "duration": 28,
    "start_time": "2025-01-15T17:28:20.508Z"
   },
   {
    "duration": 10,
    "start_time": "2025-01-15T17:28:20.537Z"
   },
   {
    "duration": 11,
    "start_time": "2025-01-15T17:28:20.549Z"
   },
   {
    "duration": 12,
    "start_time": "2025-01-15T17:28:20.561Z"
   },
   {
    "duration": 2,
    "start_time": "2025-01-15T17:29:14.440Z"
   },
   {
    "duration": 5,
    "start_time": "2025-01-15T17:29:54.195Z"
   },
   {
    "duration": 839,
    "start_time": "2025-01-15T17:30:52.887Z"
   },
   {
    "duration": 33,
    "start_time": "2025-01-15T17:30:53.729Z"
   },
   {
    "duration": 3,
    "start_time": "2025-01-15T17:30:53.764Z"
   },
   {
    "duration": 13,
    "start_time": "2025-01-15T17:30:53.768Z"
   },
   {
    "duration": 6,
    "start_time": "2025-01-15T17:30:53.783Z"
   },
   {
    "duration": 4,
    "start_time": "2025-01-15T17:30:53.791Z"
   },
   {
    "duration": 37,
    "start_time": "2025-01-15T17:30:53.797Z"
   },
   {
    "duration": 6,
    "start_time": "2025-01-15T17:30:53.836Z"
   },
   {
    "duration": 5,
    "start_time": "2025-01-15T17:30:53.844Z"
   },
   {
    "duration": 3,
    "start_time": "2025-01-15T17:30:53.851Z"
   },
   {
    "duration": 17,
    "start_time": "2025-01-15T17:30:53.856Z"
   },
   {
    "duration": 3,
    "start_time": "2025-01-15T17:30:53.875Z"
   },
   {
    "duration": 4,
    "start_time": "2025-01-15T17:30:53.881Z"
   },
   {
    "duration": 47,
    "start_time": "2025-01-15T17:30:53.889Z"
   },
   {
    "duration": 6,
    "start_time": "2025-01-15T17:30:53.939Z"
   },
   {
    "duration": 185,
    "start_time": "2025-01-15T17:30:53.947Z"
   },
   {
    "duration": 163,
    "start_time": "2025-01-15T17:30:54.134Z"
   },
   {
    "duration": 219,
    "start_time": "2025-01-15T17:30:54.299Z"
   },
   {
    "duration": 157,
    "start_time": "2025-01-15T17:30:54.520Z"
   },
   {
    "duration": 159,
    "start_time": "2025-01-15T17:30:54.679Z"
   },
   {
    "duration": 280,
    "start_time": "2025-01-15T17:30:54.840Z"
   },
   {
    "duration": 296,
    "start_time": "2025-01-15T17:30:55.121Z"
   },
   {
    "duration": 230,
    "start_time": "2025-01-15T17:30:55.419Z"
   },
   {
    "duration": 5,
    "start_time": "2025-01-15T17:30:55.652Z"
   },
   {
    "duration": 503,
    "start_time": "2025-01-15T17:30:55.658Z"
   },
   {
    "duration": 5,
    "start_time": "2025-01-15T17:30:56.163Z"
   },
   {
    "duration": 11,
    "start_time": "2025-01-15T17:30:56.170Z"
   },
   {
    "duration": 10,
    "start_time": "2025-01-15T17:30:56.183Z"
   },
   {
    "duration": 44,
    "start_time": "2025-01-15T17:30:56.194Z"
   },
   {
    "duration": 12,
    "start_time": "2025-01-15T17:30:56.240Z"
   },
   {
    "duration": 12,
    "start_time": "2025-01-15T17:30:56.254Z"
   },
   {
    "duration": 11,
    "start_time": "2025-01-15T17:37:25.946Z"
   },
   {
    "duration": 12,
    "start_time": "2025-01-15T17:39:48.371Z"
   },
   {
    "duration": 296,
    "start_time": "2025-01-15T17:43:08.935Z"
   },
   {
    "duration": 13,
    "start_time": "2025-01-15T17:43:32.824Z"
   },
   {
    "duration": 12,
    "start_time": "2025-01-15T17:43:55.715Z"
   },
   {
    "duration": 11,
    "start_time": "2025-01-15T17:44:08.453Z"
   },
   {
    "duration": 11,
    "start_time": "2025-01-15T17:44:23.019Z"
   },
   {
    "duration": 12,
    "start_time": "2025-01-15T17:44:25.228Z"
   },
   {
    "duration": 12,
    "start_time": "2025-01-15T17:45:37.500Z"
   },
   {
    "duration": 11,
    "start_time": "2025-01-15T17:46:02.350Z"
   },
   {
    "duration": 11,
    "start_time": "2025-01-15T17:47:39.955Z"
   },
   {
    "duration": 522,
    "start_time": "2025-01-15T17:49:09.638Z"
   },
   {
    "duration": 369,
    "start_time": "2025-01-15T17:49:39.964Z"
   },
   {
    "duration": 826,
    "start_time": "2025-01-15T17:52:45.811Z"
   },
   {
    "duration": 32,
    "start_time": "2025-01-15T17:52:46.639Z"
   },
   {
    "duration": 3,
    "start_time": "2025-01-15T17:52:46.673Z"
   },
   {
    "duration": 11,
    "start_time": "2025-01-15T17:52:46.677Z"
   },
   {
    "duration": 5,
    "start_time": "2025-01-15T17:52:46.691Z"
   },
   {
    "duration": 4,
    "start_time": "2025-01-15T17:52:46.698Z"
   },
   {
    "duration": 31,
    "start_time": "2025-01-15T17:52:46.703Z"
   },
   {
    "duration": 5,
    "start_time": "2025-01-15T17:52:46.736Z"
   },
   {
    "duration": 4,
    "start_time": "2025-01-15T17:52:46.743Z"
   },
   {
    "duration": 3,
    "start_time": "2025-01-15T17:52:46.749Z"
   },
   {
    "duration": 17,
    "start_time": "2025-01-15T17:52:46.753Z"
   },
   {
    "duration": 4,
    "start_time": "2025-01-15T17:52:46.772Z"
   },
   {
    "duration": 5,
    "start_time": "2025-01-15T17:52:46.777Z"
   },
   {
    "duration": 46,
    "start_time": "2025-01-15T17:52:46.785Z"
   },
   {
    "duration": 6,
    "start_time": "2025-01-15T17:52:46.833Z"
   },
   {
    "duration": 192,
    "start_time": "2025-01-15T17:52:46.841Z"
   },
   {
    "duration": 164,
    "start_time": "2025-01-15T17:52:47.035Z"
   },
   {
    "duration": 213,
    "start_time": "2025-01-15T17:52:47.201Z"
   },
   {
    "duration": 160,
    "start_time": "2025-01-15T17:52:47.416Z"
   },
   {
    "duration": 170,
    "start_time": "2025-01-15T17:52:47.578Z"
   },
   {
    "duration": 294,
    "start_time": "2025-01-15T17:52:47.750Z"
   },
   {
    "duration": 301,
    "start_time": "2025-01-15T17:52:48.046Z"
   },
   {
    "duration": 234,
    "start_time": "2025-01-15T17:52:48.349Z"
   },
   {
    "duration": 5,
    "start_time": "2025-01-15T17:52:48.585Z"
   },
   {
    "duration": 488,
    "start_time": "2025-01-15T17:52:48.592Z"
   },
   {
    "duration": 5,
    "start_time": "2025-01-15T17:52:49.082Z"
   },
   {
    "duration": 10,
    "start_time": "2025-01-15T17:52:49.088Z"
   },
   {
    "duration": 9,
    "start_time": "2025-01-15T17:52:49.099Z"
   },
   {
    "duration": 32,
    "start_time": "2025-01-15T17:52:49.109Z"
   },
   {
    "duration": 598,
    "start_time": "2025-01-15T17:52:49.142Z"
   },
   {
    "duration": 0,
    "start_time": "2025-01-15T17:52:49.742Z"
   },
   {
    "duration": 12,
    "start_time": "2025-01-15T17:57:24.820Z"
   },
   {
    "duration": 12,
    "start_time": "2025-01-15T17:57:28.923Z"
   },
   {
    "duration": 2544,
    "start_time": "2025-01-15T22:09:36.013Z"
   },
   {
    "duration": 41,
    "start_time": "2025-01-15T22:09:38.559Z"
   },
   {
    "duration": 3,
    "start_time": "2025-01-15T22:09:38.602Z"
   },
   {
    "duration": 12,
    "start_time": "2025-01-15T22:09:38.607Z"
   },
   {
    "duration": 6,
    "start_time": "2025-01-15T22:09:38.624Z"
   },
   {
    "duration": 4,
    "start_time": "2025-01-15T22:09:38.632Z"
   },
   {
    "duration": 5,
    "start_time": "2025-01-15T22:09:38.637Z"
   },
   {
    "duration": 6,
    "start_time": "2025-01-15T22:09:38.643Z"
   },
   {
    "duration": 5,
    "start_time": "2025-01-15T22:09:38.651Z"
   },
   {
    "duration": 3,
    "start_time": "2025-01-15T22:09:38.660Z"
   },
   {
    "duration": 18,
    "start_time": "2025-01-15T22:09:38.665Z"
   },
   {
    "duration": 4,
    "start_time": "2025-01-15T22:09:38.724Z"
   },
   {
    "duration": 5,
    "start_time": "2025-01-15T22:09:38.730Z"
   },
   {
    "duration": 7,
    "start_time": "2025-01-15T22:09:38.737Z"
   },
   {
    "duration": 5,
    "start_time": "2025-01-15T22:09:38.747Z"
   },
   {
    "duration": 197,
    "start_time": "2025-01-15T22:09:38.754Z"
   },
   {
    "duration": 173,
    "start_time": "2025-01-15T22:09:38.953Z"
   },
   {
    "duration": 161,
    "start_time": "2025-01-15T22:09:39.128Z"
   },
   {
    "duration": 165,
    "start_time": "2025-01-15T22:09:39.291Z"
   },
   {
    "duration": 157,
    "start_time": "2025-01-15T22:09:39.458Z"
   },
   {
    "duration": 321,
    "start_time": "2025-01-15T22:09:39.617Z"
   },
   {
    "duration": 283,
    "start_time": "2025-01-15T22:09:39.939Z"
   },
   {
    "duration": 231,
    "start_time": "2025-01-15T22:09:40.224Z"
   },
   {
    "duration": 5,
    "start_time": "2025-01-15T22:09:40.457Z"
   },
   {
    "duration": 414,
    "start_time": "2025-01-15T22:09:40.465Z"
   },
   {
    "duration": 7,
    "start_time": "2025-01-15T22:09:40.881Z"
   },
   {
    "duration": 9,
    "start_time": "2025-01-15T22:09:40.890Z"
   },
   {
    "duration": 25,
    "start_time": "2025-01-15T22:09:40.902Z"
   },
   {
    "duration": 11,
    "start_time": "2025-01-15T22:09:40.928Z"
   },
   {
    "duration": 10,
    "start_time": "2025-01-15T22:09:40.940Z"
   },
   {
    "duration": 11,
    "start_time": "2025-01-15T22:09:40.951Z"
   },
   {
    "duration": 16,
    "start_time": "2025-01-15T22:11:45.290Z"
   },
   {
    "duration": 12,
    "start_time": "2025-01-15T22:12:55.749Z"
   },
   {
    "duration": 8,
    "start_time": "2025-01-15T22:15:40.421Z"
   },
   {
    "duration": 13,
    "start_time": "2025-01-15T22:15:51.827Z"
   },
   {
    "duration": 13,
    "start_time": "2025-01-15T22:15:53.131Z"
   },
   {
    "duration": 13,
    "start_time": "2025-01-15T22:16:16.054Z"
   },
   {
    "duration": 14,
    "start_time": "2025-01-15T22:17:23.418Z"
   },
   {
    "duration": 12,
    "start_time": "2025-01-15T22:18:12.450Z"
   },
   {
    "duration": 11,
    "start_time": "2025-01-15T22:18:24.097Z"
   },
   {
    "duration": 820,
    "start_time": "2025-01-15T22:20:19.341Z"
   },
   {
    "duration": 32,
    "start_time": "2025-01-15T22:20:20.163Z"
   },
   {
    "duration": 3,
    "start_time": "2025-01-15T22:20:20.197Z"
   },
   {
    "duration": 24,
    "start_time": "2025-01-15T22:20:20.204Z"
   },
   {
    "duration": 6,
    "start_time": "2025-01-15T22:20:20.229Z"
   },
   {
    "duration": 3,
    "start_time": "2025-01-15T22:20:20.237Z"
   },
   {
    "duration": 6,
    "start_time": "2025-01-15T22:20:20.242Z"
   },
   {
    "duration": 6,
    "start_time": "2025-01-15T22:20:20.249Z"
   },
   {
    "duration": 4,
    "start_time": "2025-01-15T22:20:20.257Z"
   },
   {
    "duration": 3,
    "start_time": "2025-01-15T22:20:20.264Z"
   },
   {
    "duration": 58,
    "start_time": "2025-01-15T22:20:20.268Z"
   },
   {
    "duration": 4,
    "start_time": "2025-01-15T22:20:20.327Z"
   },
   {
    "duration": 5,
    "start_time": "2025-01-15T22:20:20.332Z"
   },
   {
    "duration": 6,
    "start_time": "2025-01-15T22:20:20.338Z"
   },
   {
    "duration": 6,
    "start_time": "2025-01-15T22:20:20.346Z"
   },
   {
    "duration": 197,
    "start_time": "2025-01-15T22:20:20.353Z"
   },
   {
    "duration": 164,
    "start_time": "2025-01-15T22:20:20.552Z"
   },
   {
    "duration": 226,
    "start_time": "2025-01-15T22:20:20.718Z"
   },
   {
    "duration": 160,
    "start_time": "2025-01-15T22:20:20.946Z"
   },
   {
    "duration": 166,
    "start_time": "2025-01-15T22:20:21.108Z"
   },
   {
    "duration": 272,
    "start_time": "2025-01-15T22:20:21.275Z"
   },
   {
    "duration": 293,
    "start_time": "2025-01-15T22:20:21.549Z"
   },
   {
    "duration": 247,
    "start_time": "2025-01-15T22:20:21.844Z"
   },
   {
    "duration": 5,
    "start_time": "2025-01-15T22:20:22.092Z"
   },
   {
    "duration": 469,
    "start_time": "2025-01-15T22:20:22.098Z"
   },
   {
    "duration": 5,
    "start_time": "2025-01-15T22:20:22.569Z"
   },
   {
    "duration": 10,
    "start_time": "2025-01-15T22:20:22.577Z"
   },
   {
    "duration": 9,
    "start_time": "2025-01-15T22:20:22.591Z"
   },
   {
    "duration": 30,
    "start_time": "2025-01-15T22:20:22.601Z"
   },
   {
    "duration": 12,
    "start_time": "2025-01-15T22:20:22.633Z"
   },
   {
    "duration": 11,
    "start_time": "2025-01-15T22:20:22.646Z"
   },
   {
    "duration": 790,
    "start_time": "2025-01-15T22:21:53.713Z"
   },
   {
    "duration": 36,
    "start_time": "2025-01-15T22:21:54.505Z"
   },
   {
    "duration": 3,
    "start_time": "2025-01-15T22:21:54.543Z"
   },
   {
    "duration": 12,
    "start_time": "2025-01-15T22:21:54.548Z"
   },
   {
    "duration": 6,
    "start_time": "2025-01-15T22:21:54.563Z"
   },
   {
    "duration": 4,
    "start_time": "2025-01-15T22:21:54.570Z"
   },
   {
    "duration": 8,
    "start_time": "2025-01-15T22:21:54.576Z"
   },
   {
    "duration": 38,
    "start_time": "2025-01-15T22:21:54.585Z"
   },
   {
    "duration": 5,
    "start_time": "2025-01-15T22:21:54.625Z"
   },
   {
    "duration": 3,
    "start_time": "2025-01-15T22:21:54.632Z"
   },
   {
    "duration": 17,
    "start_time": "2025-01-15T22:21:54.637Z"
   },
   {
    "duration": 4,
    "start_time": "2025-01-15T22:21:54.655Z"
   },
   {
    "duration": 4,
    "start_time": "2025-01-15T22:21:54.660Z"
   },
   {
    "duration": 6,
    "start_time": "2025-01-15T22:21:54.668Z"
   },
   {
    "duration": 5,
    "start_time": "2025-01-15T22:21:54.676Z"
   },
   {
    "duration": 197,
    "start_time": "2025-01-15T22:21:54.683Z"
   },
   {
    "duration": 177,
    "start_time": "2025-01-15T22:21:54.882Z"
   },
   {
    "duration": 209,
    "start_time": "2025-01-15T22:21:55.061Z"
   },
   {
    "duration": 166,
    "start_time": "2025-01-15T22:21:55.271Z"
   },
   {
    "duration": 153,
    "start_time": "2025-01-15T22:21:55.439Z"
   },
   {
    "duration": 302,
    "start_time": "2025-01-15T22:21:55.594Z"
   },
   {
    "duration": 293,
    "start_time": "2025-01-15T22:21:55.898Z"
   },
   {
    "duration": 221,
    "start_time": "2025-01-15T22:21:56.193Z"
   },
   {
    "duration": 10,
    "start_time": "2025-01-15T22:21:56.415Z"
   },
   {
    "duration": 455,
    "start_time": "2025-01-15T22:21:56.427Z"
   },
   {
    "duration": 8,
    "start_time": "2025-01-15T22:21:56.884Z"
   },
   {
    "duration": 10,
    "start_time": "2025-01-15T22:21:56.894Z"
   },
   {
    "duration": 25,
    "start_time": "2025-01-15T22:21:56.905Z"
   },
   {
    "duration": 10,
    "start_time": "2025-01-15T22:21:56.932Z"
   },
   {
    "duration": 12,
    "start_time": "2025-01-15T22:21:56.944Z"
   },
   {
    "duration": 11,
    "start_time": "2025-01-15T22:21:56.958Z"
   },
   {
    "duration": 780,
    "start_time": "2025-01-15T22:33:42.279Z"
   },
   {
    "duration": 32,
    "start_time": "2025-01-15T22:33:43.061Z"
   },
   {
    "duration": 3,
    "start_time": "2025-01-15T22:33:43.096Z"
   },
   {
    "duration": 11,
    "start_time": "2025-01-15T22:33:43.100Z"
   },
   {
    "duration": 5,
    "start_time": "2025-01-15T22:33:43.126Z"
   },
   {
    "duration": 4,
    "start_time": "2025-01-15T22:33:43.133Z"
   },
   {
    "duration": 6,
    "start_time": "2025-01-15T22:33:43.138Z"
   },
   {
    "duration": 5,
    "start_time": "2025-01-15T22:33:43.146Z"
   },
   {
    "duration": 4,
    "start_time": "2025-01-15T22:33:43.153Z"
   },
   {
    "duration": 4,
    "start_time": "2025-01-15T22:33:43.159Z"
   },
   {
    "duration": 15,
    "start_time": "2025-01-15T22:33:43.165Z"
   },
   {
    "duration": 42,
    "start_time": "2025-01-15T22:33:43.182Z"
   },
   {
    "duration": 5,
    "start_time": "2025-01-15T22:33:43.225Z"
   },
   {
    "duration": 6,
    "start_time": "2025-01-15T22:33:43.234Z"
   },
   {
    "duration": 5,
    "start_time": "2025-01-15T22:33:43.242Z"
   },
   {
    "duration": 202,
    "start_time": "2025-01-15T22:33:43.249Z"
   },
   {
    "duration": 159,
    "start_time": "2025-01-15T22:33:43.453Z"
   },
   {
    "duration": 211,
    "start_time": "2025-01-15T22:33:43.614Z"
   },
   {
    "duration": 158,
    "start_time": "2025-01-15T22:33:43.827Z"
   },
   {
    "duration": 156,
    "start_time": "2025-01-15T22:33:43.987Z"
   },
   {
    "duration": 284,
    "start_time": "2025-01-15T22:33:44.144Z"
   },
   {
    "duration": 280,
    "start_time": "2025-01-15T22:33:44.431Z"
   },
   {
    "duration": 224,
    "start_time": "2025-01-15T22:33:44.713Z"
   },
   {
    "duration": 5,
    "start_time": "2025-01-15T22:33:44.938Z"
   },
   {
    "duration": 462,
    "start_time": "2025-01-15T22:33:44.945Z"
   },
   {
    "duration": 19,
    "start_time": "2025-01-15T22:33:45.409Z"
   },
   {
    "duration": 12,
    "start_time": "2025-01-15T22:33:45.429Z"
   },
   {
    "duration": 10,
    "start_time": "2025-01-15T22:33:45.443Z"
   },
   {
    "duration": 11,
    "start_time": "2025-01-15T22:33:45.455Z"
   },
   {
    "duration": 13,
    "start_time": "2025-01-15T22:33:45.469Z"
   },
   {
    "duration": 12,
    "start_time": "2025-01-15T22:33:45.484Z"
   },
   {
    "duration": 6,
    "start_time": "2025-01-15T22:36:27.674Z"
   },
   {
    "duration": 785,
    "start_time": "2025-01-15T22:36:38.879Z"
   },
   {
    "duration": 32,
    "start_time": "2025-01-15T22:36:39.668Z"
   },
   {
    "duration": 4,
    "start_time": "2025-01-15T22:36:39.701Z"
   },
   {
    "duration": 21,
    "start_time": "2025-01-15T22:36:39.706Z"
   },
   {
    "duration": 6,
    "start_time": "2025-01-15T22:36:39.730Z"
   },
   {
    "duration": 4,
    "start_time": "2025-01-15T22:36:39.737Z"
   },
   {
    "duration": 5,
    "start_time": "2025-01-15T22:36:39.743Z"
   },
   {
    "duration": 5,
    "start_time": "2025-01-15T22:36:39.750Z"
   },
   {
    "duration": 4,
    "start_time": "2025-01-15T22:36:39.757Z"
   },
   {
    "duration": 4,
    "start_time": "2025-01-15T22:36:39.763Z"
   },
   {
    "duration": 61,
    "start_time": "2025-01-15T22:36:39.769Z"
   },
   {
    "duration": 4,
    "start_time": "2025-01-15T22:36:39.832Z"
   },
   {
    "duration": 4,
    "start_time": "2025-01-15T22:36:39.837Z"
   },
   {
    "duration": 6,
    "start_time": "2025-01-15T22:36:39.845Z"
   },
   {
    "duration": 5,
    "start_time": "2025-01-15T22:36:39.852Z"
   },
   {
    "duration": 196,
    "start_time": "2025-01-15T22:36:39.859Z"
   },
   {
    "duration": 170,
    "start_time": "2025-01-15T22:36:40.058Z"
   },
   {
    "duration": 214,
    "start_time": "2025-01-15T22:36:40.229Z"
   },
   {
    "duration": 161,
    "start_time": "2025-01-15T22:36:40.444Z"
   },
   {
    "duration": 164,
    "start_time": "2025-01-15T22:36:40.607Z"
   },
   {
    "duration": 271,
    "start_time": "2025-01-15T22:36:40.773Z"
   },
   {
    "duration": 294,
    "start_time": "2025-01-15T22:36:41.045Z"
   },
   {
    "duration": 220,
    "start_time": "2025-01-15T22:36:41.342Z"
   },
   {
    "duration": 5,
    "start_time": "2025-01-15T22:36:41.564Z"
   },
   {
    "duration": 483,
    "start_time": "2025-01-15T22:36:41.571Z"
   },
   {
    "duration": 6,
    "start_time": "2025-01-15T22:36:42.056Z"
   },
   {
    "duration": 10,
    "start_time": "2025-01-15T22:36:42.063Z"
   },
   {
    "duration": 9,
    "start_time": "2025-01-15T22:36:42.075Z"
   },
   {
    "duration": 11,
    "start_time": "2025-01-15T22:36:42.085Z"
   },
   {
    "duration": 12,
    "start_time": "2025-01-15T22:36:42.124Z"
   },
   {
    "duration": 11,
    "start_time": "2025-01-15T22:36:42.137Z"
   },
   {
    "duration": 5,
    "start_time": "2025-01-15T22:36:59.478Z"
   },
   {
    "duration": 790,
    "start_time": "2025-01-15T22:37:16.968Z"
   },
   {
    "duration": 31,
    "start_time": "2025-01-15T22:37:17.760Z"
   },
   {
    "duration": 3,
    "start_time": "2025-01-15T22:37:17.794Z"
   },
   {
    "duration": 32,
    "start_time": "2025-01-15T22:37:17.801Z"
   },
   {
    "duration": 6,
    "start_time": "2025-01-15T22:37:17.835Z"
   },
   {
    "duration": 5,
    "start_time": "2025-01-15T22:37:17.842Z"
   },
   {
    "duration": 6,
    "start_time": "2025-01-15T22:37:17.849Z"
   },
   {
    "duration": 6,
    "start_time": "2025-01-15T22:37:17.857Z"
   },
   {
    "duration": 4,
    "start_time": "2025-01-15T22:37:17.865Z"
   },
   {
    "duration": 2,
    "start_time": "2025-01-15T22:37:17.873Z"
   },
   {
    "duration": 56,
    "start_time": "2025-01-15T22:37:17.877Z"
   },
   {
    "duration": 4,
    "start_time": "2025-01-15T22:37:17.936Z"
   },
   {
    "duration": 5,
    "start_time": "2025-01-15T22:37:17.941Z"
   },
   {
    "duration": 8,
    "start_time": "2025-01-15T22:37:17.948Z"
   },
   {
    "duration": 6,
    "start_time": "2025-01-15T22:37:17.958Z"
   },
   {
    "duration": 202,
    "start_time": "2025-01-15T22:37:17.965Z"
   },
   {
    "duration": 173,
    "start_time": "2025-01-15T22:37:18.169Z"
   },
   {
    "duration": 201,
    "start_time": "2025-01-15T22:37:18.344Z"
   },
   {
    "duration": 159,
    "start_time": "2025-01-15T22:37:18.546Z"
   },
   {
    "duration": 154,
    "start_time": "2025-01-15T22:37:18.707Z"
   },
   {
    "duration": 284,
    "start_time": "2025-01-15T22:37:18.862Z"
   },
   {
    "duration": 283,
    "start_time": "2025-01-15T22:37:19.148Z"
   },
   {
    "duration": 224,
    "start_time": "2025-01-15T22:37:19.433Z"
   },
   {
    "duration": 4,
    "start_time": "2025-01-15T22:37:19.659Z"
   },
   {
    "duration": 494,
    "start_time": "2025-01-15T22:37:19.665Z"
   },
   {
    "duration": 5,
    "start_time": "2025-01-15T22:37:20.161Z"
   },
   {
    "duration": 9,
    "start_time": "2025-01-15T22:37:20.168Z"
   },
   {
    "duration": 9,
    "start_time": "2025-01-15T22:37:20.180Z"
   },
   {
    "duration": 10,
    "start_time": "2025-01-15T22:37:20.190Z"
   },
   {
    "duration": 13,
    "start_time": "2025-01-15T22:37:20.224Z"
   },
   {
    "duration": 12,
    "start_time": "2025-01-15T22:37:20.239Z"
   },
   {
    "duration": 790,
    "start_time": "2025-01-15T22:38:34.424Z"
   },
   {
    "duration": 33,
    "start_time": "2025-01-15T22:38:35.217Z"
   },
   {
    "duration": 3,
    "start_time": "2025-01-15T22:38:35.252Z"
   },
   {
    "duration": 10,
    "start_time": "2025-01-15T22:38:35.257Z"
   },
   {
    "duration": 6,
    "start_time": "2025-01-15T22:38:35.270Z"
   },
   {
    "duration": 4,
    "start_time": "2025-01-15T22:38:35.277Z"
   },
   {
    "duration": 5,
    "start_time": "2025-01-15T22:38:35.282Z"
   },
   {
    "duration": 39,
    "start_time": "2025-01-15T22:38:35.289Z"
   },
   {
    "duration": 5,
    "start_time": "2025-01-15T22:38:35.329Z"
   },
   {
    "duration": 3,
    "start_time": "2025-01-15T22:38:35.335Z"
   },
   {
    "duration": 17,
    "start_time": "2025-01-15T22:38:35.340Z"
   },
   {
    "duration": 3,
    "start_time": "2025-01-15T22:38:35.358Z"
   },
   {
    "duration": 5,
    "start_time": "2025-01-15T22:38:35.363Z"
   },
   {
    "duration": 6,
    "start_time": "2025-01-15T22:38:35.372Z"
   },
   {
    "duration": 45,
    "start_time": "2025-01-15T22:38:35.380Z"
   },
   {
    "duration": 179,
    "start_time": "2025-01-15T22:38:35.428Z"
   },
   {
    "duration": 165,
    "start_time": "2025-01-15T22:38:35.609Z"
   },
   {
    "duration": 208,
    "start_time": "2025-01-15T22:38:35.776Z"
   },
   {
    "duration": 162,
    "start_time": "2025-01-15T22:38:35.986Z"
   },
   {
    "duration": 152,
    "start_time": "2025-01-15T22:38:36.150Z"
   },
   {
    "duration": 281,
    "start_time": "2025-01-15T22:38:36.304Z"
   },
   {
    "duration": 280,
    "start_time": "2025-01-15T22:38:36.587Z"
   },
   {
    "duration": 220,
    "start_time": "2025-01-15T22:38:36.869Z"
   },
   {
    "duration": 4,
    "start_time": "2025-01-15T22:38:37.091Z"
   },
   {
    "duration": 484,
    "start_time": "2025-01-15T22:38:37.097Z"
   },
   {
    "duration": 6,
    "start_time": "2025-01-15T22:38:37.584Z"
   },
   {
    "duration": 10,
    "start_time": "2025-01-15T22:38:37.592Z"
   },
   {
    "duration": 26,
    "start_time": "2025-01-15T22:38:37.605Z"
   },
   {
    "duration": 11,
    "start_time": "2025-01-15T22:38:37.633Z"
   },
   {
    "duration": 12,
    "start_time": "2025-01-15T22:38:37.646Z"
   },
   {
    "duration": 10,
    "start_time": "2025-01-15T22:38:37.660Z"
   },
   {
    "duration": 6,
    "start_time": "2025-01-15T22:40:28.450Z"
   },
   {
    "duration": 839,
    "start_time": "2025-01-15T22:40:55.968Z"
   },
   {
    "duration": 61,
    "start_time": "2025-01-15T22:40:56.809Z"
   },
   {
    "duration": 3,
    "start_time": "2025-01-15T22:40:56.872Z"
   },
   {
    "duration": 16,
    "start_time": "2025-01-15T22:40:56.877Z"
   },
   {
    "duration": 6,
    "start_time": "2025-01-15T22:40:56.896Z"
   },
   {
    "duration": 5,
    "start_time": "2025-01-15T22:40:56.904Z"
   },
   {
    "duration": 19,
    "start_time": "2025-01-15T22:40:56.910Z"
   },
   {
    "duration": 6,
    "start_time": "2025-01-15T22:40:56.931Z"
   },
   {
    "duration": 6,
    "start_time": "2025-01-15T22:40:56.938Z"
   },
   {
    "duration": 3,
    "start_time": "2025-01-15T22:40:56.946Z"
   },
   {
    "duration": 17,
    "start_time": "2025-01-15T22:40:56.951Z"
   },
   {
    "duration": 3,
    "start_time": "2025-01-15T22:40:56.970Z"
   },
   {
    "duration": 4,
    "start_time": "2025-01-15T22:40:56.975Z"
   },
   {
    "duration": 9,
    "start_time": "2025-01-15T22:40:57.023Z"
   },
   {
    "duration": 6,
    "start_time": "2025-01-15T22:40:57.033Z"
   },
   {
    "duration": 205,
    "start_time": "2025-01-15T22:40:57.041Z"
   },
   {
    "duration": 199,
    "start_time": "2025-01-15T22:40:57.250Z"
   },
   {
    "duration": 269,
    "start_time": "2025-01-15T22:40:57.452Z"
   },
   {
    "duration": 178,
    "start_time": "2025-01-15T22:40:57.723Z"
   },
   {
    "duration": 173,
    "start_time": "2025-01-15T22:40:57.904Z"
   },
   {
    "duration": 296,
    "start_time": "2025-01-15T22:40:58.079Z"
   },
   {
    "duration": 323,
    "start_time": "2025-01-15T22:40:58.377Z"
   },
   {
    "duration": 232,
    "start_time": "2025-01-15T22:40:58.702Z"
   },
   {
    "duration": 5,
    "start_time": "2025-01-15T22:40:58.937Z"
   },
   {
    "duration": 526,
    "start_time": "2025-01-15T22:40:58.944Z"
   },
   {
    "duration": 7,
    "start_time": "2025-01-15T22:40:59.472Z"
   },
   {
    "duration": 13,
    "start_time": "2025-01-15T22:40:59.480Z"
   },
   {
    "duration": 10,
    "start_time": "2025-01-15T22:40:59.494Z"
   },
   {
    "duration": 27,
    "start_time": "2025-01-15T22:40:59.506Z"
   },
   {
    "duration": 18,
    "start_time": "2025-01-15T22:40:59.535Z"
   },
   {
    "duration": 14,
    "start_time": "2025-01-15T22:40:59.555Z"
   },
   {
    "duration": 6,
    "start_time": "2025-01-15T22:41:20.612Z"
   },
   {
    "duration": 776,
    "start_time": "2025-01-15T22:41:26.608Z"
   },
   {
    "duration": 42,
    "start_time": "2025-01-15T22:41:27.387Z"
   },
   {
    "duration": 3,
    "start_time": "2025-01-15T22:41:27.431Z"
   },
   {
    "duration": 11,
    "start_time": "2025-01-15T22:41:27.436Z"
   },
   {
    "duration": 5,
    "start_time": "2025-01-15T22:41:27.451Z"
   },
   {
    "duration": 4,
    "start_time": "2025-01-15T22:41:27.457Z"
   },
   {
    "duration": 5,
    "start_time": "2025-01-15T22:41:27.463Z"
   },
   {
    "duration": 6,
    "start_time": "2025-01-15T22:41:27.469Z"
   },
   {
    "duration": 4,
    "start_time": "2025-01-15T22:41:27.477Z"
   },
   {
    "duration": 42,
    "start_time": "2025-01-15T22:41:27.483Z"
   },
   {
    "duration": 23,
    "start_time": "2025-01-15T22:41:27.527Z"
   },
   {
    "duration": 3,
    "start_time": "2025-01-15T22:41:27.552Z"
   },
   {
    "duration": 5,
    "start_time": "2025-01-15T22:41:27.557Z"
   },
   {
    "duration": 6,
    "start_time": "2025-01-15T22:41:27.565Z"
   },
   {
    "duration": 7,
    "start_time": "2025-01-15T22:41:27.572Z"
   },
   {
    "duration": 211,
    "start_time": "2025-01-15T22:41:27.580Z"
   },
   {
    "duration": 169,
    "start_time": "2025-01-15T22:41:27.793Z"
   },
   {
    "duration": 213,
    "start_time": "2025-01-15T22:41:27.964Z"
   },
   {
    "duration": 160,
    "start_time": "2025-01-15T22:41:28.179Z"
   },
   {
    "duration": 156,
    "start_time": "2025-01-15T22:41:28.341Z"
   },
   {
    "duration": 269,
    "start_time": "2025-01-15T22:41:28.499Z"
   },
   {
    "duration": 284,
    "start_time": "2025-01-15T22:41:28.770Z"
   },
   {
    "duration": 228,
    "start_time": "2025-01-15T22:41:29.055Z"
   },
   {
    "duration": 5,
    "start_time": "2025-01-15T22:41:29.285Z"
   },
   {
    "duration": 481,
    "start_time": "2025-01-15T22:41:29.291Z"
   },
   {
    "duration": 6,
    "start_time": "2025-01-15T22:41:29.774Z"
   },
   {
    "duration": 9,
    "start_time": "2025-01-15T22:41:29.782Z"
   },
   {
    "duration": 9,
    "start_time": "2025-01-15T22:41:29.792Z"
   },
   {
    "duration": 9,
    "start_time": "2025-01-15T22:41:29.824Z"
   },
   {
    "duration": 12,
    "start_time": "2025-01-15T22:41:29.835Z"
   },
   {
    "duration": 10,
    "start_time": "2025-01-15T22:41:29.849Z"
   },
   {
    "duration": 8,
    "start_time": "2025-01-15T22:43:47.639Z"
   },
   {
    "duration": 9,
    "start_time": "2025-01-15T22:44:16.770Z"
   },
   {
    "duration": 843,
    "start_time": "2025-01-15T22:46:07.458Z"
   },
   {
    "duration": 49,
    "start_time": "2025-01-15T22:46:08.303Z"
   },
   {
    "duration": 3,
    "start_time": "2025-01-15T22:46:08.354Z"
   },
   {
    "duration": 12,
    "start_time": "2025-01-15T22:46:08.361Z"
   },
   {
    "duration": 7,
    "start_time": "2025-01-15T22:46:08.375Z"
   },
   {
    "duration": 4,
    "start_time": "2025-01-15T22:46:08.383Z"
   },
   {
    "duration": 35,
    "start_time": "2025-01-15T22:46:08.389Z"
   },
   {
    "duration": 5,
    "start_time": "2025-01-15T22:46:08.426Z"
   },
   {
    "duration": 5,
    "start_time": "2025-01-15T22:46:08.433Z"
   },
   {
    "duration": 2,
    "start_time": "2025-01-15T22:46:08.441Z"
   },
   {
    "duration": 17,
    "start_time": "2025-01-15T22:46:08.445Z"
   },
   {
    "duration": 4,
    "start_time": "2025-01-15T22:46:08.463Z"
   },
   {
    "duration": 4,
    "start_time": "2025-01-15T22:46:08.469Z"
   },
   {
    "duration": 6,
    "start_time": "2025-01-15T22:46:08.475Z"
   },
   {
    "duration": 43,
    "start_time": "2025-01-15T22:46:08.483Z"
   },
   {
    "duration": 176,
    "start_time": "2025-01-15T22:46:08.528Z"
   },
   {
    "duration": 171,
    "start_time": "2025-01-15T22:46:08.706Z"
   },
   {
    "duration": 211,
    "start_time": "2025-01-15T22:46:08.880Z"
   },
   {
    "duration": 162,
    "start_time": "2025-01-15T22:46:09.093Z"
   },
   {
    "duration": 169,
    "start_time": "2025-01-15T22:46:09.257Z"
   },
   {
    "duration": 276,
    "start_time": "2025-01-15T22:46:09.428Z"
   },
   {
    "duration": 283,
    "start_time": "2025-01-15T22:46:09.706Z"
   },
   {
    "duration": 228,
    "start_time": "2025-01-15T22:46:09.991Z"
   },
   {
    "duration": 5,
    "start_time": "2025-01-15T22:46:10.220Z"
   },
   {
    "duration": 453,
    "start_time": "2025-01-15T22:46:10.227Z"
   },
   {
    "duration": 6,
    "start_time": "2025-01-15T22:46:10.682Z"
   },
   {
    "duration": 9,
    "start_time": "2025-01-15T22:46:10.690Z"
   },
   {
    "duration": 24,
    "start_time": "2025-01-15T22:46:10.703Z"
   },
   {
    "duration": 10,
    "start_time": "2025-01-15T22:46:10.729Z"
   },
   {
    "duration": 12,
    "start_time": "2025-01-15T22:46:10.740Z"
   },
   {
    "duration": 10,
    "start_time": "2025-01-15T22:46:10.754Z"
   },
   {
    "duration": 7,
    "start_time": "2025-01-15T22:46:40.070Z"
   },
   {
    "duration": 796,
    "start_time": "2025-01-15T22:46:49.030Z"
   },
   {
    "duration": 31,
    "start_time": "2025-01-15T22:46:49.828Z"
   },
   {
    "duration": 3,
    "start_time": "2025-01-15T22:46:49.861Z"
   },
   {
    "duration": 11,
    "start_time": "2025-01-15T22:46:49.866Z"
   },
   {
    "duration": 6,
    "start_time": "2025-01-15T22:46:49.879Z"
   },
   {
    "duration": 3,
    "start_time": "2025-01-15T22:46:49.887Z"
   },
   {
    "duration": 36,
    "start_time": "2025-01-15T22:46:49.893Z"
   },
   {
    "duration": 5,
    "start_time": "2025-01-15T22:46:49.932Z"
   },
   {
    "duration": 5,
    "start_time": "2025-01-15T22:46:49.940Z"
   },
   {
    "duration": 3,
    "start_time": "2025-01-15T22:46:49.949Z"
   },
   {
    "duration": 17,
    "start_time": "2025-01-15T22:46:49.954Z"
   },
   {
    "duration": 4,
    "start_time": "2025-01-15T22:46:49.973Z"
   },
   {
    "duration": 4,
    "start_time": "2025-01-15T22:46:49.978Z"
   },
   {
    "duration": 46,
    "start_time": "2025-01-15T22:46:49.983Z"
   },
   {
    "duration": 6,
    "start_time": "2025-01-15T22:46:50.030Z"
   },
   {
    "duration": 190,
    "start_time": "2025-01-15T22:46:50.037Z"
   },
   {
    "duration": 166,
    "start_time": "2025-01-15T22:46:50.230Z"
   },
   {
    "duration": 209,
    "start_time": "2025-01-15T22:46:50.397Z"
   },
   {
    "duration": 162,
    "start_time": "2025-01-15T22:46:50.608Z"
   },
   {
    "duration": 155,
    "start_time": "2025-01-15T22:46:50.772Z"
   },
   {
    "duration": 283,
    "start_time": "2025-01-15T22:46:50.929Z"
   },
   {
    "duration": 297,
    "start_time": "2025-01-15T22:46:51.214Z"
   },
   {
    "duration": 228,
    "start_time": "2025-01-15T22:46:51.513Z"
   },
   {
    "duration": 5,
    "start_time": "2025-01-15T22:46:51.742Z"
   },
   {
    "duration": 513,
    "start_time": "2025-01-15T22:46:51.749Z"
   },
   {
    "duration": 7,
    "start_time": "2025-01-15T22:46:52.264Z"
   },
   {
    "duration": 10,
    "start_time": "2025-01-15T22:46:52.273Z"
   },
   {
    "duration": 8,
    "start_time": "2025-01-15T22:46:52.286Z"
   },
   {
    "duration": 32,
    "start_time": "2025-01-15T22:46:52.296Z"
   },
   {
    "duration": 11,
    "start_time": "2025-01-15T22:46:52.331Z"
   },
   {
    "duration": 10,
    "start_time": "2025-01-15T22:46:52.344Z"
   },
   {
    "duration": 221,
    "start_time": "2025-01-15T22:55:57.027Z"
   },
   {
    "duration": 799,
    "start_time": "2025-01-15T22:56:21.908Z"
   },
   {
    "duration": 36,
    "start_time": "2025-01-15T22:56:22.709Z"
   },
   {
    "duration": 4,
    "start_time": "2025-01-15T22:56:22.747Z"
   },
   {
    "duration": 11,
    "start_time": "2025-01-15T22:56:22.752Z"
   },
   {
    "duration": 5,
    "start_time": "2025-01-15T22:56:22.766Z"
   },
   {
    "duration": 3,
    "start_time": "2025-01-15T22:56:22.773Z"
   },
   {
    "duration": 292,
    "start_time": "2025-01-15T22:56:22.778Z"
   },
   {
    "duration": 0,
    "start_time": "2025-01-15T22:56:23.072Z"
   },
   {
    "duration": 0,
    "start_time": "2025-01-15T22:56:23.073Z"
   },
   {
    "duration": 0,
    "start_time": "2025-01-15T22:56:23.074Z"
   },
   {
    "duration": 0,
    "start_time": "2025-01-15T22:56:23.075Z"
   },
   {
    "duration": 0,
    "start_time": "2025-01-15T22:56:23.077Z"
   },
   {
    "duration": 0,
    "start_time": "2025-01-15T22:56:23.078Z"
   },
   {
    "duration": 0,
    "start_time": "2025-01-15T22:56:23.079Z"
   },
   {
    "duration": 0,
    "start_time": "2025-01-15T22:56:23.080Z"
   },
   {
    "duration": 0,
    "start_time": "2025-01-15T22:56:23.081Z"
   },
   {
    "duration": 0,
    "start_time": "2025-01-15T22:56:23.082Z"
   },
   {
    "duration": 0,
    "start_time": "2025-01-15T22:56:23.083Z"
   },
   {
    "duration": 0,
    "start_time": "2025-01-15T22:56:23.085Z"
   },
   {
    "duration": 0,
    "start_time": "2025-01-15T22:56:23.086Z"
   },
   {
    "duration": 0,
    "start_time": "2025-01-15T22:56:23.087Z"
   },
   {
    "duration": 0,
    "start_time": "2025-01-15T22:56:23.088Z"
   },
   {
    "duration": 0,
    "start_time": "2025-01-15T22:56:23.089Z"
   },
   {
    "duration": 0,
    "start_time": "2025-01-15T22:56:23.090Z"
   },
   {
    "duration": 0,
    "start_time": "2025-01-15T22:56:23.091Z"
   },
   {
    "duration": 0,
    "start_time": "2025-01-15T22:56:23.092Z"
   },
   {
    "duration": 0,
    "start_time": "2025-01-15T22:56:23.125Z"
   },
   {
    "duration": 0,
    "start_time": "2025-01-15T22:56:23.126Z"
   },
   {
    "duration": 0,
    "start_time": "2025-01-15T22:56:23.128Z"
   },
   {
    "duration": 0,
    "start_time": "2025-01-15T22:56:23.129Z"
   },
   {
    "duration": 0,
    "start_time": "2025-01-15T22:56:23.130Z"
   },
   {
    "duration": 19,
    "start_time": "2025-01-15T22:57:04.301Z"
   },
   {
    "duration": 802,
    "start_time": "2025-01-15T22:57:21.273Z"
   },
   {
    "duration": 32,
    "start_time": "2025-01-15T22:57:22.078Z"
   },
   {
    "duration": 12,
    "start_time": "2025-01-15T22:57:22.112Z"
   },
   {
    "duration": 20,
    "start_time": "2025-01-15T22:57:22.127Z"
   },
   {
    "duration": 6,
    "start_time": "2025-01-15T22:57:22.150Z"
   },
   {
    "duration": 4,
    "start_time": "2025-01-15T22:57:22.157Z"
   },
   {
    "duration": 295,
    "start_time": "2025-01-15T22:57:22.163Z"
   },
   {
    "duration": 0,
    "start_time": "2025-01-15T22:57:22.460Z"
   },
   {
    "duration": 0,
    "start_time": "2025-01-15T22:57:22.461Z"
   },
   {
    "duration": 0,
    "start_time": "2025-01-15T22:57:22.462Z"
   },
   {
    "duration": 0,
    "start_time": "2025-01-15T22:57:22.464Z"
   },
   {
    "duration": 0,
    "start_time": "2025-01-15T22:57:22.465Z"
   },
   {
    "duration": 0,
    "start_time": "2025-01-15T22:57:22.466Z"
   },
   {
    "duration": 0,
    "start_time": "2025-01-15T22:57:22.467Z"
   },
   {
    "duration": 0,
    "start_time": "2025-01-15T22:57:22.468Z"
   },
   {
    "duration": 0,
    "start_time": "2025-01-15T22:57:22.469Z"
   },
   {
    "duration": 0,
    "start_time": "2025-01-15T22:57:22.470Z"
   },
   {
    "duration": 0,
    "start_time": "2025-01-15T22:57:22.471Z"
   },
   {
    "duration": 0,
    "start_time": "2025-01-15T22:57:22.472Z"
   },
   {
    "duration": 0,
    "start_time": "2025-01-15T22:57:22.473Z"
   },
   {
    "duration": 0,
    "start_time": "2025-01-15T22:57:22.474Z"
   },
   {
    "duration": 0,
    "start_time": "2025-01-15T22:57:22.475Z"
   },
   {
    "duration": 0,
    "start_time": "2025-01-15T22:57:22.476Z"
   },
   {
    "duration": 0,
    "start_time": "2025-01-15T22:57:22.477Z"
   },
   {
    "duration": 0,
    "start_time": "2025-01-15T22:57:22.478Z"
   },
   {
    "duration": 0,
    "start_time": "2025-01-15T22:57:22.479Z"
   },
   {
    "duration": 0,
    "start_time": "2025-01-15T22:57:22.480Z"
   },
   {
    "duration": 0,
    "start_time": "2025-01-15T22:57:22.481Z"
   },
   {
    "duration": 0,
    "start_time": "2025-01-15T22:57:22.483Z"
   },
   {
    "duration": 0,
    "start_time": "2025-01-15T22:57:22.484Z"
   },
   {
    "duration": 0,
    "start_time": "2025-01-15T22:57:22.485Z"
   },
   {
    "duration": 20,
    "start_time": "2025-01-15T22:58:02.640Z"
   },
   {
    "duration": 24,
    "start_time": "2025-01-15T22:58:42.213Z"
   },
   {
    "duration": 19,
    "start_time": "2025-01-15T22:58:49.412Z"
   },
   {
    "duration": 9,
    "start_time": "2025-01-15T22:59:04.863Z"
   },
   {
    "duration": 9,
    "start_time": "2025-01-15T23:02:28.831Z"
   },
   {
    "duration": 852,
    "start_time": "2025-01-15T23:02:36.168Z"
   },
   {
    "duration": 36,
    "start_time": "2025-01-15T23:02:37.023Z"
   },
   {
    "duration": 3,
    "start_time": "2025-01-15T23:02:37.060Z"
   },
   {
    "duration": 13,
    "start_time": "2025-01-15T23:02:37.065Z"
   },
   {
    "duration": 6,
    "start_time": "2025-01-15T23:02:37.080Z"
   },
   {
    "duration": 3,
    "start_time": "2025-01-15T23:02:37.088Z"
   },
   {
    "duration": 36,
    "start_time": "2025-01-15T23:02:37.092Z"
   },
   {
    "duration": 6,
    "start_time": "2025-01-15T23:02:37.130Z"
   },
   {
    "duration": 5,
    "start_time": "2025-01-15T23:02:37.138Z"
   },
   {
    "duration": 3,
    "start_time": "2025-01-15T23:02:37.145Z"
   },
   {
    "duration": 17,
    "start_time": "2025-01-15T23:02:37.150Z"
   },
   {
    "duration": 4,
    "start_time": "2025-01-15T23:02:37.169Z"
   },
   {
    "duration": 6,
    "start_time": "2025-01-15T23:02:37.175Z"
   },
   {
    "duration": 45,
    "start_time": "2025-01-15T23:02:37.184Z"
   },
   {
    "duration": 7,
    "start_time": "2025-01-15T23:02:37.231Z"
   },
   {
    "duration": 198,
    "start_time": "2025-01-15T23:02:37.241Z"
   },
   {
    "duration": 188,
    "start_time": "2025-01-15T23:02:37.441Z"
   },
   {
    "duration": 220,
    "start_time": "2025-01-15T23:02:37.633Z"
   },
   {
    "duration": 174,
    "start_time": "2025-01-15T23:02:37.855Z"
   },
   {
    "duration": 165,
    "start_time": "2025-01-15T23:02:38.031Z"
   },
   {
    "duration": 295,
    "start_time": "2025-01-15T23:02:38.197Z"
   },
   {
    "duration": 294,
    "start_time": "2025-01-15T23:02:38.494Z"
   },
   {
    "duration": 237,
    "start_time": "2025-01-15T23:02:38.789Z"
   },
   {
    "duration": 5,
    "start_time": "2025-01-15T23:02:39.028Z"
   },
   {
    "duration": 522,
    "start_time": "2025-01-15T23:02:39.035Z"
   },
   {
    "duration": 7,
    "start_time": "2025-01-15T23:02:39.559Z"
   },
   {
    "duration": 10,
    "start_time": "2025-01-15T23:02:39.568Z"
   },
   {
    "duration": 9,
    "start_time": "2025-01-15T23:02:39.580Z"
   },
   {
    "duration": 33,
    "start_time": "2025-01-15T23:02:39.591Z"
   },
   {
    "duration": 18,
    "start_time": "2025-01-15T23:02:39.626Z"
   },
   {
    "duration": 11,
    "start_time": "2025-01-15T23:02:39.645Z"
   },
   {
    "duration": 8,
    "start_time": "2025-01-15T23:04:11.521Z"
   },
   {
    "duration": 872,
    "start_time": "2025-01-15T23:04:27.963Z"
   },
   {
    "duration": 32,
    "start_time": "2025-01-15T23:04:28.837Z"
   },
   {
    "duration": 3,
    "start_time": "2025-01-15T23:04:28.871Z"
   },
   {
    "duration": 10,
    "start_time": "2025-01-15T23:04:28.876Z"
   },
   {
    "duration": 6,
    "start_time": "2025-01-15T23:04:28.889Z"
   },
   {
    "duration": 27,
    "start_time": "2025-01-15T23:04:28.897Z"
   },
   {
    "duration": 9,
    "start_time": "2025-01-15T23:04:28.926Z"
   },
   {
    "duration": 5,
    "start_time": "2025-01-15T23:04:28.936Z"
   },
   {
    "duration": 4,
    "start_time": "2025-01-15T23:04:28.943Z"
   },
   {
    "duration": 3,
    "start_time": "2025-01-15T23:04:28.949Z"
   },
   {
    "duration": 16,
    "start_time": "2025-01-15T23:04:28.954Z"
   },
   {
    "duration": 3,
    "start_time": "2025-01-15T23:04:28.972Z"
   },
   {
    "duration": 4,
    "start_time": "2025-01-15T23:04:28.977Z"
   },
   {
    "duration": 6,
    "start_time": "2025-01-15T23:04:29.025Z"
   },
   {
    "duration": 5,
    "start_time": "2025-01-15T23:04:29.033Z"
   },
   {
    "duration": 191,
    "start_time": "2025-01-15T23:04:29.039Z"
   },
   {
    "duration": 172,
    "start_time": "2025-01-15T23:04:29.232Z"
   },
   {
    "duration": 206,
    "start_time": "2025-01-15T23:04:29.405Z"
   },
   {
    "duration": 161,
    "start_time": "2025-01-15T23:04:29.613Z"
   },
   {
    "duration": 153,
    "start_time": "2025-01-15T23:04:29.776Z"
   },
   {
    "duration": 274,
    "start_time": "2025-01-15T23:04:29.931Z"
   },
   {
    "duration": 289,
    "start_time": "2025-01-15T23:04:30.207Z"
   },
   {
    "duration": 228,
    "start_time": "2025-01-15T23:04:30.498Z"
   },
   {
    "duration": 4,
    "start_time": "2025-01-15T23:04:30.728Z"
   },
   {
    "duration": 440,
    "start_time": "2025-01-15T23:04:30.734Z"
   },
   {
    "duration": 5,
    "start_time": "2025-01-15T23:04:31.176Z"
   },
   {
    "duration": 14,
    "start_time": "2025-01-15T23:04:31.184Z"
   },
   {
    "duration": 26,
    "start_time": "2025-01-15T23:04:31.199Z"
   },
   {
    "duration": 9,
    "start_time": "2025-01-15T23:04:31.227Z"
   },
   {
    "duration": 11,
    "start_time": "2025-01-15T23:04:31.238Z"
   },
   {
    "duration": 14,
    "start_time": "2025-01-15T23:04:31.251Z"
   },
   {
    "duration": 857,
    "start_time": "2025-01-15T23:06:43.458Z"
   },
   {
    "duration": 38,
    "start_time": "2025-01-15T23:06:44.317Z"
   },
   {
    "duration": 3,
    "start_time": "2025-01-15T23:06:44.357Z"
   },
   {
    "duration": 12,
    "start_time": "2025-01-15T23:06:44.361Z"
   },
   {
    "duration": 5,
    "start_time": "2025-01-15T23:06:44.377Z"
   },
   {
    "duration": 4,
    "start_time": "2025-01-15T23:06:44.384Z"
   },
   {
    "duration": 817,
    "start_time": "2025-01-15T23:06:44.390Z"
   },
   {
    "duration": 0,
    "start_time": "2025-01-15T23:06:45.210Z"
   },
   {
    "duration": 0,
    "start_time": "2025-01-15T23:06:45.223Z"
   },
   {
    "duration": 0,
    "start_time": "2025-01-15T23:06:45.224Z"
   },
   {
    "duration": 0,
    "start_time": "2025-01-15T23:06:45.225Z"
   },
   {
    "duration": 0,
    "start_time": "2025-01-15T23:06:45.226Z"
   },
   {
    "duration": 0,
    "start_time": "2025-01-15T23:06:45.228Z"
   },
   {
    "duration": 0,
    "start_time": "2025-01-15T23:06:45.229Z"
   },
   {
    "duration": 0,
    "start_time": "2025-01-15T23:06:45.230Z"
   },
   {
    "duration": 0,
    "start_time": "2025-01-15T23:06:45.231Z"
   },
   {
    "duration": 0,
    "start_time": "2025-01-15T23:06:45.232Z"
   },
   {
    "duration": 0,
    "start_time": "2025-01-15T23:06:45.234Z"
   },
   {
    "duration": 0,
    "start_time": "2025-01-15T23:06:45.234Z"
   },
   {
    "duration": 0,
    "start_time": "2025-01-15T23:06:45.236Z"
   },
   {
    "duration": 0,
    "start_time": "2025-01-15T23:06:45.237Z"
   },
   {
    "duration": 0,
    "start_time": "2025-01-15T23:06:45.238Z"
   },
   {
    "duration": 0,
    "start_time": "2025-01-15T23:06:45.240Z"
   },
   {
    "duration": 0,
    "start_time": "2025-01-15T23:06:45.241Z"
   },
   {
    "duration": 0,
    "start_time": "2025-01-15T23:06:45.243Z"
   },
   {
    "duration": 0,
    "start_time": "2025-01-15T23:06:45.245Z"
   },
   {
    "duration": 0,
    "start_time": "2025-01-15T23:06:45.246Z"
   },
   {
    "duration": 0,
    "start_time": "2025-01-15T23:06:45.248Z"
   },
   {
    "duration": 0,
    "start_time": "2025-01-15T23:06:45.249Z"
   },
   {
    "duration": 0,
    "start_time": "2025-01-15T23:06:45.250Z"
   },
   {
    "duration": 0,
    "start_time": "2025-01-15T23:06:45.251Z"
   },
   {
    "duration": 55,
    "start_time": "2025-01-15T23:07:19.856Z"
   },
   {
    "duration": 9,
    "start_time": "2025-01-15T23:07:48.723Z"
   },
   {
    "duration": 8,
    "start_time": "2025-01-15T23:08:22.024Z"
   },
   {
    "duration": 19,
    "start_time": "2025-01-15T23:11:52.576Z"
   },
   {
    "duration": 19,
    "start_time": "2025-01-15T23:11:59.362Z"
   },
   {
    "duration": 20,
    "start_time": "2025-01-15T23:12:03.723Z"
   },
   {
    "duration": 4,
    "start_time": "2025-01-15T23:14:07.668Z"
   },
   {
    "duration": 19,
    "start_time": "2025-01-15T23:14:25.594Z"
   },
   {
    "duration": 4,
    "start_time": "2025-01-15T23:16:41.070Z"
   },
   {
    "duration": 5,
    "start_time": "2025-01-15T23:16:46.301Z"
   },
   {
    "duration": 6,
    "start_time": "2025-01-15T23:17:36.139Z"
   },
   {
    "duration": 773,
    "start_time": "2025-01-15T23:17:45.693Z"
   },
   {
    "duration": 32,
    "start_time": "2025-01-15T23:17:46.468Z"
   },
   {
    "duration": 3,
    "start_time": "2025-01-15T23:17:46.502Z"
   },
   {
    "duration": 24,
    "start_time": "2025-01-15T23:17:46.507Z"
   },
   {
    "duration": 6,
    "start_time": "2025-01-15T23:17:46.533Z"
   },
   {
    "duration": 4,
    "start_time": "2025-01-15T23:17:46.540Z"
   },
   {
    "duration": 4,
    "start_time": "2025-01-15T23:17:46.545Z"
   },
   {
    "duration": 0,
    "start_time": "2025-01-15T23:17:46.552Z"
   },
   {
    "duration": 0,
    "start_time": "2025-01-15T23:17:46.553Z"
   },
   {
    "duration": 0,
    "start_time": "2025-01-15T23:17:46.554Z"
   },
   {
    "duration": 0,
    "start_time": "2025-01-15T23:17:46.555Z"
   },
   {
    "duration": 0,
    "start_time": "2025-01-15T23:17:46.556Z"
   },
   {
    "duration": 0,
    "start_time": "2025-01-15T23:17:46.557Z"
   },
   {
    "duration": 0,
    "start_time": "2025-01-15T23:17:46.558Z"
   },
   {
    "duration": 0,
    "start_time": "2025-01-15T23:17:46.559Z"
   },
   {
    "duration": 0,
    "start_time": "2025-01-15T23:17:46.560Z"
   },
   {
    "duration": 0,
    "start_time": "2025-01-15T23:17:46.561Z"
   },
   {
    "duration": 0,
    "start_time": "2025-01-15T23:17:46.562Z"
   },
   {
    "duration": 0,
    "start_time": "2025-01-15T23:17:46.563Z"
   },
   {
    "duration": 0,
    "start_time": "2025-01-15T23:17:46.564Z"
   },
   {
    "duration": 0,
    "start_time": "2025-01-15T23:17:46.565Z"
   },
   {
    "duration": 0,
    "start_time": "2025-01-15T23:17:46.566Z"
   },
   {
    "duration": 0,
    "start_time": "2025-01-15T23:17:46.567Z"
   },
   {
    "duration": 0,
    "start_time": "2025-01-15T23:17:46.568Z"
   },
   {
    "duration": 0,
    "start_time": "2025-01-15T23:17:46.569Z"
   },
   {
    "duration": 0,
    "start_time": "2025-01-15T23:17:46.570Z"
   },
   {
    "duration": 0,
    "start_time": "2025-01-15T23:17:46.571Z"
   },
   {
    "duration": 0,
    "start_time": "2025-01-15T23:17:46.572Z"
   },
   {
    "duration": 0,
    "start_time": "2025-01-15T23:17:46.624Z"
   },
   {
    "duration": 0,
    "start_time": "2025-01-15T23:17:46.626Z"
   },
   {
    "duration": 0,
    "start_time": "2025-01-15T23:17:46.627Z"
   },
   {
    "duration": 7,
    "start_time": "2025-01-15T23:18:10.595Z"
   },
   {
    "duration": 6,
    "start_time": "2025-01-15T23:20:47.579Z"
   },
   {
    "duration": 7,
    "start_time": "2025-01-15T23:20:58.634Z"
   },
   {
    "duration": 267,
    "start_time": "2025-01-15T23:23:14.726Z"
   },
   {
    "duration": 21,
    "start_time": "2025-01-15T23:24:11.711Z"
   },
   {
    "duration": 10,
    "start_time": "2025-01-15T23:26:45.284Z"
   },
   {
    "duration": 813,
    "start_time": "2025-01-15T23:27:27.126Z"
   },
   {
    "duration": 33,
    "start_time": "2025-01-15T23:27:27.941Z"
   },
   {
    "duration": 3,
    "start_time": "2025-01-15T23:27:27.976Z"
   },
   {
    "duration": 13,
    "start_time": "2025-01-15T23:27:27.980Z"
   },
   {
    "duration": 6,
    "start_time": "2025-01-15T23:27:27.996Z"
   },
   {
    "duration": 23,
    "start_time": "2025-01-15T23:27:28.003Z"
   },
   {
    "duration": 10,
    "start_time": "2025-01-15T23:27:28.029Z"
   },
   {
    "duration": 5,
    "start_time": "2025-01-15T23:27:28.042Z"
   },
   {
    "duration": 5,
    "start_time": "2025-01-15T23:27:28.048Z"
   },
   {
    "duration": 4,
    "start_time": "2025-01-15T23:27:28.054Z"
   },
   {
    "duration": 17,
    "start_time": "2025-01-15T23:27:28.059Z"
   },
   {
    "duration": 4,
    "start_time": "2025-01-15T23:27:28.077Z"
   },
   {
    "duration": 46,
    "start_time": "2025-01-15T23:27:28.082Z"
   },
   {
    "duration": 7,
    "start_time": "2025-01-15T23:27:28.134Z"
   },
   {
    "duration": 8,
    "start_time": "2025-01-15T23:27:28.142Z"
   },
   {
    "duration": 186,
    "start_time": "2025-01-15T23:27:28.151Z"
   },
   {
    "duration": 165,
    "start_time": "2025-01-15T23:27:28.339Z"
   },
   {
    "duration": 210,
    "start_time": "2025-01-15T23:27:28.506Z"
   },
   {
    "duration": 161,
    "start_time": "2025-01-15T23:27:28.723Z"
   },
   {
    "duration": 166,
    "start_time": "2025-01-15T23:27:28.886Z"
   },
   {
    "duration": 274,
    "start_time": "2025-01-15T23:27:29.055Z"
   },
   {
    "duration": 297,
    "start_time": "2025-01-15T23:27:29.331Z"
   },
   {
    "duration": 238,
    "start_time": "2025-01-15T23:27:29.630Z"
   },
   {
    "duration": 4,
    "start_time": "2025-01-15T23:27:29.871Z"
   },
   {
    "duration": 497,
    "start_time": "2025-01-15T23:27:29.877Z"
   },
   {
    "duration": 6,
    "start_time": "2025-01-15T23:27:30.376Z"
   },
   {
    "duration": 10,
    "start_time": "2025-01-15T23:27:30.383Z"
   },
   {
    "duration": 10,
    "start_time": "2025-01-15T23:27:30.394Z"
   },
   {
    "duration": 9,
    "start_time": "2025-01-15T23:27:30.425Z"
   },
   {
    "duration": 12,
    "start_time": "2025-01-15T23:27:30.437Z"
   },
   {
    "duration": 10,
    "start_time": "2025-01-15T23:27:30.451Z"
   },
   {
    "duration": 9,
    "start_time": "2025-01-15T23:29:55.995Z"
   },
   {
    "duration": 801,
    "start_time": "2025-01-15T23:30:06.720Z"
   },
   {
    "duration": 39,
    "start_time": "2025-01-15T23:30:07.524Z"
   },
   {
    "duration": 3,
    "start_time": "2025-01-15T23:30:07.565Z"
   },
   {
    "duration": 10,
    "start_time": "2025-01-15T23:30:07.570Z"
   },
   {
    "duration": 5,
    "start_time": "2025-01-15T23:30:07.583Z"
   },
   {
    "duration": 4,
    "start_time": "2025-01-15T23:30:07.590Z"
   },
   {
    "duration": 873,
    "start_time": "2025-01-15T23:30:07.595Z"
   },
   {
    "duration": 0,
    "start_time": "2025-01-15T23:30:08.470Z"
   },
   {
    "duration": 0,
    "start_time": "2025-01-15T23:30:08.472Z"
   },
   {
    "duration": 0,
    "start_time": "2025-01-15T23:30:08.473Z"
   },
   {
    "duration": 0,
    "start_time": "2025-01-15T23:30:08.474Z"
   },
   {
    "duration": 0,
    "start_time": "2025-01-15T23:30:08.476Z"
   },
   {
    "duration": 0,
    "start_time": "2025-01-15T23:30:08.478Z"
   },
   {
    "duration": 0,
    "start_time": "2025-01-15T23:30:08.479Z"
   },
   {
    "duration": 0,
    "start_time": "2025-01-15T23:30:08.481Z"
   },
   {
    "duration": 0,
    "start_time": "2025-01-15T23:30:08.482Z"
   },
   {
    "duration": 0,
    "start_time": "2025-01-15T23:30:08.483Z"
   },
   {
    "duration": 0,
    "start_time": "2025-01-15T23:30:08.485Z"
   },
   {
    "duration": 0,
    "start_time": "2025-01-15T23:30:08.486Z"
   },
   {
    "duration": 0,
    "start_time": "2025-01-15T23:30:08.487Z"
   },
   {
    "duration": 0,
    "start_time": "2025-01-15T23:30:08.488Z"
   },
   {
    "duration": 0,
    "start_time": "2025-01-15T23:30:08.490Z"
   },
   {
    "duration": 0,
    "start_time": "2025-01-15T23:30:08.491Z"
   },
   {
    "duration": 0,
    "start_time": "2025-01-15T23:30:08.524Z"
   },
   {
    "duration": 0,
    "start_time": "2025-01-15T23:30:08.525Z"
   },
   {
    "duration": 0,
    "start_time": "2025-01-15T23:30:08.526Z"
   },
   {
    "duration": 0,
    "start_time": "2025-01-15T23:30:08.527Z"
   },
   {
    "duration": 0,
    "start_time": "2025-01-15T23:30:08.528Z"
   },
   {
    "duration": 0,
    "start_time": "2025-01-15T23:30:08.529Z"
   },
   {
    "duration": 0,
    "start_time": "2025-01-15T23:30:08.530Z"
   },
   {
    "duration": 0,
    "start_time": "2025-01-15T23:30:08.531Z"
   },
   {
    "duration": 3,
    "start_time": "2025-01-15T23:31:43.615Z"
   },
   {
    "duration": 30,
    "start_time": "2025-01-15T23:31:44.421Z"
   },
   {
    "duration": 3,
    "start_time": "2025-01-15T23:31:46.365Z"
   },
   {
    "duration": 11,
    "start_time": "2025-01-15T23:31:47.306Z"
   },
   {
    "duration": 6,
    "start_time": "2025-01-15T23:31:48.453Z"
   },
   {
    "duration": 4,
    "start_time": "2025-01-15T23:31:48.797Z"
   },
   {
    "duration": 63,
    "start_time": "2025-01-15T23:31:49.761Z"
   },
   {
    "duration": 27,
    "start_time": "2025-01-15T23:35:10.226Z"
   },
   {
    "duration": 31,
    "start_time": "2025-01-15T23:35:31.516Z"
   },
   {
    "duration": 103,
    "start_time": "2025-01-15T23:37:20.241Z"
   },
   {
    "duration": 850,
    "start_time": "2025-01-15T23:37:38.936Z"
   },
   {
    "duration": 36,
    "start_time": "2025-01-15T23:37:39.788Z"
   },
   {
    "duration": 3,
    "start_time": "2025-01-15T23:37:39.825Z"
   },
   {
    "duration": 11,
    "start_time": "2025-01-15T23:37:39.830Z"
   },
   {
    "duration": 5,
    "start_time": "2025-01-15T23:37:39.844Z"
   },
   {
    "duration": 6,
    "start_time": "2025-01-15T23:37:39.850Z"
   },
   {
    "duration": 123,
    "start_time": "2025-01-15T23:37:39.857Z"
   },
   {
    "duration": 6,
    "start_time": "2025-01-15T23:37:39.982Z"
   },
   {
    "duration": 4,
    "start_time": "2025-01-15T23:37:39.990Z"
   },
   {
    "duration": 3,
    "start_time": "2025-01-15T23:37:39.995Z"
   },
   {
    "duration": 38,
    "start_time": "2025-01-15T23:37:40.000Z"
   },
   {
    "duration": 4,
    "start_time": "2025-01-15T23:37:40.039Z"
   },
   {
    "duration": 4,
    "start_time": "2025-01-15T23:37:40.044Z"
   },
   {
    "duration": 7,
    "start_time": "2025-01-15T23:37:40.052Z"
   },
   {
    "duration": 5,
    "start_time": "2025-01-15T23:37:40.060Z"
   },
   {
    "duration": 206,
    "start_time": "2025-01-15T23:37:40.067Z"
   },
   {
    "duration": 172,
    "start_time": "2025-01-15T23:37:40.275Z"
   },
   {
    "duration": 199,
    "start_time": "2025-01-15T23:37:40.449Z"
   },
   {
    "duration": 162,
    "start_time": "2025-01-15T23:37:40.650Z"
   },
   {
    "duration": 158,
    "start_time": "2025-01-15T23:37:40.813Z"
   },
   {
    "duration": 274,
    "start_time": "2025-01-15T23:37:40.973Z"
   },
   {
    "duration": 297,
    "start_time": "2025-01-15T23:37:41.249Z"
   },
   {
    "duration": 224,
    "start_time": "2025-01-15T23:37:41.548Z"
   },
   {
    "duration": 5,
    "start_time": "2025-01-15T23:37:41.773Z"
   },
   {
    "duration": 488,
    "start_time": "2025-01-15T23:37:41.780Z"
   },
   {
    "duration": 5,
    "start_time": "2025-01-15T23:37:42.270Z"
   },
   {
    "duration": 9,
    "start_time": "2025-01-15T23:37:42.277Z"
   },
   {
    "duration": 9,
    "start_time": "2025-01-15T23:37:42.287Z"
   },
   {
    "duration": 34,
    "start_time": "2025-01-15T23:37:42.298Z"
   },
   {
    "duration": 13,
    "start_time": "2025-01-15T23:37:42.334Z"
   },
   {
    "duration": 14,
    "start_time": "2025-01-15T23:37:42.349Z"
   },
   {
    "duration": 9,
    "start_time": "2025-01-15T23:38:57.198Z"
   },
   {
    "duration": 833,
    "start_time": "2025-01-15T23:39:10.974Z"
   },
   {
    "duration": 37,
    "start_time": "2025-01-15T23:39:11.809Z"
   },
   {
    "duration": 3,
    "start_time": "2025-01-15T23:39:11.848Z"
   },
   {
    "duration": 12,
    "start_time": "2025-01-15T23:39:11.852Z"
   },
   {
    "duration": 6,
    "start_time": "2025-01-15T23:39:11.866Z"
   },
   {
    "duration": 4,
    "start_time": "2025-01-15T23:39:11.873Z"
   },
   {
    "duration": 113,
    "start_time": "2025-01-15T23:39:11.879Z"
   },
   {
    "duration": 6,
    "start_time": "2025-01-15T23:39:11.993Z"
   },
   {
    "duration": 5,
    "start_time": "2025-01-15T23:39:12.001Z"
   },
   {
    "duration": 4,
    "start_time": "2025-01-15T23:39:12.023Z"
   },
   {
    "duration": 16,
    "start_time": "2025-01-15T23:39:12.029Z"
   },
   {
    "duration": 4,
    "start_time": "2025-01-15T23:39:12.047Z"
   },
   {
    "duration": 4,
    "start_time": "2025-01-15T23:39:12.053Z"
   },
   {
    "duration": 8,
    "start_time": "2025-01-15T23:39:12.062Z"
   },
   {
    "duration": 5,
    "start_time": "2025-01-15T23:39:12.072Z"
   },
   {
    "duration": 208,
    "start_time": "2025-01-15T23:39:12.080Z"
   },
   {
    "duration": 169,
    "start_time": "2025-01-15T23:39:12.289Z"
   },
   {
    "duration": 234,
    "start_time": "2025-01-15T23:39:12.460Z"
   },
   {
    "duration": 160,
    "start_time": "2025-01-15T23:39:12.696Z"
   },
   {
    "duration": 152,
    "start_time": "2025-01-15T23:39:12.858Z"
   },
   {
    "duration": 272,
    "start_time": "2025-01-15T23:39:13.013Z"
   },
   {
    "duration": 280,
    "start_time": "2025-01-15T23:39:13.287Z"
   },
   {
    "duration": 237,
    "start_time": "2025-01-15T23:39:13.569Z"
   },
   {
    "duration": 5,
    "start_time": "2025-01-15T23:39:13.808Z"
   },
   {
    "duration": 451,
    "start_time": "2025-01-15T23:39:13.815Z"
   },
   {
    "duration": 6,
    "start_time": "2025-01-15T23:39:14.268Z"
   },
   {
    "duration": 9,
    "start_time": "2025-01-15T23:39:14.275Z"
   },
   {
    "duration": 9,
    "start_time": "2025-01-15T23:39:14.286Z"
   },
   {
    "duration": 36,
    "start_time": "2025-01-15T23:39:14.297Z"
   },
   {
    "duration": 12,
    "start_time": "2025-01-15T23:39:14.334Z"
   },
   {
    "duration": 10,
    "start_time": "2025-01-15T23:39:14.348Z"
   },
   {
    "duration": 10,
    "start_time": "2025-01-15T23:39:44.463Z"
   },
   {
    "duration": 10,
    "start_time": "2025-01-15T23:40:04.783Z"
   },
   {
    "duration": 835,
    "start_time": "2025-01-15T23:40:59.340Z"
   },
   {
    "duration": 32,
    "start_time": "2025-01-15T23:41:00.177Z"
   },
   {
    "duration": 3,
    "start_time": "2025-01-15T23:41:00.210Z"
   },
   {
    "duration": 12,
    "start_time": "2025-01-15T23:41:00.224Z"
   },
   {
    "duration": 5,
    "start_time": "2025-01-15T23:41:00.239Z"
   },
   {
    "duration": 5,
    "start_time": "2025-01-15T23:41:00.245Z"
   },
   {
    "duration": 120,
    "start_time": "2025-01-15T23:41:00.251Z"
   },
   {
    "duration": 5,
    "start_time": "2025-01-15T23:41:00.372Z"
   },
   {
    "duration": 5,
    "start_time": "2025-01-15T23:41:00.379Z"
   },
   {
    "duration": 4,
    "start_time": "2025-01-15T23:41:00.385Z"
   },
   {
    "duration": 36,
    "start_time": "2025-01-15T23:41:00.391Z"
   },
   {
    "duration": 3,
    "start_time": "2025-01-15T23:41:00.429Z"
   },
   {
    "duration": 5,
    "start_time": "2025-01-15T23:41:00.434Z"
   },
   {
    "duration": 7,
    "start_time": "2025-01-15T23:41:00.443Z"
   },
   {
    "duration": 6,
    "start_time": "2025-01-15T23:41:00.451Z"
   },
   {
    "duration": 195,
    "start_time": "2025-01-15T23:41:00.458Z"
   },
   {
    "duration": 165,
    "start_time": "2025-01-15T23:41:00.655Z"
   },
   {
    "duration": 220,
    "start_time": "2025-01-15T23:41:00.823Z"
   },
   {
    "duration": 168,
    "start_time": "2025-01-15T23:41:01.044Z"
   },
   {
    "duration": 150,
    "start_time": "2025-01-15T23:41:01.214Z"
   },
   {
    "duration": 267,
    "start_time": "2025-01-15T23:41:01.366Z"
   },
   {
    "duration": 282,
    "start_time": "2025-01-15T23:41:01.635Z"
   },
   {
    "duration": 231,
    "start_time": "2025-01-15T23:41:01.918Z"
   },
   {
    "duration": 4,
    "start_time": "2025-01-15T23:41:02.151Z"
   },
   {
    "duration": 469,
    "start_time": "2025-01-15T23:41:02.157Z"
   },
   {
    "duration": 6,
    "start_time": "2025-01-15T23:41:02.628Z"
   },
   {
    "duration": 9,
    "start_time": "2025-01-15T23:41:02.636Z"
   },
   {
    "duration": 8,
    "start_time": "2025-01-15T23:41:02.646Z"
   },
   {
    "duration": 9,
    "start_time": "2025-01-15T23:41:02.656Z"
   },
   {
    "duration": 11,
    "start_time": "2025-01-15T23:41:02.667Z"
   },
   {
    "duration": 44,
    "start_time": "2025-01-15T23:41:02.680Z"
   },
   {
    "duration": 169,
    "start_time": "2025-01-15T23:43:01.436Z"
   },
   {
    "duration": 918,
    "start_time": "2025-01-15T23:43:06.748Z"
   },
   {
    "duration": 31,
    "start_time": "2025-01-15T23:43:07.668Z"
   },
   {
    "duration": 2,
    "start_time": "2025-01-15T23:43:08.258Z"
   },
   {
    "duration": 11,
    "start_time": "2025-01-15T23:43:08.591Z"
   },
   {
    "duration": 7,
    "start_time": "2025-01-15T23:43:08.975Z"
   },
   {
    "duration": 4,
    "start_time": "2025-01-15T23:43:09.805Z"
   },
   {
    "duration": 113,
    "start_time": "2025-01-15T23:43:11.111Z"
   },
   {
    "duration": 94,
    "start_time": "2025-01-15T23:43:37.147Z"
   },
   {
    "duration": 4901,
    "start_time": "2025-01-15T23:44:05.880Z"
   },
   {
    "duration": 4,
    "start_time": "2025-01-15T23:44:44.652Z"
   },
   {
    "duration": 7,
    "start_time": "2025-01-15T23:44:51.168Z"
   },
   {
    "duration": 4899,
    "start_time": "2025-01-15T23:44:55.811Z"
   },
   {
    "duration": 97,
    "start_time": "2025-01-15T23:45:10.104Z"
   },
   {
    "duration": 103,
    "start_time": "2025-01-15T23:45:24.250Z"
   },
   {
    "duration": 7,
    "start_time": "2025-01-15T23:45:59.194Z"
   },
   {
    "duration": 110,
    "start_time": "2025-01-15T23:46:09.624Z"
   },
   {
    "duration": 87,
    "start_time": "2025-01-15T23:49:29.213Z"
   },
   {
    "duration": 517,
    "start_time": "2025-01-15T23:51:01.959Z"
   },
   {
    "duration": 54,
    "start_time": "2025-01-15T23:52:00.173Z"
   },
   {
    "duration": 11,
    "start_time": "2025-01-15T23:52:10.841Z"
   },
   {
    "duration": 135,
    "start_time": "2025-01-15T23:52:38.526Z"
   },
   {
    "duration": 53,
    "start_time": "2025-01-15T23:53:18.453Z"
   },
   {
    "duration": 56,
    "start_time": "2025-01-15T23:53:27.281Z"
   },
   {
    "duration": 54,
    "start_time": "2025-01-15T23:53:33.332Z"
   },
   {
    "duration": 834,
    "start_time": "2025-01-15T23:53:43.172Z"
   },
   {
    "duration": 36,
    "start_time": "2025-01-15T23:53:44.008Z"
   },
   {
    "duration": 3,
    "start_time": "2025-01-15T23:53:44.046Z"
   },
   {
    "duration": 11,
    "start_time": "2025-01-15T23:53:44.051Z"
   },
   {
    "duration": 6,
    "start_time": "2025-01-15T23:53:44.064Z"
   },
   {
    "duration": 4,
    "start_time": "2025-01-15T23:53:44.071Z"
   },
   {
    "duration": 119,
    "start_time": "2025-01-15T23:53:44.076Z"
   },
   {
    "duration": 5,
    "start_time": "2025-01-15T23:53:44.198Z"
   },
   {
    "duration": 19,
    "start_time": "2025-01-15T23:53:44.205Z"
   },
   {
    "duration": 3,
    "start_time": "2025-01-15T23:53:44.228Z"
   },
   {
    "duration": 16,
    "start_time": "2025-01-15T23:53:44.233Z"
   },
   {
    "duration": 3,
    "start_time": "2025-01-15T23:53:44.251Z"
   },
   {
    "duration": 5,
    "start_time": "2025-01-15T23:53:44.256Z"
   },
   {
    "duration": 7,
    "start_time": "2025-01-15T23:53:44.262Z"
   },
   {
    "duration": 6,
    "start_time": "2025-01-15T23:53:44.271Z"
   },
   {
    "duration": 226,
    "start_time": "2025-01-15T23:53:44.278Z"
   },
   {
    "duration": 185,
    "start_time": "2025-01-15T23:53:44.505Z"
   },
   {
    "duration": 218,
    "start_time": "2025-01-15T23:53:44.691Z"
   },
   {
    "duration": 180,
    "start_time": "2025-01-15T23:53:44.911Z"
   },
   {
    "duration": 188,
    "start_time": "2025-01-15T23:53:45.093Z"
   },
   {
    "duration": 288,
    "start_time": "2025-01-15T23:53:45.283Z"
   },
   {
    "duration": 308,
    "start_time": "2025-01-15T23:53:45.572Z"
   },
   {
    "duration": 220,
    "start_time": "2025-01-15T23:53:45.881Z"
   },
   {
    "duration": 6,
    "start_time": "2025-01-15T23:53:46.103Z"
   },
   {
    "duration": 477,
    "start_time": "2025-01-15T23:53:46.110Z"
   },
   {
    "duration": 6,
    "start_time": "2025-01-15T23:53:46.590Z"
   },
   {
    "duration": 10,
    "start_time": "2025-01-15T23:53:46.597Z"
   },
   {
    "duration": 8,
    "start_time": "2025-01-15T23:53:46.624Z"
   },
   {
    "duration": 10,
    "start_time": "2025-01-15T23:53:46.633Z"
   },
   {
    "duration": 11,
    "start_time": "2025-01-15T23:53:46.645Z"
   },
   {
    "duration": 12,
    "start_time": "2025-01-15T23:53:46.657Z"
   },
   {
    "duration": 11,
    "start_time": "2025-01-15T23:57:59.517Z"
   },
   {
    "duration": 852,
    "start_time": "2025-01-15T23:58:06.673Z"
   },
   {
    "duration": 38,
    "start_time": "2025-01-15T23:58:07.528Z"
   },
   {
    "duration": 4,
    "start_time": "2025-01-15T23:58:07.568Z"
   },
   {
    "duration": 12,
    "start_time": "2025-01-15T23:58:07.574Z"
   },
   {
    "duration": 6,
    "start_time": "2025-01-15T23:58:07.588Z"
   },
   {
    "duration": 4,
    "start_time": "2025-01-15T23:58:07.596Z"
   },
   {
    "duration": 58,
    "start_time": "2025-01-15T23:58:07.624Z"
   },
   {
    "duration": 9,
    "start_time": "2025-01-15T23:58:07.684Z"
   },
   {
    "duration": 30,
    "start_time": "2025-01-15T23:58:07.695Z"
   },
   {
    "duration": 4,
    "start_time": "2025-01-15T23:58:07.729Z"
   },
   {
    "duration": 21,
    "start_time": "2025-01-15T23:58:07.735Z"
   },
   {
    "duration": 3,
    "start_time": "2025-01-15T23:58:07.758Z"
   },
   {
    "duration": 4,
    "start_time": "2025-01-15T23:58:07.764Z"
   },
   {
    "duration": 7,
    "start_time": "2025-01-15T23:58:07.770Z"
   },
   {
    "duration": 6,
    "start_time": "2025-01-15T23:58:07.779Z"
   },
   {
    "duration": 218,
    "start_time": "2025-01-15T23:58:07.786Z"
   },
   {
    "duration": 172,
    "start_time": "2025-01-15T23:58:08.005Z"
   },
   {
    "duration": 235,
    "start_time": "2025-01-15T23:58:08.179Z"
   },
   {
    "duration": 170,
    "start_time": "2025-01-15T23:58:08.416Z"
   },
   {
    "duration": 157,
    "start_time": "2025-01-15T23:58:08.587Z"
   },
   {
    "duration": 283,
    "start_time": "2025-01-15T23:58:08.746Z"
   },
   {
    "duration": 296,
    "start_time": "2025-01-15T23:58:09.031Z"
   },
   {
    "duration": 234,
    "start_time": "2025-01-15T23:58:09.329Z"
   },
   {
    "duration": 5,
    "start_time": "2025-01-15T23:58:09.565Z"
   },
   {
    "duration": 504,
    "start_time": "2025-01-15T23:58:09.571Z"
   },
   {
    "duration": 8,
    "start_time": "2025-01-15T23:58:10.077Z"
   },
   {
    "duration": 10,
    "start_time": "2025-01-15T23:58:10.087Z"
   },
   {
    "duration": 26,
    "start_time": "2025-01-15T23:58:10.100Z"
   },
   {
    "duration": 10,
    "start_time": "2025-01-15T23:58:10.129Z"
   },
   {
    "duration": 13,
    "start_time": "2025-01-15T23:58:10.141Z"
   },
   {
    "duration": 12,
    "start_time": "2025-01-15T23:58:10.157Z"
   },
   {
    "duration": 815,
    "start_time": "2025-01-15T23:59:23.390Z"
   },
   {
    "duration": 36,
    "start_time": "2025-01-15T23:59:24.207Z"
   },
   {
    "duration": 3,
    "start_time": "2025-01-15T23:59:24.246Z"
   },
   {
    "duration": 15,
    "start_time": "2025-01-15T23:59:24.251Z"
   },
   {
    "duration": 6,
    "start_time": "2025-01-15T23:59:24.269Z"
   },
   {
    "duration": 4,
    "start_time": "2025-01-15T23:59:24.277Z"
   },
   {
    "duration": 84,
    "start_time": "2025-01-15T23:59:24.282Z"
   },
   {
    "duration": 6,
    "start_time": "2025-01-15T23:59:24.368Z"
   },
   {
    "duration": 5,
    "start_time": "2025-01-15T23:59:24.376Z"
   },
   {
    "duration": 4,
    "start_time": "2025-01-15T23:59:24.382Z"
   },
   {
    "duration": 36,
    "start_time": "2025-01-15T23:59:24.388Z"
   },
   {
    "duration": 5,
    "start_time": "2025-01-15T23:59:24.426Z"
   },
   {
    "duration": 4,
    "start_time": "2025-01-15T23:59:24.433Z"
   },
   {
    "duration": 6,
    "start_time": "2025-01-15T23:59:24.441Z"
   },
   {
    "duration": 6,
    "start_time": "2025-01-15T23:59:24.448Z"
   },
   {
    "duration": 195,
    "start_time": "2025-01-15T23:59:24.456Z"
   },
   {
    "duration": 166,
    "start_time": "2025-01-15T23:59:24.652Z"
   },
   {
    "duration": 200,
    "start_time": "2025-01-15T23:59:24.824Z"
   },
   {
    "duration": 154,
    "start_time": "2025-01-15T23:59:25.026Z"
   },
   {
    "duration": 157,
    "start_time": "2025-01-15T23:59:25.182Z"
   },
   {
    "duration": 265,
    "start_time": "2025-01-15T23:59:25.341Z"
   },
   {
    "duration": 301,
    "start_time": "2025-01-15T23:59:25.607Z"
   },
   {
    "duration": 229,
    "start_time": "2025-01-15T23:59:25.910Z"
   },
   {
    "duration": 5,
    "start_time": "2025-01-15T23:59:26.141Z"
   },
   {
    "duration": 448,
    "start_time": "2025-01-15T23:59:26.147Z"
   },
   {
    "duration": 5,
    "start_time": "2025-01-15T23:59:26.597Z"
   },
   {
    "duration": 25,
    "start_time": "2025-01-15T23:59:26.604Z"
   },
   {
    "duration": 8,
    "start_time": "2025-01-15T23:59:26.631Z"
   },
   {
    "duration": 10,
    "start_time": "2025-01-15T23:59:26.640Z"
   },
   {
    "duration": 13,
    "start_time": "2025-01-15T23:59:26.652Z"
   },
   {
    "duration": 12,
    "start_time": "2025-01-15T23:59:26.666Z"
   },
   {
    "duration": 12,
    "start_time": "2025-01-15T23:59:51.918Z"
   },
   {
    "duration": 799,
    "start_time": "2025-01-15T23:59:59.959Z"
   },
   {
    "duration": 31,
    "start_time": "2025-01-16T00:00:00.761Z"
   },
   {
    "duration": 3,
    "start_time": "2025-01-16T00:00:00.794Z"
   },
   {
    "duration": 25,
    "start_time": "2025-01-16T00:00:00.799Z"
   },
   {
    "duration": 6,
    "start_time": "2025-01-16T00:00:00.826Z"
   },
   {
    "duration": 4,
    "start_time": "2025-01-16T00:00:00.833Z"
   },
   {
    "duration": 53,
    "start_time": "2025-01-16T00:00:00.838Z"
   },
   {
    "duration": 5,
    "start_time": "2025-01-16T00:00:00.892Z"
   },
   {
    "duration": 27,
    "start_time": "2025-01-16T00:00:00.899Z"
   },
   {
    "duration": 4,
    "start_time": "2025-01-16T00:00:00.928Z"
   },
   {
    "duration": 16,
    "start_time": "2025-01-16T00:00:00.933Z"
   },
   {
    "duration": 3,
    "start_time": "2025-01-16T00:00:00.951Z"
   },
   {
    "duration": 6,
    "start_time": "2025-01-16T00:00:00.956Z"
   },
   {
    "duration": 9,
    "start_time": "2025-01-16T00:00:00.966Z"
   },
   {
    "duration": 6,
    "start_time": "2025-01-16T00:00:00.976Z"
   },
   {
    "duration": 213,
    "start_time": "2025-01-16T00:00:00.983Z"
   },
   {
    "duration": 171,
    "start_time": "2025-01-16T00:00:01.198Z"
   },
   {
    "duration": 203,
    "start_time": "2025-01-16T00:00:01.371Z"
   },
   {
    "duration": 168,
    "start_time": "2025-01-16T00:00:01.576Z"
   },
   {
    "duration": 153,
    "start_time": "2025-01-16T00:00:01.746Z"
   },
   {
    "duration": 271,
    "start_time": "2025-01-16T00:00:01.901Z"
   },
   {
    "duration": 280,
    "start_time": "2025-01-16T00:00:02.174Z"
   },
   {
    "duration": 233,
    "start_time": "2025-01-16T00:00:02.456Z"
   },
   {
    "duration": 4,
    "start_time": "2025-01-16T00:00:02.691Z"
   },
   {
    "duration": 471,
    "start_time": "2025-01-16T00:00:02.696Z"
   },
   {
    "duration": 6,
    "start_time": "2025-01-16T00:00:03.169Z"
   },
   {
    "duration": 13,
    "start_time": "2025-01-16T00:00:03.177Z"
   },
   {
    "duration": 9,
    "start_time": "2025-01-16T00:00:03.192Z"
   },
   {
    "duration": 29,
    "start_time": "2025-01-16T00:00:03.202Z"
   },
   {
    "duration": 13,
    "start_time": "2025-01-16T00:00:03.232Z"
   },
   {
    "duration": 10,
    "start_time": "2025-01-16T00:00:03.246Z"
   },
   {
    "duration": 838,
    "start_time": "2025-01-16T00:02:09.746Z"
   },
   {
    "duration": 38,
    "start_time": "2025-01-16T00:02:10.586Z"
   },
   {
    "duration": 3,
    "start_time": "2025-01-16T00:02:10.626Z"
   },
   {
    "duration": 11,
    "start_time": "2025-01-16T00:02:10.631Z"
   },
   {
    "duration": 7,
    "start_time": "2025-01-16T00:02:10.643Z"
   },
   {
    "duration": 4,
    "start_time": "2025-01-16T00:02:10.651Z"
   },
   {
    "duration": 89,
    "start_time": "2025-01-16T00:02:10.657Z"
   },
   {
    "duration": 5,
    "start_time": "2025-01-16T00:02:10.748Z"
   },
   {
    "duration": 4,
    "start_time": "2025-01-16T00:02:10.755Z"
   },
   {
    "duration": 3,
    "start_time": "2025-01-16T00:02:10.762Z"
   },
   {
    "duration": 16,
    "start_time": "2025-01-16T00:02:10.767Z"
   },
   {
    "duration": 4,
    "start_time": "2025-01-16T00:02:10.784Z"
   },
   {
    "duration": 36,
    "start_time": "2025-01-16T00:02:10.790Z"
   },
   {
    "duration": 7,
    "start_time": "2025-01-16T00:02:10.828Z"
   },
   {
    "duration": 5,
    "start_time": "2025-01-16T00:02:10.837Z"
   },
   {
    "duration": 194,
    "start_time": "2025-01-16T00:02:10.843Z"
   },
   {
    "duration": 171,
    "start_time": "2025-01-16T00:02:11.039Z"
   },
   {
    "duration": 202,
    "start_time": "2025-01-16T00:02:11.212Z"
   },
   {
    "duration": 154,
    "start_time": "2025-01-16T00:02:11.425Z"
   },
   {
    "duration": 152,
    "start_time": "2025-01-16T00:02:11.581Z"
   },
   {
    "duration": 270,
    "start_time": "2025-01-16T00:02:11.734Z"
   },
   {
    "duration": 306,
    "start_time": "2025-01-16T00:02:12.005Z"
   },
   {
    "duration": 221,
    "start_time": "2025-01-16T00:02:12.313Z"
   },
   {
    "duration": 5,
    "start_time": "2025-01-16T00:02:12.536Z"
   },
   {
    "duration": 461,
    "start_time": "2025-01-16T00:02:12.542Z"
   },
   {
    "duration": 6,
    "start_time": "2025-01-16T00:02:13.005Z"
   },
   {
    "duration": 9,
    "start_time": "2025-01-16T00:02:13.023Z"
   },
   {
    "duration": 8,
    "start_time": "2025-01-16T00:02:13.036Z"
   },
   {
    "duration": 10,
    "start_time": "2025-01-16T00:02:13.046Z"
   },
   {
    "duration": 13,
    "start_time": "2025-01-16T00:02:13.057Z"
   },
   {
    "duration": 11,
    "start_time": "2025-01-16T00:02:13.071Z"
   },
   {
    "duration": 10,
    "start_time": "2025-01-16T00:03:00.682Z"
   },
   {
    "duration": 832,
    "start_time": "2025-01-16T00:03:19.192Z"
   },
   {
    "duration": 39,
    "start_time": "2025-01-16T00:03:20.027Z"
   },
   {
    "duration": 4,
    "start_time": "2025-01-16T00:03:20.068Z"
   },
   {
    "duration": 13,
    "start_time": "2025-01-16T00:03:20.075Z"
   },
   {
    "duration": 7,
    "start_time": "2025-01-16T00:03:20.089Z"
   },
   {
    "duration": 26,
    "start_time": "2025-01-16T00:03:20.099Z"
   },
   {
    "duration": 68,
    "start_time": "2025-01-16T00:03:20.127Z"
   },
   {
    "duration": 30,
    "start_time": "2025-01-16T00:03:20.196Z"
   },
   {
    "duration": 5,
    "start_time": "2025-01-16T00:03:20.228Z"
   },
   {
    "duration": 3,
    "start_time": "2025-01-16T00:03:20.237Z"
   },
   {
    "duration": 17,
    "start_time": "2025-01-16T00:03:20.243Z"
   },
   {
    "duration": 4,
    "start_time": "2025-01-16T00:03:20.261Z"
   },
   {
    "duration": 4,
    "start_time": "2025-01-16T00:03:20.267Z"
   },
   {
    "duration": 7,
    "start_time": "2025-01-16T00:03:20.273Z"
   },
   {
    "duration": 44,
    "start_time": "2025-01-16T00:03:20.281Z"
   },
   {
    "duration": 181,
    "start_time": "2025-01-16T00:03:20.327Z"
   },
   {
    "duration": 174,
    "start_time": "2025-01-16T00:03:20.510Z"
   },
   {
    "duration": 225,
    "start_time": "2025-01-16T00:03:20.687Z"
   },
   {
    "duration": 165,
    "start_time": "2025-01-16T00:03:20.914Z"
   },
   {
    "duration": 174,
    "start_time": "2025-01-16T00:03:21.081Z"
   },
   {
    "duration": 274,
    "start_time": "2025-01-16T00:03:21.257Z"
   },
   {
    "duration": 293,
    "start_time": "2025-01-16T00:03:21.532Z"
   },
   {
    "duration": 246,
    "start_time": "2025-01-16T00:03:21.827Z"
   },
   {
    "duration": 5,
    "start_time": "2025-01-16T00:03:22.075Z"
   },
   {
    "duration": 494,
    "start_time": "2025-01-16T00:03:22.081Z"
   },
   {
    "duration": 6,
    "start_time": "2025-01-16T00:03:22.577Z"
   },
   {
    "duration": 9,
    "start_time": "2025-01-16T00:03:22.585Z"
   },
   {
    "duration": 10,
    "start_time": "2025-01-16T00:03:22.597Z"
   },
   {
    "duration": 10,
    "start_time": "2025-01-16T00:03:22.625Z"
   },
   {
    "duration": 13,
    "start_time": "2025-01-16T00:03:22.637Z"
   },
   {
    "duration": 11,
    "start_time": "2025-01-16T00:03:22.651Z"
   },
   {
    "duration": 822,
    "start_time": "2025-01-16T00:05:04.388Z"
   },
   {
    "duration": 39,
    "start_time": "2025-01-16T00:05:05.212Z"
   },
   {
    "duration": 3,
    "start_time": "2025-01-16T00:05:05.253Z"
   },
   {
    "duration": 13,
    "start_time": "2025-01-16T00:05:05.258Z"
   },
   {
    "duration": 6,
    "start_time": "2025-01-16T00:05:05.273Z"
   },
   {
    "duration": 5,
    "start_time": "2025-01-16T00:05:05.281Z"
   },
   {
    "duration": 91,
    "start_time": "2025-01-16T00:05:05.287Z"
   },
   {
    "duration": 8,
    "start_time": "2025-01-16T00:05:05.379Z"
   },
   {
    "duration": 5,
    "start_time": "2025-01-16T00:05:05.389Z"
   },
   {
    "duration": 3,
    "start_time": "2025-01-16T00:05:05.396Z"
   },
   {
    "duration": 38,
    "start_time": "2025-01-16T00:05:05.401Z"
   },
   {
    "duration": 4,
    "start_time": "2025-01-16T00:05:05.441Z"
   },
   {
    "duration": 6,
    "start_time": "2025-01-16T00:05:05.447Z"
   },
   {
    "duration": 9,
    "start_time": "2025-01-16T00:05:05.457Z"
   },
   {
    "duration": 7,
    "start_time": "2025-01-16T00:05:05.468Z"
   },
   {
    "duration": 279,
    "start_time": "2025-01-16T00:05:05.476Z"
   },
   {
    "duration": 205,
    "start_time": "2025-01-16T00:05:05.757Z"
   },
   {
    "duration": 220,
    "start_time": "2025-01-16T00:05:05.964Z"
   },
   {
    "duration": 180,
    "start_time": "2025-01-16T00:05:06.186Z"
   },
   {
    "duration": 161,
    "start_time": "2025-01-16T00:05:06.368Z"
   },
   {
    "duration": 275,
    "start_time": "2025-01-16T00:05:06.531Z"
   },
   {
    "duration": 299,
    "start_time": "2025-01-16T00:05:06.808Z"
   },
   {
    "duration": 259,
    "start_time": "2025-01-16T00:05:07.109Z"
   },
   {
    "duration": 5,
    "start_time": "2025-01-16T00:05:07.369Z"
   },
   {
    "duration": 506,
    "start_time": "2025-01-16T00:05:07.376Z"
   },
   {
    "duration": 6,
    "start_time": "2025-01-16T00:05:07.884Z"
   },
   {
    "duration": 9,
    "start_time": "2025-01-16T00:05:07.892Z"
   },
   {
    "duration": 33,
    "start_time": "2025-01-16T00:05:07.902Z"
   },
   {
    "duration": 10,
    "start_time": "2025-01-16T00:05:07.937Z"
   },
   {
    "duration": 12,
    "start_time": "2025-01-16T00:05:07.948Z"
   },
   {
    "duration": 11,
    "start_time": "2025-01-16T00:05:07.961Z"
   },
   {
    "duration": 850,
    "start_time": "2025-01-16T00:07:30.058Z"
   },
   {
    "duration": 36,
    "start_time": "2025-01-16T00:07:30.910Z"
   },
   {
    "duration": 3,
    "start_time": "2025-01-16T00:07:30.947Z"
   },
   {
    "duration": 11,
    "start_time": "2025-01-16T00:07:30.952Z"
   },
   {
    "duration": 5,
    "start_time": "2025-01-16T00:07:30.965Z"
   },
   {
    "duration": 3,
    "start_time": "2025-01-16T00:07:30.972Z"
   },
   {
    "duration": 81,
    "start_time": "2025-01-16T00:07:30.977Z"
   },
   {
    "duration": 6,
    "start_time": "2025-01-16T00:07:31.060Z"
   },
   {
    "duration": 5,
    "start_time": "2025-01-16T00:07:31.069Z"
   },
   {
    "duration": 4,
    "start_time": "2025-01-16T00:07:31.075Z"
   },
   {
    "duration": 17,
    "start_time": "2025-01-16T00:07:31.080Z"
   },
   {
    "duration": 4,
    "start_time": "2025-01-16T00:07:31.123Z"
   },
   {
    "duration": 4,
    "start_time": "2025-01-16T00:07:31.129Z"
   },
   {
    "duration": 6,
    "start_time": "2025-01-16T00:07:31.136Z"
   },
   {
    "duration": 6,
    "start_time": "2025-01-16T00:07:31.144Z"
   },
   {
    "duration": 228,
    "start_time": "2025-01-16T00:07:31.152Z"
   },
   {
    "duration": 166,
    "start_time": "2025-01-16T00:07:31.381Z"
   },
   {
    "duration": 202,
    "start_time": "2025-01-16T00:07:31.549Z"
   },
   {
    "duration": 161,
    "start_time": "2025-01-16T00:07:31.753Z"
   },
   {
    "duration": 158,
    "start_time": "2025-01-16T00:07:31.916Z"
   },
   {
    "duration": 268,
    "start_time": "2025-01-16T00:07:32.076Z"
   },
   {
    "duration": 284,
    "start_time": "2025-01-16T00:07:32.346Z"
   },
   {
    "duration": 228,
    "start_time": "2025-01-16T00:07:32.632Z"
   },
   {
    "duration": 4,
    "start_time": "2025-01-16T00:07:32.862Z"
   },
   {
    "duration": 482,
    "start_time": "2025-01-16T00:07:32.868Z"
   },
   {
    "duration": 6,
    "start_time": "2025-01-16T00:07:33.352Z"
   },
   {
    "duration": 11,
    "start_time": "2025-01-16T00:07:33.360Z"
   },
   {
    "duration": 9,
    "start_time": "2025-01-16T00:07:33.375Z"
   },
   {
    "duration": 11,
    "start_time": "2025-01-16T00:07:33.385Z"
   },
   {
    "duration": 38,
    "start_time": "2025-01-16T00:07:33.398Z"
   },
   {
    "duration": 11,
    "start_time": "2025-01-16T00:07:33.438Z"
   },
   {
    "duration": 796,
    "start_time": "2025-01-16T00:08:31.689Z"
   },
   {
    "duration": 31,
    "start_time": "2025-01-16T00:08:32.488Z"
   },
   {
    "duration": 4,
    "start_time": "2025-01-16T00:08:32.525Z"
   },
   {
    "duration": 11,
    "start_time": "2025-01-16T00:08:32.531Z"
   },
   {
    "duration": 6,
    "start_time": "2025-01-16T00:08:32.543Z"
   },
   {
    "duration": 4,
    "start_time": "2025-01-16T00:08:32.551Z"
   },
   {
    "duration": 122,
    "start_time": "2025-01-16T00:08:32.556Z"
   },
   {
    "duration": 5,
    "start_time": "2025-01-16T00:08:32.680Z"
   },
   {
    "duration": 5,
    "start_time": "2025-01-16T00:08:32.687Z"
   },
   {
    "duration": 2,
    "start_time": "2025-01-16T00:08:32.696Z"
   },
   {
    "duration": 17,
    "start_time": "2025-01-16T00:08:32.724Z"
   },
   {
    "duration": 3,
    "start_time": "2025-01-16T00:08:32.743Z"
   },
   {
    "duration": 4,
    "start_time": "2025-01-16T00:08:32.748Z"
   },
   {
    "duration": 7,
    "start_time": "2025-01-16T00:08:32.755Z"
   },
   {
    "duration": 5,
    "start_time": "2025-01-16T00:08:32.763Z"
   },
   {
    "duration": 198,
    "start_time": "2025-01-16T00:08:32.770Z"
   },
   {
    "duration": 171,
    "start_time": "2025-01-16T00:08:32.970Z"
   },
   {
    "duration": 206,
    "start_time": "2025-01-16T00:08:33.143Z"
   },
   {
    "duration": 160,
    "start_time": "2025-01-16T00:08:33.351Z"
   },
   {
    "duration": 155,
    "start_time": "2025-01-16T00:08:33.513Z"
   },
   {
    "duration": 279,
    "start_time": "2025-01-16T00:08:33.670Z"
   },
   {
    "duration": 288,
    "start_time": "2025-01-16T00:08:33.951Z"
   },
   {
    "duration": 224,
    "start_time": "2025-01-16T00:08:34.241Z"
   },
   {
    "duration": 5,
    "start_time": "2025-01-16T00:08:34.467Z"
   },
   {
    "duration": 475,
    "start_time": "2025-01-16T00:08:34.473Z"
   },
   {
    "duration": 5,
    "start_time": "2025-01-16T00:08:34.950Z"
   },
   {
    "duration": 9,
    "start_time": "2025-01-16T00:08:34.957Z"
   },
   {
    "duration": 8,
    "start_time": "2025-01-16T00:08:34.969Z"
   },
   {
    "duration": 9,
    "start_time": "2025-01-16T00:08:34.979Z"
   },
   {
    "duration": 36,
    "start_time": "2025-01-16T00:08:34.990Z"
   },
   {
    "duration": 11,
    "start_time": "2025-01-16T00:08:35.027Z"
   },
   {
    "duration": 226,
    "start_time": "2025-01-16T00:11:38.206Z"
   },
   {
    "duration": 10,
    "start_time": "2025-01-16T00:11:47.003Z"
   },
   {
    "duration": 21,
    "start_time": "2025-01-16T00:13:10.247Z"
   },
   {
    "duration": 11,
    "start_time": "2025-01-16T00:13:25.556Z"
   },
   {
    "duration": 820,
    "start_time": "2025-01-16T00:13:37.790Z"
   },
   {
    "duration": 36,
    "start_time": "2025-01-16T00:13:38.612Z"
   },
   {
    "duration": 4,
    "start_time": "2025-01-16T00:13:38.650Z"
   },
   {
    "duration": 12,
    "start_time": "2025-01-16T00:13:38.656Z"
   },
   {
    "duration": 5,
    "start_time": "2025-01-16T00:13:38.670Z"
   },
   {
    "duration": 3,
    "start_time": "2025-01-16T00:13:38.677Z"
   },
   {
    "duration": 11,
    "start_time": "2025-01-16T00:13:38.682Z"
   },
   {
    "duration": 31,
    "start_time": "2025-01-16T00:13:38.695Z"
   },
   {
    "duration": 5,
    "start_time": "2025-01-16T00:13:38.728Z"
   },
   {
    "duration": 3,
    "start_time": "2025-01-16T00:13:38.735Z"
   },
   {
    "duration": 16,
    "start_time": "2025-01-16T00:13:38.740Z"
   },
   {
    "duration": 4,
    "start_time": "2025-01-16T00:13:38.758Z"
   },
   {
    "duration": 5,
    "start_time": "2025-01-16T00:13:38.764Z"
   },
   {
    "duration": 7,
    "start_time": "2025-01-16T00:13:38.772Z"
   },
   {
    "duration": 49,
    "start_time": "2025-01-16T00:13:38.780Z"
   },
   {
    "duration": 181,
    "start_time": "2025-01-16T00:13:38.831Z"
   },
   {
    "duration": 168,
    "start_time": "2025-01-16T00:13:39.014Z"
   },
   {
    "duration": 216,
    "start_time": "2025-01-16T00:13:39.184Z"
   },
   {
    "duration": 165,
    "start_time": "2025-01-16T00:13:39.402Z"
   },
   {
    "duration": 165,
    "start_time": "2025-01-16T00:13:39.569Z"
   },
   {
    "duration": 265,
    "start_time": "2025-01-16T00:13:39.738Z"
   },
   {
    "duration": 283,
    "start_time": "2025-01-16T00:13:40.005Z"
   },
   {
    "duration": 225,
    "start_time": "2025-01-16T00:13:40.290Z"
   },
   {
    "duration": 10,
    "start_time": "2025-01-16T00:13:40.517Z"
   },
   {
    "duration": 435,
    "start_time": "2025-01-16T00:13:40.529Z"
   },
   {
    "duration": 6,
    "start_time": "2025-01-16T00:13:40.966Z"
   },
   {
    "duration": 10,
    "start_time": "2025-01-16T00:13:40.973Z"
   },
   {
    "duration": 9,
    "start_time": "2025-01-16T00:13:40.984Z"
   },
   {
    "duration": 35,
    "start_time": "2025-01-16T00:13:40.994Z"
   },
   {
    "duration": 13,
    "start_time": "2025-01-16T00:13:41.030Z"
   },
   {
    "duration": 11,
    "start_time": "2025-01-16T00:13:41.044Z"
   },
   {
    "duration": 799,
    "start_time": "2025-01-16T00:14:30.880Z"
   },
   {
    "duration": 34,
    "start_time": "2025-01-16T00:14:31.681Z"
   },
   {
    "duration": 3,
    "start_time": "2025-01-16T00:14:31.724Z"
   },
   {
    "duration": 10,
    "start_time": "2025-01-16T00:14:31.729Z"
   },
   {
    "duration": 5,
    "start_time": "2025-01-16T00:14:31.742Z"
   },
   {
    "duration": 3,
    "start_time": "2025-01-16T00:14:31.750Z"
   },
   {
    "duration": 129,
    "start_time": "2025-01-16T00:14:31.754Z"
   },
   {
    "duration": 6,
    "start_time": "2025-01-16T00:14:31.885Z"
   },
   {
    "duration": 4,
    "start_time": "2025-01-16T00:14:31.893Z"
   },
   {
    "duration": 3,
    "start_time": "2025-01-16T00:14:31.899Z"
   },
   {
    "duration": 16,
    "start_time": "2025-01-16T00:14:31.925Z"
   },
   {
    "duration": 3,
    "start_time": "2025-01-16T00:14:31.943Z"
   },
   {
    "duration": 5,
    "start_time": "2025-01-16T00:14:31.948Z"
   },
   {
    "duration": 6,
    "start_time": "2025-01-16T00:14:31.956Z"
   },
   {
    "duration": 5,
    "start_time": "2025-01-16T00:14:31.963Z"
   },
   {
    "duration": 203,
    "start_time": "2025-01-16T00:14:31.970Z"
   },
   {
    "duration": 167,
    "start_time": "2025-01-16T00:14:32.174Z"
   },
   {
    "duration": 200,
    "start_time": "2025-01-16T00:14:32.343Z"
   },
   {
    "duration": 159,
    "start_time": "2025-01-16T00:14:32.545Z"
   },
   {
    "duration": 153,
    "start_time": "2025-01-16T00:14:32.706Z"
   },
   {
    "duration": 269,
    "start_time": "2025-01-16T00:14:32.862Z"
   },
   {
    "duration": 287,
    "start_time": "2025-01-16T00:14:33.133Z"
   },
   {
    "duration": 227,
    "start_time": "2025-01-16T00:14:33.422Z"
   },
   {
    "duration": 5,
    "start_time": "2025-01-16T00:14:33.651Z"
   },
   {
    "duration": 488,
    "start_time": "2025-01-16T00:14:33.659Z"
   },
   {
    "duration": 5,
    "start_time": "2025-01-16T00:14:34.149Z"
   },
   {
    "duration": 10,
    "start_time": "2025-01-16T00:14:34.156Z"
   },
   {
    "duration": 9,
    "start_time": "2025-01-16T00:14:34.168Z"
   },
   {
    "duration": 10,
    "start_time": "2025-01-16T00:14:34.178Z"
   },
   {
    "duration": 42,
    "start_time": "2025-01-16T00:14:34.190Z"
   },
   {
    "duration": 12,
    "start_time": "2025-01-16T00:14:34.234Z"
   },
   {
    "duration": 12,
    "start_time": "2025-01-16T00:15:54.426Z"
   },
   {
    "duration": 840,
    "start_time": "2025-01-16T00:16:08.939Z"
   },
   {
    "duration": 32,
    "start_time": "2025-01-16T00:16:09.781Z"
   },
   {
    "duration": 12,
    "start_time": "2025-01-16T00:16:09.814Z"
   },
   {
    "duration": 11,
    "start_time": "2025-01-16T00:16:09.828Z"
   },
   {
    "duration": 5,
    "start_time": "2025-01-16T00:16:09.843Z"
   },
   {
    "duration": 3,
    "start_time": "2025-01-16T00:16:09.850Z"
   },
   {
    "duration": 117,
    "start_time": "2025-01-16T00:16:09.855Z"
   },
   {
    "duration": 5,
    "start_time": "2025-01-16T00:16:09.974Z"
   },
   {
    "duration": 5,
    "start_time": "2025-01-16T00:16:09.981Z"
   },
   {
    "duration": 3,
    "start_time": "2025-01-16T00:16:09.987Z"
   },
   {
    "duration": 37,
    "start_time": "2025-01-16T00:16:09.992Z"
   },
   {
    "duration": 4,
    "start_time": "2025-01-16T00:16:10.031Z"
   },
   {
    "duration": 5,
    "start_time": "2025-01-16T00:16:10.037Z"
   },
   {
    "duration": 7,
    "start_time": "2025-01-16T00:16:10.045Z"
   },
   {
    "duration": 5,
    "start_time": "2025-01-16T00:16:10.053Z"
   },
   {
    "duration": 210,
    "start_time": "2025-01-16T00:16:10.060Z"
   },
   {
    "duration": 164,
    "start_time": "2025-01-16T00:16:10.272Z"
   },
   {
    "duration": 220,
    "start_time": "2025-01-16T00:16:10.438Z"
   },
   {
    "duration": 158,
    "start_time": "2025-01-16T00:16:10.660Z"
   },
   {
    "duration": 152,
    "start_time": "2025-01-16T00:16:10.820Z"
   },
   {
    "duration": 279,
    "start_time": "2025-01-16T00:16:10.974Z"
   },
   {
    "duration": 291,
    "start_time": "2025-01-16T00:16:11.255Z"
   },
   {
    "duration": 221,
    "start_time": "2025-01-16T00:16:11.548Z"
   },
   {
    "duration": 4,
    "start_time": "2025-01-16T00:16:11.772Z"
   },
   {
    "duration": 484,
    "start_time": "2025-01-16T00:16:11.778Z"
   },
   {
    "duration": 6,
    "start_time": "2025-01-16T00:16:12.264Z"
   },
   {
    "duration": 10,
    "start_time": "2025-01-16T00:16:12.271Z"
   },
   {
    "duration": 9,
    "start_time": "2025-01-16T00:16:12.283Z"
   },
   {
    "duration": 30,
    "start_time": "2025-01-16T00:16:12.294Z"
   },
   {
    "duration": 16,
    "start_time": "2025-01-16T00:16:12.326Z"
   },
   {
    "duration": 11,
    "start_time": "2025-01-16T00:16:12.344Z"
   },
   {
    "duration": 807,
    "start_time": "2025-01-16T00:17:06.778Z"
   },
   {
    "duration": 31,
    "start_time": "2025-01-16T00:17:07.588Z"
   },
   {
    "duration": 5,
    "start_time": "2025-01-16T00:17:07.625Z"
   },
   {
    "duration": 13,
    "start_time": "2025-01-16T00:17:07.633Z"
   },
   {
    "duration": 5,
    "start_time": "2025-01-16T00:17:07.648Z"
   },
   {
    "duration": 4,
    "start_time": "2025-01-16T00:17:07.655Z"
   },
   {
    "duration": 118,
    "start_time": "2025-01-16T00:17:07.660Z"
   },
   {
    "duration": 6,
    "start_time": "2025-01-16T00:17:07.780Z"
   },
   {
    "duration": 5,
    "start_time": "2025-01-16T00:17:07.787Z"
   },
   {
    "duration": 3,
    "start_time": "2025-01-16T00:17:07.794Z"
   },
   {
    "duration": 46,
    "start_time": "2025-01-16T00:17:07.799Z"
   },
   {
    "duration": 3,
    "start_time": "2025-01-16T00:17:07.847Z"
   },
   {
    "duration": 6,
    "start_time": "2025-01-16T00:17:07.852Z"
   },
   {
    "duration": 10,
    "start_time": "2025-01-16T00:17:07.862Z"
   },
   {
    "duration": 6,
    "start_time": "2025-01-16T00:17:07.874Z"
   },
   {
    "duration": 199,
    "start_time": "2025-01-16T00:17:07.882Z"
   },
   {
    "duration": 169,
    "start_time": "2025-01-16T00:17:08.083Z"
   },
   {
    "duration": 207,
    "start_time": "2025-01-16T00:17:08.254Z"
   },
   {
    "duration": 155,
    "start_time": "2025-01-16T00:17:08.463Z"
   },
   {
    "duration": 152,
    "start_time": "2025-01-16T00:17:08.623Z"
   },
   {
    "duration": 276,
    "start_time": "2025-01-16T00:17:08.777Z"
   },
   {
    "duration": 285,
    "start_time": "2025-01-16T00:17:09.054Z"
   },
   {
    "duration": 218,
    "start_time": "2025-01-16T00:17:09.340Z"
   },
   {
    "duration": 5,
    "start_time": "2025-01-16T00:17:09.560Z"
   },
   {
    "duration": 506,
    "start_time": "2025-01-16T00:17:09.567Z"
   },
   {
    "duration": 6,
    "start_time": "2025-01-16T00:17:10.074Z"
   },
   {
    "duration": 9,
    "start_time": "2025-01-16T00:17:10.082Z"
   },
   {
    "duration": 31,
    "start_time": "2025-01-16T00:17:10.093Z"
   },
   {
    "duration": 9,
    "start_time": "2025-01-16T00:17:10.125Z"
   },
   {
    "duration": 11,
    "start_time": "2025-01-16T00:17:10.136Z"
   },
   {
    "duration": 12,
    "start_time": "2025-01-16T00:17:10.149Z"
   },
   {
    "duration": 824,
    "start_time": "2025-01-16T00:17:55.777Z"
   },
   {
    "duration": 36,
    "start_time": "2025-01-16T00:17:56.603Z"
   },
   {
    "duration": 4,
    "start_time": "2025-01-16T00:17:56.640Z"
   },
   {
    "duration": 12,
    "start_time": "2025-01-16T00:17:56.646Z"
   },
   {
    "duration": 5,
    "start_time": "2025-01-16T00:17:56.659Z"
   },
   {
    "duration": 3,
    "start_time": "2025-01-16T00:17:56.666Z"
   },
   {
    "duration": 108,
    "start_time": "2025-01-16T00:17:56.671Z"
   },
   {
    "duration": 5,
    "start_time": "2025-01-16T00:17:56.781Z"
   },
   {
    "duration": 5,
    "start_time": "2025-01-16T00:17:56.787Z"
   },
   {
    "duration": 3,
    "start_time": "2025-01-16T00:17:56.796Z"
   },
   {
    "duration": 37,
    "start_time": "2025-01-16T00:17:56.800Z"
   },
   {
    "duration": 4,
    "start_time": "2025-01-16T00:17:56.839Z"
   },
   {
    "duration": 4,
    "start_time": "2025-01-16T00:17:56.845Z"
   },
   {
    "duration": 7,
    "start_time": "2025-01-16T00:17:56.850Z"
   },
   {
    "duration": 5,
    "start_time": "2025-01-16T00:17:56.859Z"
   },
   {
    "duration": 195,
    "start_time": "2025-01-16T00:17:56.866Z"
   },
   {
    "duration": 176,
    "start_time": "2025-01-16T00:17:57.062Z"
   },
   {
    "duration": 202,
    "start_time": "2025-01-16T00:17:57.240Z"
   },
   {
    "duration": 171,
    "start_time": "2025-01-16T00:17:57.444Z"
   },
   {
    "duration": 160,
    "start_time": "2025-01-16T00:17:57.617Z"
   },
   {
    "duration": 284,
    "start_time": "2025-01-16T00:17:57.779Z"
   },
   {
    "duration": 316,
    "start_time": "2025-01-16T00:17:58.065Z"
   },
   {
    "duration": 230,
    "start_time": "2025-01-16T00:17:58.383Z"
   },
   {
    "duration": 10,
    "start_time": "2025-01-16T00:17:58.616Z"
   },
   {
    "duration": 450,
    "start_time": "2025-01-16T00:17:58.627Z"
   },
   {
    "duration": 7,
    "start_time": "2025-01-16T00:17:59.078Z"
   },
   {
    "duration": 9,
    "start_time": "2025-01-16T00:17:59.086Z"
   },
   {
    "duration": 26,
    "start_time": "2025-01-16T00:17:59.098Z"
   },
   {
    "duration": 10,
    "start_time": "2025-01-16T00:17:59.125Z"
   },
   {
    "duration": 13,
    "start_time": "2025-01-16T00:17:59.136Z"
   },
   {
    "duration": 10,
    "start_time": "2025-01-16T00:17:59.150Z"
   },
   {
    "duration": 817,
    "start_time": "2025-01-16T04:30:32.104Z"
   },
   {
    "duration": 34,
    "start_time": "2025-01-16T04:30:32.923Z"
   },
   {
    "duration": 3,
    "start_time": "2025-01-16T04:30:34.530Z"
   },
   {
    "duration": 12,
    "start_time": "2025-01-16T04:30:35.278Z"
   },
   {
    "duration": 6,
    "start_time": "2025-01-16T04:30:36.062Z"
   },
   {
    "duration": 4,
    "start_time": "2025-01-16T04:30:37.453Z"
   },
   {
    "duration": 95,
    "start_time": "2025-01-16T04:30:39.450Z"
   },
   {
    "duration": 3,
    "start_time": "2025-01-16T05:36:42.193Z"
   },
   {
    "duration": 32,
    "start_time": "2025-01-16T05:36:42.629Z"
   },
   {
    "duration": 5,
    "start_time": "2025-01-16T05:36:43.550Z"
   },
   {
    "duration": 12,
    "start_time": "2025-01-16T05:36:43.928Z"
   },
   {
    "duration": 6,
    "start_time": "2025-01-16T05:36:46.593Z"
   },
   {
    "duration": 5,
    "start_time": "2025-01-16T05:36:47.154Z"
   },
   {
    "duration": 394,
    "start_time": "2025-01-16T05:36:47.684Z"
   },
   {
    "duration": 23,
    "start_time": "2025-01-16T05:38:34.816Z"
   },
   {
    "duration": 3,
    "start_time": "2025-01-16T05:39:12.880Z"
   },
   {
    "duration": 30,
    "start_time": "2025-01-16T05:39:13.353Z"
   },
   {
    "duration": 3,
    "start_time": "2025-01-16T05:39:14.256Z"
   },
   {
    "duration": 14,
    "start_time": "2025-01-16T05:39:14.582Z"
   },
   {
    "duration": 7,
    "start_time": "2025-01-16T05:39:15.375Z"
   },
   {
    "duration": 4,
    "start_time": "2025-01-16T05:39:15.752Z"
   },
   {
    "duration": 15,
    "start_time": "2025-01-16T05:39:16.952Z"
   },
   {
    "duration": 14,
    "start_time": "2025-01-16T05:39:27.342Z"
   },
   {
    "duration": 15,
    "start_time": "2025-01-16T05:40:05.544Z"
   },
   {
    "duration": 808,
    "start_time": "2025-01-16T05:42:39.107Z"
   },
   {
    "duration": 32,
    "start_time": "2025-01-16T05:42:39.917Z"
   },
   {
    "duration": 3,
    "start_time": "2025-01-16T05:42:39.950Z"
   },
   {
    "duration": 10,
    "start_time": "2025-01-16T05:42:39.956Z"
   },
   {
    "duration": 5,
    "start_time": "2025-01-16T05:42:39.968Z"
   },
   {
    "duration": 4,
    "start_time": "2025-01-16T05:42:39.975Z"
   },
   {
    "duration": 47,
    "start_time": "2025-01-16T05:42:39.981Z"
   },
   {
    "duration": 5,
    "start_time": "2025-01-16T05:42:40.030Z"
   },
   {
    "duration": 5,
    "start_time": "2025-01-16T05:42:40.036Z"
   },
   {
    "duration": 3,
    "start_time": "2025-01-16T05:42:40.044Z"
   },
   {
    "duration": 16,
    "start_time": "2025-01-16T05:42:40.048Z"
   },
   {
    "duration": 3,
    "start_time": "2025-01-16T05:42:40.066Z"
   },
   {
    "duration": 4,
    "start_time": "2025-01-16T05:42:40.071Z"
   },
   {
    "duration": 5,
    "start_time": "2025-01-16T05:42:40.077Z"
   },
   {
    "duration": 44,
    "start_time": "2025-01-16T05:42:40.084Z"
   },
   {
    "duration": 162,
    "start_time": "2025-01-16T05:42:40.129Z"
   },
   {
    "duration": 167,
    "start_time": "2025-01-16T05:42:40.293Z"
   },
   {
    "duration": 189,
    "start_time": "2025-01-16T05:42:40.462Z"
   },
   {
    "duration": 161,
    "start_time": "2025-01-16T05:42:40.653Z"
   },
   {
    "duration": 155,
    "start_time": "2025-01-16T05:42:40.815Z"
   },
   {
    "duration": 280,
    "start_time": "2025-01-16T05:42:40.971Z"
   },
   {
    "duration": 282,
    "start_time": "2025-01-16T05:42:41.253Z"
   },
   {
    "duration": 226,
    "start_time": "2025-01-16T05:42:41.537Z"
   },
   {
    "duration": 4,
    "start_time": "2025-01-16T05:42:41.765Z"
   },
   {
    "duration": 478,
    "start_time": "2025-01-16T05:42:41.771Z"
   },
   {
    "duration": 6,
    "start_time": "2025-01-16T05:42:42.251Z"
   },
   {
    "duration": 9,
    "start_time": "2025-01-16T05:42:42.258Z"
   },
   {
    "duration": 8,
    "start_time": "2025-01-16T05:42:42.271Z"
   },
   {
    "duration": 10,
    "start_time": "2025-01-16T05:42:42.280Z"
   },
   {
    "duration": 40,
    "start_time": "2025-01-16T05:42:42.291Z"
   },
   {
    "duration": 10,
    "start_time": "2025-01-16T05:42:42.332Z"
   },
   {
    "duration": 12,
    "start_time": "2025-01-16T05:43:17.957Z"
   },
   {
    "duration": 13,
    "start_time": "2025-01-16T05:43:23.575Z"
   },
   {
    "duration": 782,
    "start_time": "2025-01-16T05:43:39.798Z"
   },
   {
    "duration": 32,
    "start_time": "2025-01-16T05:43:40.582Z"
   },
   {
    "duration": 3,
    "start_time": "2025-01-16T05:43:40.948Z"
   },
   {
    "duration": 11,
    "start_time": "2025-01-16T05:43:41.316Z"
   },
   {
    "duration": 5,
    "start_time": "2025-01-16T05:43:42.036Z"
   },
   {
    "duration": 4,
    "start_time": "2025-01-16T05:43:42.958Z"
   },
   {
    "duration": 282,
    "start_time": "2025-01-16T05:43:43.387Z"
   },
   {
    "duration": 18,
    "start_time": "2025-01-16T05:44:00.365Z"
   },
   {
    "duration": 799,
    "start_time": "2025-01-16T05:44:10.486Z"
   },
   {
    "duration": 37,
    "start_time": "2025-01-16T05:44:11.287Z"
   },
   {
    "duration": 3,
    "start_time": "2025-01-16T05:44:11.326Z"
   },
   {
    "duration": 11,
    "start_time": "2025-01-16T05:44:11.331Z"
   },
   {
    "duration": 5,
    "start_time": "2025-01-16T05:44:11.343Z"
   },
   {
    "duration": 4,
    "start_time": "2025-01-16T05:44:11.350Z"
   },
   {
    "duration": 15,
    "start_time": "2025-01-16T05:44:11.356Z"
   },
   {
    "duration": 5,
    "start_time": "2025-01-16T05:44:11.372Z"
   },
   {
    "duration": 4,
    "start_time": "2025-01-16T05:44:11.379Z"
   },
   {
    "duration": 2,
    "start_time": "2025-01-16T05:44:11.425Z"
   },
   {
    "duration": 16,
    "start_time": "2025-01-16T05:44:11.429Z"
   },
   {
    "duration": 4,
    "start_time": "2025-01-16T05:44:11.446Z"
   },
   {
    "duration": 5,
    "start_time": "2025-01-16T05:44:11.452Z"
   },
   {
    "duration": 6,
    "start_time": "2025-01-16T05:44:11.458Z"
   },
   {
    "duration": 6,
    "start_time": "2025-01-16T05:44:11.465Z"
   },
   {
    "duration": 192,
    "start_time": "2025-01-16T05:44:11.473Z"
   },
   {
    "duration": 171,
    "start_time": "2025-01-16T05:44:11.668Z"
   },
   {
    "duration": 199,
    "start_time": "2025-01-16T05:44:11.841Z"
   },
   {
    "duration": 165,
    "start_time": "2025-01-16T05:44:12.041Z"
   },
   {
    "duration": 154,
    "start_time": "2025-01-16T05:44:12.208Z"
   },
   {
    "duration": 278,
    "start_time": "2025-01-16T05:44:12.363Z"
   },
   {
    "duration": 281,
    "start_time": "2025-01-16T05:44:12.643Z"
   },
   {
    "duration": 230,
    "start_time": "2025-01-16T05:44:12.926Z"
   },
   {
    "duration": 5,
    "start_time": "2025-01-16T05:44:13.157Z"
   },
   {
    "duration": 487,
    "start_time": "2025-01-16T05:44:13.163Z"
   },
   {
    "duration": 5,
    "start_time": "2025-01-16T05:44:13.653Z"
   },
   {
    "duration": 9,
    "start_time": "2025-01-16T05:44:13.660Z"
   },
   {
    "duration": 8,
    "start_time": "2025-01-16T05:44:13.673Z"
   },
   {
    "duration": 9,
    "start_time": "2025-01-16T05:44:13.682Z"
   },
   {
    "duration": 41,
    "start_time": "2025-01-16T05:44:13.693Z"
   },
   {
    "duration": 11,
    "start_time": "2025-01-16T05:44:13.735Z"
   },
   {
    "duration": 12,
    "start_time": "2025-01-16T05:45:59.692Z"
   },
   {
    "duration": 4,
    "start_time": "2025-01-16T05:52:02.828Z"
   },
   {
    "duration": 827,
    "start_time": "2025-01-16T05:52:24.685Z"
   },
   {
    "duration": 39,
    "start_time": "2025-01-16T05:52:25.514Z"
   },
   {
    "duration": 4,
    "start_time": "2025-01-16T05:52:26.017Z"
   },
   {
    "duration": 12,
    "start_time": "2025-01-16T05:52:26.334Z"
   },
   {
    "duration": 6,
    "start_time": "2025-01-16T05:52:26.630Z"
   },
   {
    "duration": 6,
    "start_time": "2025-01-16T05:52:26.791Z"
   },
   {
    "duration": 24,
    "start_time": "2025-01-16T05:52:26.943Z"
   },
   {
    "duration": 4,
    "start_time": "2025-01-16T05:52:28.503Z"
   },
   {
    "duration": 11,
    "start_time": "2025-01-16T05:53:04.323Z"
   },
   {
    "duration": 12,
    "start_time": "2025-01-16T05:59:16.970Z"
   },
   {
    "duration": 3,
    "start_time": "2025-01-16T05:59:22.291Z"
   },
   {
    "duration": 3,
    "start_time": "2025-01-16T05:59:47.042Z"
   },
   {
    "duration": 796,
    "start_time": "2025-01-16T06:08:35.505Z"
   },
   {
    "duration": 35,
    "start_time": "2025-01-16T06:08:36.303Z"
   },
   {
    "duration": 3,
    "start_time": "2025-01-16T06:08:36.340Z"
   },
   {
    "duration": 10,
    "start_time": "2025-01-16T06:08:36.345Z"
   },
   {
    "duration": 6,
    "start_time": "2025-01-16T06:08:36.357Z"
   },
   {
    "duration": 4,
    "start_time": "2025-01-16T06:08:36.364Z"
   },
   {
    "duration": 18,
    "start_time": "2025-01-16T06:08:36.369Z"
   },
   {
    "duration": 36,
    "start_time": "2025-01-16T06:08:36.389Z"
   },
   {
    "duration": 5,
    "start_time": "2025-01-16T06:08:36.427Z"
   },
   {
    "duration": 5,
    "start_time": "2025-01-16T06:08:36.434Z"
   },
   {
    "duration": 16,
    "start_time": "2025-01-16T06:08:36.440Z"
   },
   {
    "duration": 3,
    "start_time": "2025-01-16T06:08:36.458Z"
   },
   {
    "duration": 5,
    "start_time": "2025-01-16T06:08:36.463Z"
   },
   {
    "duration": 5,
    "start_time": "2025-01-16T06:08:36.472Z"
   },
   {
    "duration": 45,
    "start_time": "2025-01-16T06:08:36.479Z"
   },
   {
    "duration": 161,
    "start_time": "2025-01-16T06:08:36.525Z"
   },
   {
    "duration": 165,
    "start_time": "2025-01-16T06:08:36.688Z"
   },
   {
    "duration": 188,
    "start_time": "2025-01-16T06:08:36.854Z"
   },
   {
    "duration": 159,
    "start_time": "2025-01-16T06:08:37.044Z"
   },
   {
    "duration": 147,
    "start_time": "2025-01-16T06:08:37.204Z"
   },
   {
    "duration": 294,
    "start_time": "2025-01-16T06:08:37.353Z"
   },
   {
    "duration": 291,
    "start_time": "2025-01-16T06:08:37.649Z"
   },
   {
    "duration": 236,
    "start_time": "2025-01-16T06:08:37.942Z"
   },
   {
    "duration": 10,
    "start_time": "2025-01-16T06:08:38.180Z"
   },
   {
    "duration": 460,
    "start_time": "2025-01-16T06:08:38.192Z"
   },
   {
    "duration": 6,
    "start_time": "2025-01-16T06:08:38.655Z"
   },
   {
    "duration": 9,
    "start_time": "2025-01-16T06:08:38.663Z"
   },
   {
    "duration": 10,
    "start_time": "2025-01-16T06:08:38.673Z"
   },
   {
    "duration": 10,
    "start_time": "2025-01-16T06:08:38.684Z"
   },
   {
    "duration": 36,
    "start_time": "2025-01-16T06:08:38.695Z"
   },
   {
    "duration": 12,
    "start_time": "2025-01-16T06:08:38.733Z"
   },
   {
    "duration": 323,
    "start_time": "2025-01-16T06:18:06.150Z"
   }
  ],
  "kernelspec": {
   "display_name": "Python 3 (ipykernel)",
   "language": "python",
   "name": "python3"
  },
  "language_info": {
   "codemirror_mode": {
    "name": "ipython",
    "version": 3
   },
   "file_extension": ".py",
   "mimetype": "text/x-python",
   "name": "python",
   "nbconvert_exporter": "python",
   "pygments_lexer": "ipython3",
   "version": "3.9.19"
  },
  "toc": {
   "base_numbering": 1,
   "nav_menu": {},
   "number_sections": true,
   "sideBar": true,
   "skip_h1_title": true,
   "title_cell": "Table of Contents",
   "title_sidebar": "Contents",
   "toc_cell": false,
   "toc_position": {},
   "toc_section_display": true,
   "toc_window_display": false
  }
 },
 "nbformat": 4,
 "nbformat_minor": 2
}
